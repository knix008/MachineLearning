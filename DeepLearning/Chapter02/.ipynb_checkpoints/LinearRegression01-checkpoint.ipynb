{
 "cells": [
  {
   "cell_type": "code",
   "execution_count": 13,
   "id": "2a006a8b-1746-49fd-afa3-54a275c3bb41",
   "metadata": {},
   "outputs": [],
   "source": [
    "import os\n",
    "\n",
    "os.environ['TF_CPP_MIN_LOG_LEVEL'] = \"2\""
   ]
  },
  {
   "cell_type": "code",
   "execution_count": 14,
   "id": "8b7afa03-a7f9-48bb-b38b-76dd5e7c8e05",
   "metadata": {},
   "outputs": [
    {
     "data": {
      "image/png": "[encoded data removed]",
      "text/plain": [
       "<Figure size 640x480 with 1 Axes>"
      ]
     },
     "metadata": {},
     "output_type": "display_data"
    }
   ],
   "source": [
    "import tensorflow as tf\n",
    "import numpy as np\n",
    "import matplotlib.pyplot as plt\n",
    "import pandas as pd\n",
    "import tensorflow.keras as K\n",
    "from tensorflow.keras.layers import Dense\n",
    "\n",
    "#Generate a random data\n",
    "np.random.seed(0)\n",
    "area = 2.5 * np.random.randn(100) + 25\n",
    "price = 25 * area + 5 + np.random.randint(20,50, size = len(area))\n",
    "data = np.array([area, price])\n",
    "data = pd.DataFrame(data = data.T, columns=['area','price'])\n",
    "plt.scatter(data['area'], data['price'])\n",
    "plt.show()"
   ]
  },
  {
   "cell_type": "code",
   "execution_count": 15,
   "id": "88bd8ccd-2b74-4229-b280-fc5b56b00db4",
   "metadata": {},
   "outputs": [],
   "source": [
    "data = (data - data.min()) / (data.max() - data.min())"
   ]
  },
  {
   "cell_type": "code",
   "execution_count": 16,
   "id": "7503234a-c41c-4f9a-a106-69f30ea503d8",
   "metadata": {},
   "outputs": [
    {
     "name": "stdout",
     "output_type": "stream",
     "text": [
      "Model: \"sequential_1\"\n",
      "_________________________________________________________________\n",
      " Layer (type)                Output Shape              Param #   \n",
      "=================================================================\n",
      " dense_1 (Dense)             (None, 1)                 2         \n",
      "                                                                 \n",
      "=================================================================\n",
      "Total params: 2\n",
      "Trainable params: 2\n",
      "Non-trainable params: 0\n",
      "_________________________________________________________________\n"
     ]
    }
   ],
   "source": [
    "model = K.Sequential([Dense(1, input_shape = [1,], activation=None)])\n",
    "model.summary()"
   ]
  },
  {
   "cell_type": "code",
   "execution_count": 17,
   "id": "f7c8f28c-f606-4ae5-afb4-83a0a2523438",
   "metadata": {},
   "outputs": [],
   "source": [
    "model.compile(loss='mean_squared_error', optimizer='sgd')"
   ]
  },
  {
   "cell_type": "code",
   "execution_count": 18,
   "id": "14eb8475-c331-49a4-bb3a-75f4a20fe004",
   "metadata": {},
   "outputs": [
    {
     "name": "stdout",
     "output_type": "stream",
     "text": [
      "Epoch 1/100\n",
      "3/3 [==============================] - 0s 41ms/step - loss: 0.0186 - val_loss: 0.0258\n",
      "Epoch 2/100\n",
      "3/3 [==============================] - 0s 20ms/step - loss: 0.0161 - val_loss: 0.0229\n",
      "Epoch 3/100\n",
      "3/3 [==============================] - 0s 20ms/step - loss: 0.0140 - val_loss: 0.0204\n",
      "Epoch 4/100\n",
      "3/3 [==============================] - 0s 26ms/step - loss: 0.0122 - val_loss: 0.0182\n",
      "Epoch 5/100\n",
      "3/3 [==============================] - 0s 16ms/step - loss: 0.0106 - val_loss: 0.0163\n",
      "Epoch 6/100\n",
      "3/3 [==============================] - 0s 17ms/step - loss: 0.0093 - val_loss: 0.0146\n",
      "Epoch 7/100\n",
      "3/3 [==============================] - 0s 23ms/step - loss: 0.0082 - val_loss: 0.0131\n",
      "Epoch 8/100\n",
      "3/3 [==============================] - 0s 24ms/step - loss: 0.0072 - val_loss: 0.0118\n",
      "Epoch 9/100\n",
      "3/3 [==============================] - 0s 22ms/step - loss: 0.0063 - val_loss: 0.0106\n",
      "Epoch 10/100\n",
      "3/3 [==============================] - 0s 24ms/step - loss: 0.0055 - val_loss: 0.0096\n",
      "Epoch 11/100\n",
      "3/3 [==============================] - 0s 21ms/step - loss: 0.0049 - val_loss: 0.0088\n",
      "Epoch 12/100\n",
      "3/3 [==============================] - 0s 22ms/step - loss: 0.0044 - val_loss: 0.0080\n",
      "Epoch 13/100\n",
      "3/3 [==============================] - 0s 16ms/step - loss: 0.0039 - val_loss: 0.0074\n",
      "Epoch 14/100\n",
      "3/3 [==============================] - 0s 24ms/step - loss: 0.0036 - val_loss: 0.0068\n",
      "Epoch 15/100\n",
      "3/3 [==============================] - 0s 34ms/step - loss: 0.0032 - val_loss: 0.0062\n",
      "Epoch 16/100\n",
      "3/3 [==============================] - 0s 30ms/step - loss: 0.0029 - val_loss: 0.0058\n",
      "Epoch 17/100\n",
      "3/3 [==============================] - 0s 25ms/step - loss: 0.0027 - val_loss: 0.0054\n",
      "Epoch 18/100\n",
      "3/3 [==============================] - 0s 18ms/step - loss: 0.0025 - val_loss: 0.0050\n",
      "Epoch 19/100\n",
      "3/3 [==============================] - 0s 19ms/step - loss: 0.0023 - val_loss: 0.0047\n",
      "Epoch 20/100\n",
      "3/3 [==============================] - 0s 18ms/step - loss: 0.0022 - val_loss: 0.0044\n",
      "Epoch 21/100\n",
      "3/3 [==============================] - 0s 17ms/step - loss: 0.0020 - val_loss: 0.0042\n",
      "Epoch 22/100\n",
      "3/3 [==============================] - 0s 22ms/step - loss: 0.0019 - val_loss: 0.0040\n",
      "Epoch 23/100\n",
      "3/3 [==============================] - 0s 20ms/step - loss: 0.0018 - val_loss: 0.0038\n",
      "Epoch 24/100\n",
      "3/3 [==============================] - 0s 15ms/step - loss: 0.0017 - val_loss: 0.0036\n",
      "Epoch 25/100\n",
      "3/3 [==============================] - 0s 15ms/step - loss: 0.0017 - val_loss: 0.0035\n",
      "Epoch 26/100\n",
      "3/3 [==============================] - 0s 12ms/step - loss: 0.0016 - val_loss: 0.0033\n",
      "Epoch 27/100\n",
      "3/3 [==============================] - 0s 21ms/step - loss: 0.0016 - val_loss: 0.0032\n",
      "Epoch 28/100\n",
      "3/3 [==============================] - 0s 19ms/step - loss: 0.0015 - val_loss: 0.0031\n",
      "Epoch 29/100\n",
      "3/3 [==============================] - 0s 15ms/step - loss: 0.0015 - val_loss: 0.0030\n",
      "Epoch 30/100\n",
      "3/3 [==============================] - 0s 20ms/step - loss: 0.0014 - val_loss: 0.0029\n",
      "Epoch 31/100\n",
      "3/3 [==============================] - 0s 37ms/step - loss: 0.0014 - val_loss: 0.0028\n",
      "Epoch 32/100\n",
      "3/3 [==============================] - 0s 16ms/step - loss: 0.0014 - val_loss: 0.0027\n",
      "Epoch 33/100\n",
      "3/3 [==============================] - 0s 18ms/step - loss: 0.0014 - val_loss: 0.0027\n",
      "Epoch 34/100\n",
      "3/3 [==============================] - 0s 17ms/step - loss: 0.0014 - val_loss: 0.0026\n",
      "Epoch 35/100\n",
      "3/3 [==============================] - 0s 22ms/step - loss: 0.0013 - val_loss: 0.0025\n",
      "Epoch 36/100\n",
      "3/3 [==============================] - 0s 15ms/step - loss: 0.0013 - val_loss: 0.0025\n",
      "Epoch 37/100\n",
      "3/3 [==============================] - 0s 22ms/step - loss: 0.0013 - val_loss: 0.0024\n",
      "Epoch 38/100\n",
      "3/3 [==============================] - 0s 12ms/step - loss: 0.0013 - val_loss: 0.0024\n",
      "Epoch 39/100\n",
      "3/3 [==============================] - 0s 22ms/step - loss: 0.0013 - val_loss: 0.0023\n",
      "Epoch 40/100\n",
      "3/3 [==============================] - 0s 20ms/step - loss: 0.0013 - val_loss: 0.0023\n",
      "Epoch 41/100\n",
      "3/3 [==============================] - 0s 18ms/step - loss: 0.0013 - val_loss: 0.0023\n",
      "Epoch 42/100\n",
      "3/3 [==============================] - 0s 18ms/step - loss: 0.0013 - val_loss: 0.0022\n",
      "Epoch 43/100\n",
      "3/3 [==============================] - 0s 17ms/step - loss: 0.0013 - val_loss: 0.0022\n",
      "Epoch 44/100\n",
      "3/3 [==============================] - 0s 20ms/step - loss: 0.0013 - val_loss: 0.0022\n",
      "Epoch 45/100\n",
      "3/3 [==============================] - 0s 19ms/step - loss: 0.0013 - val_loss: 0.0022\n",
      "Epoch 46/100\n",
      "3/3 [==============================] - 0s 20ms/step - loss: 0.0013 - val_loss: 0.0021\n",
      "Epoch 47/100\n",
      "3/3 [==============================] - 0s 17ms/step - loss: 0.0012 - val_loss: 0.0021\n",
      "Epoch 48/100\n",
      "3/3 [==============================] - 0s 13ms/step - loss: 0.0012 - val_loss: 0.0021\n",
      "Epoch 49/100\n",
      "3/3 [==============================] - 0s 11ms/step - loss: 0.0012 - val_loss: 0.0021\n",
      "Epoch 50/100\n",
      "3/3 [==============================] - 0s 14ms/step - loss: 0.0012 - val_loss: 0.0021\n",
      "Epoch 51/100\n",
      "3/3 [==============================] - 0s 21ms/step - loss: 0.0012 - val_loss: 0.0021\n",
      "Epoch 52/100\n",
      "3/3 [==============================] - 0s 42ms/step - loss: 0.0012 - val_loss: 0.0021\n",
      "Epoch 53/100\n",
      "3/3 [==============================] - 0s 29ms/step - loss: 0.0012 - val_loss: 0.0020\n",
      "Epoch 54/100\n",
      "3/3 [==============================] - 0s 16ms/step - loss: 0.0012 - val_loss: 0.0020\n",
      "Epoch 55/100\n",
      "3/3 [==============================] - 0s 14ms/step - loss: 0.0012 - val_loss: 0.0020\n",
      "Epoch 56/100\n",
      "3/3 [==============================] - 0s 11ms/step - loss: 0.0012 - val_loss: 0.0020\n",
      "Epoch 57/100\n",
      "3/3 [==============================] - 0s 11ms/step - loss: 0.0012 - val_loss: 0.0020\n",
      "Epoch 58/100\n",
      "3/3 [==============================] - 0s 11ms/step - loss: 0.0012 - val_loss: 0.0020\n",
      "Epoch 59/100\n",
      "3/3 [==============================] - 0s 11ms/step - loss: 0.0012 - val_loss: 0.0020\n",
      "Epoch 60/100\n",
      "3/3 [==============================] - 0s 12ms/step - loss: 0.0012 - val_loss: 0.0020\n",
      "Epoch 61/100\n",
      "3/3 [==============================] - 0s 11ms/step - loss: 0.0012 - val_loss: 0.0020\n",
      "Epoch 62/100\n",
      "3/3 [==============================] - 0s 12ms/step - loss: 0.0012 - val_loss: 0.0019\n",
      "Epoch 63/100\n",
      "3/3 [==============================] - 0s 11ms/step - loss: 0.0012 - val_loss: 0.0019\n",
      "Epoch 64/100\n",
      "3/3 [==============================] - 0s 11ms/step - loss: 0.0012 - val_loss: 0.0019\n",
      "Epoch 65/100\n",
      "3/3 [==============================] - 0s 11ms/step - loss: 0.0012 - val_loss: 0.0019\n",
      "Epoch 66/100\n",
      "3/3 [==============================] - 0s 11ms/step - loss: 0.0012 - val_loss: 0.0019\n",
      "Epoch 67/100\n",
      "3/3 [==============================] - 0s 12ms/step - loss: 0.0012 - val_loss: 0.0019\n",
      "Epoch 68/100\n",
      "3/3 [==============================] - 0s 12ms/step - loss: 0.0012 - val_loss: 0.0019\n",
      "Epoch 69/100\n",
      "3/3 [==============================] - 0s 13ms/step - loss: 0.0012 - val_loss: 0.0019\n",
      "Epoch 70/100\n",
      "3/3 [==============================] - 0s 12ms/step - loss: 0.0012 - val_loss: 0.0019\n",
      "Epoch 71/100\n",
      "3/3 [==============================] - 0s 11ms/step - loss: 0.0012 - val_loss: 0.0019\n",
      "Epoch 72/100\n",
      "3/3 [==============================] - 0s 12ms/step - loss: 0.0012 - val_loss: 0.0019\n",
      "Epoch 73/100\n",
      "3/3 [==============================] - 0s 10ms/step - loss: 0.0012 - val_loss: 0.0019\n",
      "Epoch 74/100\n",
      "3/3 [==============================] - 0s 14ms/step - loss: 0.0012 - val_loss: 0.0019\n",
      "Epoch 75/100\n",
      "3/3 [==============================] - 0s 22ms/step - loss: 0.0012 - val_loss: 0.0019\n",
      "Epoch 76/100\n",
      "3/3 [==============================] - 0s 11ms/step - loss: 0.0012 - val_loss: 0.0019\n",
      "Epoch 77/100\n",
      "3/3 [==============================] - 0s 11ms/step - loss: 0.0012 - val_loss: 0.0019\n",
      "Epoch 78/100\n",
      "3/3 [==============================] - 0s 19ms/step - loss: 0.0012 - val_loss: 0.0019\n",
      "Epoch 79/100\n",
      "3/3 [==============================] - 0s 11ms/step - loss: 0.0012 - val_loss: 0.0019\n",
      "Epoch 80/100\n",
      "3/3 [==============================] - 0s 11ms/step - loss: 0.0012 - val_loss: 0.0019\n",
      "Epoch 81/100\n",
      "3/3 [==============================] - 0s 20ms/step - loss: 0.0012 - val_loss: 0.0019\n",
      "Epoch 82/100\n",
      "3/3 [==============================] - 0s 22ms/step - loss: 0.0012 - val_loss: 0.0019\n",
      "Epoch 83/100\n",
      "3/3 [==============================] - 0s 24ms/step - loss: 0.0012 - val_loss: 0.0019\n",
      "Epoch 84/100\n",
      "3/3 [==============================] - 0s 28ms/step - loss: 0.0012 - val_loss: 0.0019\n",
      "Epoch 85/100\n",
      "3/3 [==============================] - 0s 13ms/step - loss: 0.0012 - val_loss: 0.0019\n",
      "Epoch 86/100\n",
      "3/3 [==============================] - 0s 16ms/step - loss: 0.0012 - val_loss: 0.0019\n",
      "Epoch 87/100\n",
      "3/3 [==============================] - 0s 11ms/step - loss: 0.0012 - val_loss: 0.0019\n",
      "Epoch 88/100\n",
      "3/3 [==============================] - 0s 19ms/step - loss: 0.0012 - val_loss: 0.0019\n",
      "Epoch 89/100\n",
      "3/3 [==============================] - 0s 15ms/step - loss: 0.0012 - val_loss: 0.0018\n",
      "Epoch 90/100\n",
      "3/3 [==============================] - 0s 34ms/step - loss: 0.0012 - val_loss: 0.0019\n",
      "Epoch 91/100\n",
      "3/3 [==============================] - 0s 18ms/step - loss: 0.0012 - val_loss: 0.0019\n",
      "Epoch 92/100\n",
      "3/3 [==============================] - 0s 12ms/step - loss: 0.0012 - val_loss: 0.0019\n",
      "Epoch 93/100\n",
      "3/3 [==============================] - 0s 23ms/step - loss: 0.0012 - val_loss: 0.0019\n",
      "Epoch 94/100\n",
      "3/3 [==============================] - 0s 15ms/step - loss: 0.0012 - val_loss: 0.0019\n",
      "Epoch 95/100\n",
      "3/3 [==============================] - 0s 14ms/step - loss: 0.0012 - val_loss: 0.0019\n",
      "Epoch 96/100\n",
      "3/3 [==============================] - 0s 26ms/step - loss: 0.0012 - val_loss: 0.0018\n",
      "Epoch 97/100\n",
      "3/3 [==============================] - 0s 26ms/step - loss: 0.0012 - val_loss: 0.0019\n",
      "Epoch 98/100\n",
      "3/3 [==============================] - 0s 26ms/step - loss: 0.0012 - val_loss: 0.0018\n",
      "Epoch 99/100\n",
      "3/3 [==============================] - 0s 32ms/step - loss: 0.0012 - val_loss: 0.0018\n",
      "Epoch 100/100\n",
      "3/3 [==============================] - 0s 21ms/step - loss: 0.0012 - val_loss: 0.0018\n"
     ]
    },
    {
     "data": {
      "text/plain": [
       "<keras.callbacks.History at 0x767370b89090>"
      ]
     },
     "execution_count": 18,
     "metadata": {},
     "output_type": "execute_result"
    }
   ],
   "source": [
    "model.fit(x=data['area'],y=data['price'], epochs=100, batch_size=32, \n",
    "          verbose=1, validation_split=0.2)"
   ]
  },
  {
   "cell_type": "code",
   "execution_count": 19,
   "id": "abaf1256-9440-4175-bb97-79b8b5141ef2",
   "metadata": {},
   "outputs": [
    {
     "name": "stdout",
     "output_type": "stream",
     "text": [
      "4/4 [==============================] - 0s 3ms/step\n"
     ]
    }
   ],
   "source": [
    "y_pred = model.predict(data['area'])"
   ]
  },
  {
   "cell_type": "code",
   "execution_count": 20,
   "id": "ae93883a-8d7b-4f15-aba4-c06371fe4e35",
   "metadata": {},
   "outputs": [
    {
     "data": {
      "text/plain": [
       "<matplotlib.legend.Legend at 0x76737090c310>"
      ]
     },
     "execution_count": 20,
     "metadata": {},
     "output_type": "execute_result"
    },
    {
     "data": {
      "image/png": "[encoded data removed]",
      "text/plain": [
       "<Figure size 640x480 with 1 Axes>"
      ]
     },
     "metadata": {},
     "output_type": "display_data"
    }
   ],
   "source": [
    "plt.plot(data['area'], y_pred, color='red',label=\"Predicted Price\")\n",
    "plt.scatter(data['area'], data['price'], label=\"Training Data\")\n",
    "plt.xlabel(\"Area\")\n",
    "plt.ylabel(\"Price\")\n",
    "plt.legend()"
   ]
  },
  {
   "cell_type": "code",
   "execution_count": 21,
   "id": "e08fc80a-dca5-49e5-881e-1c8692b70264",
   "metadata": {},
   "outputs": [
    {
     "name": "stdout",
     "output_type": "stream",
     "text": [
      "[<tf.Variable 'dense_1/kernel:0' shape=(1, 1) dtype=float32, numpy=array([[1.0992445]], dtype=float32)>, <tf.Variable 'dense_1/bias:0' shape=(1,) dtype=float32, numpy=array([-0.09374534], dtype=float32)>]\n"
     ]
    }
   ],
   "source": [
    "print(model.weights)"
   ]
  },
  {
   "cell_type": "code",
   "execution_count": null,
   "id": "2f001e84-aa48-4379-a5a9-3bd0b3722e53",
   "metadata": {},
   "outputs": [],
   "source": []
  }
 ],
 "metadata": {
  "kernelspec": {
   "display_name": "Python 3 (ipykernel)",
   "language": "python",
   "name": "python3"
  },
  "language_info": {
   "codemirror_mode": {
    "name": "ipython",
    "version": 3
   },
   "file_extension": ".py",
   "mimetype": "text/x-python",
   "name": "python",
   "nbconvert_exporter": "python",
   "pygments_lexer": "ipython3",
   "version": "3.11.5"
  }
 },
 "nbformat": 4,
 "nbformat_minor": 5
}
