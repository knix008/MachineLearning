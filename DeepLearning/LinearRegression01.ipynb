{
 "cells": [
  {
   "cell_type": "code",
   "execution_count": 2,
   "id": "2a006a8b-1746-49fd-afa3-54a275c3bb41",
   "metadata": {},
   "outputs": [],
   "source": [
    "import os\n",
    "\n",
    "os.environ['TF_CPP_MIN_LOG_LEVEL'] = \"2\""
   ]
  },
  {
   "cell_type": "code",
   "execution_count": 3,
   "id": "8b7afa03-a7f9-48bb-b38b-76dd5e7c8e05",
   "metadata": {},
   "outputs": [
    {
     "data": {
      "image/png": "[encoded data removed]",
      "text/plain": [
       "<Figure size 640x480 with 1 Axes>"
      ]
     },
     "metadata": {},
     "output_type": "display_data"
    }
   ],
   "source": [
    "import tensorflow as tf\n",
    "import numpy as np\n",
    "import matplotlib.pyplot as plt\n",
    "import pandas as pd\n",
    "import tensorflow.keras as K\n",
    "from tensorflow.keras.layers import Dense\n",
    "\n",
    "#Generate a random data\n",
    "np.random.seed(0)\n",
    "area = 2.5 * np.random.randn(100) + 25\n",
    "price = 25 * area + 5 + np.random.randint(20,50, size = len(area))\n",
    "data = np.array([area, price])\n",
    "data = pd.DataFrame(data = data.T, columns=['area','price'])\n",
    "plt.scatter(data['area'], data['price'])\n",
    "plt.show()"
   ]
  },
  {
   "cell_type": "code",
   "execution_count": 4,
   "id": "88bd8ccd-2b74-4229-b280-fc5b56b00db4",
   "metadata": {},
   "outputs": [],
   "source": [
    "data = (data - data.min()) / (data.max() - data.min())"
   ]
  },
  {
   "cell_type": "code",
   "execution_count": 5,
   "id": "7503234a-c41c-4f9a-a106-69f30ea503d8",
   "metadata": {},
   "outputs": [
    {
     "name": "stdout",
     "output_type": "stream",
     "text": [
      "Model: \"sequential\"\n",
      "_________________________________________________________________\n",
      " Layer (type)                Output Shape              Param #   \n",
      "=================================================================\n",
      " dense (Dense)               (None, 1)                 2         \n",
      "                                                                 \n",
      "=================================================================\n",
      "Total params: 2\n",
      "Trainable params: 2\n",
      "Non-trainable params: 0\n",
      "_________________________________________________________________\n"
     ]
    },
    {
     "name": "stderr",
     "output_type": "stream",
     "text": [
      "2024-07-13 13:50:16.599167: I tensorflow/core/common_runtime/process_util.cc:146] Creating new thread pool with default inter op setting: 2. Tune using inter_op_parallelism_threads for best performance.\n"
     ]
    }
   ],
   "source": [
    "model = K.Sequential([Dense(1, input_shape = [1,], activation=None)])\n",
    "model.summary()"
   ]
  },
  {
   "cell_type": "code",
   "execution_count": 6,
   "id": "f7c8f28c-f606-4ae5-afb4-83a0a2523438",
   "metadata": {},
   "outputs": [],
   "source": [
    "model.compile(loss='mean_squared_error', optimizer='sgd')"
   ]
  },
  {
   "cell_type": "code",
   "execution_count": 7,
   "id": "14eb8475-c331-49a4-bb3a-75f4a20fe004",
   "metadata": {},
   "outputs": [
    {
     "name": "stdout",
     "output_type": "stream",
     "text": [
      "Epoch 1/100\n",
      "3/3 [==============================] - 0s 55ms/step - loss: 0.0363 - val_loss: 0.0380\n",
      "Epoch 2/100\n",
      "3/3 [==============================] - 0s 20ms/step - loss: 0.0320 - val_loss: 0.0336\n",
      "Epoch 3/100\n",
      "3/3 [==============================] - 0s 24ms/step - loss: 0.0283 - val_loss: 0.0295\n",
      "Epoch 4/100\n",
      "3/3 [==============================] - 0s 17ms/step - loss: 0.0251 - val_loss: 0.0263\n",
      "Epoch 5/100\n",
      "3/3 [==============================] - 0s 27ms/step - loss: 0.0224 - val_loss: 0.0235\n",
      "Epoch 6/100\n",
      "3/3 [==============================] - 0s 22ms/step - loss: 0.0201 - val_loss: 0.0209\n",
      "Epoch 7/100\n",
      "3/3 [==============================] - 0s 21ms/step - loss: 0.0180 - val_loss: 0.0187\n",
      "Epoch 8/100\n",
      "3/3 [==============================] - 0s 18ms/step - loss: 0.0163 - val_loss: 0.0168\n",
      "Epoch 9/100\n",
      "3/3 [==============================] - 0s 18ms/step - loss: 0.0147 - val_loss: 0.0151\n",
      "Epoch 10/100\n",
      "3/3 [==============================] - 0s 25ms/step - loss: 0.0134 - val_loss: 0.0138\n",
      "Epoch 11/100\n",
      "3/3 [==============================] - 0s 18ms/step - loss: 0.0123 - val_loss: 0.0125\n",
      "Epoch 12/100\n",
      "3/3 [==============================] - 0s 11ms/step - loss: 0.0114 - val_loss: 0.0114\n",
      "Epoch 13/100\n",
      "3/3 [==============================] - 0s 21ms/step - loss: 0.0105 - val_loss: 0.0105\n",
      "Epoch 14/100\n",
      "3/3 [==============================] - 0s 25ms/step - loss: 0.0098 - val_loss: 0.0097\n",
      "Epoch 15/100\n",
      "3/3 [==============================] - 0s 12ms/step - loss: 0.0092 - val_loss: 0.0090\n",
      "Epoch 16/100\n",
      "3/3 [==============================] - 0s 23ms/step - loss: 0.0087 - val_loss: 0.0084\n",
      "Epoch 17/100\n",
      "3/3 [==============================] - 0s 26ms/step - loss: 0.0083 - val_loss: 0.0079\n",
      "Epoch 18/100\n",
      "3/3 [==============================] - 0s 11ms/step - loss: 0.0079 - val_loss: 0.0075\n",
      "Epoch 19/100\n",
      "3/3 [==============================] - 0s 21ms/step - loss: 0.0076 - val_loss: 0.0071\n",
      "Epoch 20/100\n",
      "3/3 [==============================] - 0s 21ms/step - loss: 0.0073 - val_loss: 0.0068\n",
      "Epoch 21/100\n",
      "3/3 [==============================] - 0s 23ms/step - loss: 0.0071 - val_loss: 0.0064\n",
      "Epoch 22/100\n",
      "3/3 [==============================] - 0s 13ms/step - loss: 0.0068 - val_loss: 0.0061\n",
      "Epoch 23/100\n",
      "3/3 [==============================] - 0s 22ms/step - loss: 0.0066 - val_loss: 0.0059\n",
      "Epoch 24/100\n",
      "3/3 [==============================] - 0s 19ms/step - loss: 0.0064 - val_loss: 0.0057\n",
      "Epoch 25/100\n",
      "3/3 [==============================] - 0s 13ms/step - loss: 0.0063 - val_loss: 0.0055\n",
      "Epoch 26/100\n",
      "3/3 [==============================] - 0s 30ms/step - loss: 0.0062 - val_loss: 0.0054\n",
      "Epoch 27/100\n",
      "3/3 [==============================] - 0s 16ms/step - loss: 0.0061 - val_loss: 0.0052\n",
      "Epoch 28/100\n",
      "3/3 [==============================] - 0s 22ms/step - loss: 0.0060 - val_loss: 0.0051\n",
      "Epoch 29/100\n",
      "3/3 [==============================] - 0s 18ms/step - loss: 0.0059 - val_loss: 0.0050\n",
      "Epoch 30/100\n",
      "3/3 [==============================] - 0s 11ms/step - loss: 0.0058 - val_loss: 0.0049\n",
      "Epoch 31/100\n",
      "3/3 [==============================] - 0s 15ms/step - loss: 0.0058 - val_loss: 0.0048\n",
      "Epoch 32/100\n",
      "3/3 [==============================] - 0s 24ms/step - loss: 0.0057 - val_loss: 0.0047\n",
      "Epoch 33/100\n",
      "3/3 [==============================] - 0s 16ms/step - loss: 0.0056 - val_loss: 0.0046\n",
      "Epoch 34/100\n",
      "3/3 [==============================] - 0s 24ms/step - loss: 0.0056 - val_loss: 0.0045\n",
      "Epoch 35/100\n",
      "3/3 [==============================] - 0s 28ms/step - loss: 0.0056 - val_loss: 0.0045\n",
      "Epoch 36/100\n",
      "3/3 [==============================] - 0s 17ms/step - loss: 0.0055 - val_loss: 0.0044\n",
      "Epoch 37/100\n",
      "3/3 [==============================] - 0s 23ms/step - loss: 0.0055 - val_loss: 0.0044\n",
      "Epoch 38/100\n",
      "3/3 [==============================] - 0s 25ms/step - loss: 0.0055 - val_loss: 0.0044\n",
      "Epoch 39/100\n",
      "3/3 [==============================] - 0s 13ms/step - loss: 0.0054 - val_loss: 0.0043\n",
      "Epoch 40/100\n",
      "3/3 [==============================] - 0s 18ms/step - loss: 0.0054 - val_loss: 0.0043\n",
      "Epoch 41/100\n",
      "3/3 [==============================] - 0s 24ms/step - loss: 0.0054 - val_loss: 0.0042\n",
      "Epoch 42/100\n",
      "3/3 [==============================] - 0s 12ms/step - loss: 0.0053 - val_loss: 0.0042\n",
      "Epoch 43/100\n",
      "3/3 [==============================] - 0s 27ms/step - loss: 0.0053 - val_loss: 0.0041\n",
      "Epoch 44/100\n",
      "3/3 [==============================] - 0s 20ms/step - loss: 0.0053 - val_loss: 0.0041\n",
      "Epoch 45/100\n",
      "3/3 [==============================] - 0s 22ms/step - loss: 0.0053 - val_loss: 0.0041\n",
      "Epoch 46/100\n",
      "3/3 [==============================] - 0s 22ms/step - loss: 0.0052 - val_loss: 0.0041\n",
      "Epoch 47/100\n",
      "3/3 [==============================] - 0s 20ms/step - loss: 0.0052 - val_loss: 0.0040\n",
      "Epoch 48/100\n",
      "3/3 [==============================] - 0s 12ms/step - loss: 0.0052 - val_loss: 0.0040\n",
      "Epoch 49/100\n",
      "3/3 [==============================] - 0s 25ms/step - loss: 0.0052 - val_loss: 0.0040\n",
      "Epoch 50/100\n",
      "3/3 [==============================] - 0s 33ms/step - loss: 0.0052 - val_loss: 0.0040\n",
      "Epoch 51/100\n",
      "3/3 [==============================] - 0s 18ms/step - loss: 0.0051 - val_loss: 0.0039\n",
      "Epoch 52/100\n",
      "3/3 [==============================] - 0s 20ms/step - loss: 0.0051 - val_loss: 0.0039\n",
      "Epoch 53/100\n",
      "3/3 [==============================] - 0s 25ms/step - loss: 0.0051 - val_loss: 0.0039\n",
      "Epoch 54/100\n",
      "3/3 [==============================] - 0s 18ms/step - loss: 0.0051 - val_loss: 0.0039\n",
      "Epoch 55/100\n",
      "3/3 [==============================] - 0s 21ms/step - loss: 0.0051 - val_loss: 0.0038\n",
      "Epoch 56/100\n",
      "3/3 [==============================] - 0s 16ms/step - loss: 0.0050 - val_loss: 0.0038\n",
      "Epoch 57/100\n",
      "3/3 [==============================] - 0s 15ms/step - loss: 0.0050 - val_loss: 0.0038\n",
      "Epoch 58/100\n",
      "3/3 [==============================] - 0s 18ms/step - loss: 0.0050 - val_loss: 0.0038\n",
      "Epoch 59/100\n",
      "3/3 [==============================] - 0s 14ms/step - loss: 0.0050 - val_loss: 0.0038\n",
      "Epoch 60/100\n",
      "3/3 [==============================] - 0s 14ms/step - loss: 0.0050 - val_loss: 0.0038\n",
      "Epoch 61/100\n",
      "3/3 [==============================] - 0s 13ms/step - loss: 0.0049 - val_loss: 0.0037\n",
      "Epoch 62/100\n",
      "3/3 [==============================] - 0s 12ms/step - loss: 0.0049 - val_loss: 0.0037\n",
      "Epoch 63/100\n",
      "3/3 [==============================] - 0s 13ms/step - loss: 0.0049 - val_loss: 0.0037\n",
      "Epoch 64/100\n",
      "3/3 [==============================] - 0s 17ms/step - loss: 0.0049 - val_loss: 0.0037\n",
      "Epoch 65/100\n",
      "3/3 [==============================] - 0s 12ms/step - loss: 0.0049 - val_loss: 0.0037\n",
      "Epoch 66/100\n",
      "3/3 [==============================] - 0s 13ms/step - loss: 0.0049 - val_loss: 0.0037\n",
      "Epoch 67/100\n",
      "3/3 [==============================] - 0s 15ms/step - loss: 0.0048 - val_loss: 0.0036\n",
      "Epoch 68/100\n",
      "3/3 [==============================] - 0s 18ms/step - loss: 0.0048 - val_loss: 0.0036\n",
      "Epoch 69/100\n",
      "3/3 [==============================] - 0s 15ms/step - loss: 0.0048 - val_loss: 0.0036\n",
      "Epoch 70/100\n",
      "3/3 [==============================] - 0s 13ms/step - loss: 0.0048 - val_loss: 0.0036\n",
      "Epoch 71/100\n",
      "3/3 [==============================] - 0s 12ms/step - loss: 0.0048 - val_loss: 0.0036\n",
      "Epoch 72/100\n",
      "3/3 [==============================] - 0s 12ms/step - loss: 0.0048 - val_loss: 0.0036\n",
      "Epoch 73/100\n",
      "3/3 [==============================] - 0s 19ms/step - loss: 0.0047 - val_loss: 0.0036\n",
      "Epoch 74/100\n",
      "3/3 [==============================] - 0s 13ms/step - loss: 0.0047 - val_loss: 0.0035\n",
      "Epoch 75/100\n",
      "3/3 [==============================] - 0s 13ms/step - loss: 0.0047 - val_loss: 0.0035\n",
      "Epoch 76/100\n",
      "3/3 [==============================] - 0s 12ms/step - loss: 0.0047 - val_loss: 0.0035\n",
      "Epoch 77/100\n",
      "3/3 [==============================] - 0s 15ms/step - loss: 0.0047 - val_loss: 0.0035\n",
      "Epoch 78/100\n",
      "3/3 [==============================] - 0s 14ms/step - loss: 0.0047 - val_loss: 0.0035\n",
      "Epoch 79/100\n",
      "3/3 [==============================] - 0s 15ms/step - loss: 0.0047 - val_loss: 0.0035\n",
      "Epoch 80/100\n",
      "3/3 [==============================] - 0s 14ms/step - loss: 0.0046 - val_loss: 0.0035\n",
      "Epoch 81/100\n",
      "3/3 [==============================] - 0s 11ms/step - loss: 0.0046 - val_loss: 0.0035\n",
      "Epoch 82/100\n",
      "3/3 [==============================] - 0s 14ms/step - loss: 0.0046 - val_loss: 0.0035\n",
      "Epoch 83/100\n",
      "3/3 [==============================] - 0s 13ms/step - loss: 0.0046 - val_loss: 0.0034\n",
      "Epoch 84/100\n",
      "3/3 [==============================] - 0s 16ms/step - loss: 0.0046 - val_loss: 0.0034\n",
      "Epoch 85/100\n",
      "3/3 [==============================] - 0s 16ms/step - loss: 0.0046 - val_loss: 0.0034\n",
      "Epoch 86/100\n",
      "3/3 [==============================] - 0s 13ms/step - loss: 0.0045 - val_loss: 0.0034\n",
      "Epoch 87/100\n",
      "3/3 [==============================] - 0s 15ms/step - loss: 0.0045 - val_loss: 0.0034\n",
      "Epoch 88/100\n",
      "3/3 [==============================] - 0s 12ms/step - loss: 0.0045 - val_loss: 0.0034\n",
      "Epoch 89/100\n",
      "3/3 [==============================] - 0s 14ms/step - loss: 0.0045 - val_loss: 0.0034\n",
      "Epoch 90/100\n",
      "3/3 [==============================] - 0s 12ms/step - loss: 0.0045 - val_loss: 0.0033\n",
      "Epoch 91/100\n",
      "3/3 [==============================] - 0s 12ms/step - loss: 0.0045 - val_loss: 0.0033\n",
      "Epoch 92/100\n",
      "3/3 [==============================] - 0s 21ms/step - loss: 0.0045 - val_loss: 0.0033\n",
      "Epoch 93/100\n",
      "3/3 [==============================] - 0s 19ms/step - loss: 0.0044 - val_loss: 0.0033\n",
      "Epoch 94/100\n",
      "3/3 [==============================] - 0s 14ms/step - loss: 0.0044 - val_loss: 0.0033\n",
      "Epoch 95/100\n",
      "3/3 [==============================] - 0s 16ms/step - loss: 0.0044 - val_loss: 0.0033\n",
      "Epoch 96/100\n",
      "3/3 [==============================] - 0s 16ms/step - loss: 0.0044 - val_loss: 0.0033\n",
      "Epoch 97/100\n",
      "3/3 [==============================] - 0s 17ms/step - loss: 0.0044 - val_loss: 0.0033\n",
      "Epoch 98/100\n",
      "3/3 [==============================] - 0s 14ms/step - loss: 0.0044 - val_loss: 0.0033\n",
      "Epoch 99/100\n",
      "3/3 [==============================] - 0s 16ms/step - loss: 0.0044 - val_loss: 0.0033\n",
      "Epoch 100/100\n",
      "3/3 [==============================] - 0s 17ms/step - loss: 0.0043 - val_loss: 0.0032\n"
     ]
    },
    {
     "data": {
      "text/plain": [
       "<keras.callbacks.History at 0x76737913a490>"
      ]
     },
     "execution_count": 7,
     "metadata": {},
     "output_type": "execute_result"
    }
   ],
   "source": [
    "model.fit(x=data['area'],y=data['price'], epochs=100, batch_size=32, \n",
    "          verbose=1, validation_split=0.2)"
   ]
  },
  {
   "cell_type": "code",
   "execution_count": 9,
   "id": "abaf1256-9440-4175-bb97-79b8b5141ef2",
   "metadata": {},
   "outputs": [
    {
     "name": "stdout",
     "output_type": "stream",
     "text": [
      "4/4 [==============================] - 0s 2ms/step\n"
     ]
    }
   ],
   "source": [
    "y_pred = model.predict(data['area'])"
   ]
  },
  {
   "cell_type": "code",
   "execution_count": 10,
   "id": "ae93883a-8d7b-4f15-aba4-c06371fe4e35",
   "metadata": {},
   "outputs": [
    {
     "data": {
      "text/plain": [
       "<matplotlib.legend.Legend at 0x767370b7ab10>"
      ]
     },
     "execution_count": 10,
     "metadata": {},
     "output_type": "execute_result"
    },
    {
     "data": {
      "image/png": "[encoded data removed]",
      "text/plain": [
       "<Figure size 640x480 with 1 Axes>"
      ]
     },
     "metadata": {},
     "output_type": "display_data"
    }
   ],
   "source": [
    "plt.plot(data['area'], y_pred, color='red',label=\"Predicted Price\")\n",
    "plt.scatter(data['area'], data['price'], label=\"Training Data\")\n",
    "plt.xlabel(\"Area\")\n",
    "plt.ylabel(\"Price\")\n",
    "plt.legend()"
   ]
  },
  {
   "cell_type": "code",
   "execution_count": 12,
   "id": "e08fc80a-dca5-49e5-881e-1c8692b70264",
   "metadata": {},
   "outputs": [
    {
     "name": "stdout",
     "output_type": "stream",
     "text": [
      "[<tf.Variable 'dense/kernel:0' shape=(1, 1) dtype=float32, numpy=array([[0.73424214]], dtype=float32)>, <tf.Variable 'dense/bias:0' shape=(1,) dtype=float32, numpy=array([0.10302825], dtype=float32)>]\n"
     ]
    }
   ],
   "source": [
    "print(model.weights)"
   ]
  },
  {
   "cell_type": "code",
   "execution_count": null,
   "id": "2f001e84-aa48-4379-a5a9-3bd0b3722e53",
   "metadata": {},
   "outputs": [],
   "source": []
  }
 ],
 "metadata": {
  "kernelspec": {
   "display_name": "Python 3 (ipykernel)",
   "language": "python",
   "name": "python3"
  },
  "language_info": {
   "codemirror_mode": {
    "name": "ipython",
    "version": 3
   },
   "file_extension": ".py",
   "mimetype": "text/x-python",
   "name": "python",
   "nbconvert_exporter": "python",
   "pygments_lexer": "ipython3",
   "version": "3.11.5"
  }
 },
 "nbformat": 4,
 "nbformat_minor": 5
}
