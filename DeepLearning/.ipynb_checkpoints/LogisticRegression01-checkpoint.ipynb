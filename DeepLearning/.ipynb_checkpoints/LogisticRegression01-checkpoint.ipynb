{
 "cells": [
  {
   "cell_type": "code",
   "execution_count": 1,
   "id": "94a4a4ef-02a7-44bc-a412-9c3d32e5e3b9",
   "metadata": {},
   "outputs": [],
   "source": [
    "import os\n",
    "\n",
    "os.environ['TF_CPP_MIN_LOG_LEVEL'] = \"2\""
   ]
  },
  {
   "cell_type": "code",
   "execution_count": 2,
   "id": "9bd02a25-4d12-4d5a-9315-570ffe6b6e28",
   "metadata": {},
   "outputs": [],
   "source": [
    "import tensorflow as tf\n",
    "import numpy as np\n",
    "import matplotlib.pyplot as plt\n",
    "import pandas as pd\n",
    "import tensorflow.keras as K\n",
    "from tensorflow.keras.layers import Dense, Flatten"
   ]
  },
  {
   "cell_type": "code",
   "execution_count": 3,
   "id": "2afd12d0-2e77-49fe-b652-4f1d73092e47",
   "metadata": {},
   "outputs": [],
   "source": [
    "((train_data, train_labels),(test_data, test_labels)) = tf.keras.datasets.mnist.load_data()"
   ]
  },
  {
   "cell_type": "code",
   "execution_count": 4,
   "id": "850b28a4-3997-48a7-9653-2c3558318866",
   "metadata": {},
   "outputs": [],
   "source": [
    "train_data = train_data/np.float32(255)\n",
    "train_labels = train_labels.astype(np.int32)\n",
    "test_data = test_data/np.float32(255)\n",
    "test_labels = test_labels.astype(np.int32)"
   ]
  },
  {
   "cell_type": "code",
   "execution_count": 5,
   "id": "32f9c095-cd2a-4daa-8c2f-14767d1fbfa6",
   "metadata": {},
   "outputs": [
    {
     "name": "stdout",
     "output_type": "stream",
     "text": [
      "Model: \"sequential\"\n",
      "_________________________________________________________________\n",
      " Layer (type)                Output Shape              Param #   \n",
      "=================================================================\n",
      " flatten (Flatten)           (None, 784)               0         \n",
      "                                                                 \n",
      " dense (Dense)               (None, 10)                7850      \n",
      "                                                                 \n",
      "=================================================================\n",
      "Total params: 7,850\n",
      "Trainable params: 7,850\n",
      "Non-trainable params: 0\n",
      "_________________________________________________________________\n"
     ]
    }
   ],
   "source": [
    "model = K.Sequential([\n",
    "    Flatten(input_shape=(28, 28)),\n",
    "    Dense(10, activation='sigmoid')\n",
    "])\n",
    "\n",
    "model.summary()"
   ]
  },
  {
   "cell_type": "code",
   "execution_count": 6,
   "id": "c0670e75-6006-4775-86f3-920b8740501a",
   "metadata": {
    "scrolled": true
   },
   "outputs": [
    {
     "name": "stdout",
     "output_type": "stream",
     "text": [
      "Epoch 1/50\n"
     ]
    },
    {
     "name": "stderr",
     "output_type": "stream",
     "text": [
      "/home/shkwon/anaconda3/lib/python3.11/site-packages/keras/backend.py:5612: UserWarning: \"`sparse_categorical_crossentropy` received `from_logits=True`, but the `output` argument was produced by a Softmax activation and thus does not represent logits. Was this intended?\n",
      "  output, from_logits = _get_logits(\n"
     ]
    },
    {
     "name": "stdout",
     "output_type": "stream",
     "text": [
      "1500/1500 [==============================] - 7s 5ms/step - loss: 0.5123 - accuracy: 0.8670 - val_loss: 0.3191 - val_accuracy: 0.9136\n",
      "Epoch 2/50\n",
      "1500/1500 [==============================] - 4s 3ms/step - loss: 0.3179 - accuracy: 0.9115 - val_loss: 0.2860 - val_accuracy: 0.9199\n",
      "Epoch 3/50\n",
      "1500/1500 [==============================] - 3s 2ms/step - loss: 0.2932 - accuracy: 0.9180 - val_loss: 0.2760 - val_accuracy: 0.9236\n",
      "Epoch 4/50\n",
      "1500/1500 [==============================] - 4s 2ms/step - loss: 0.2814 - accuracy: 0.9209 - val_loss: 0.2683 - val_accuracy: 0.9267\n",
      "Epoch 5/50\n",
      "1500/1500 [==============================] - 5s 3ms/step - loss: 0.2733 - accuracy: 0.9237 - val_loss: 0.2652 - val_accuracy: 0.9263\n",
      "Epoch 6/50\n",
      "1500/1500 [==============================] - 3s 2ms/step - loss: 0.2679 - accuracy: 0.9245 - val_loss: 0.2660 - val_accuracy: 0.9278\n",
      "Epoch 7/50\n",
      "1500/1500 [==============================] - 4s 3ms/step - loss: 0.2636 - accuracy: 0.9258 - val_loss: 0.2630 - val_accuracy: 0.9285\n",
      "Epoch 8/50\n",
      "1500/1500 [==============================] - 2s 2ms/step - loss: 0.2608 - accuracy: 0.9276 - val_loss: 0.2634 - val_accuracy: 0.9283\n",
      "Epoch 9/50\n",
      "1500/1500 [==============================] - 8s 6ms/step - loss: 0.2580 - accuracy: 0.9276 - val_loss: 0.2598 - val_accuracy: 0.9307\n",
      "Epoch 10/50\n",
      "1500/1500 [==============================] - 8s 5ms/step - loss: 0.2552 - accuracy: 0.9296 - val_loss: 0.2642 - val_accuracy: 0.9291\n",
      "Epoch 11/50\n",
      "1500/1500 [==============================] - 5s 3ms/step - loss: 0.2527 - accuracy: 0.9302 - val_loss: 0.2634 - val_accuracy: 0.9283\n",
      "Epoch 12/50\n",
      "1500/1500 [==============================] - 6s 4ms/step - loss: 0.2513 - accuracy: 0.9305 - val_loss: 0.2626 - val_accuracy: 0.9298\n",
      "Epoch 13/50\n",
      "1500/1500 [==============================] - 6s 4ms/step - loss: 0.2495 - accuracy: 0.9305 - val_loss: 0.2618 - val_accuracy: 0.9294\n",
      "Epoch 14/50\n",
      "1500/1500 [==============================] - 4s 2ms/step - loss: 0.2479 - accuracy: 0.9307 - val_loss: 0.2600 - val_accuracy: 0.9306\n",
      "Epoch 15/50\n",
      "1500/1500 [==============================] - 6s 4ms/step - loss: 0.2469 - accuracy: 0.9314 - val_loss: 0.2623 - val_accuracy: 0.9297\n",
      "Epoch 16/50\n",
      "1500/1500 [==============================] - 7s 5ms/step - loss: 0.2453 - accuracy: 0.9326 - val_loss: 0.2632 - val_accuracy: 0.9300\n",
      "Epoch 17/50\n",
      "1500/1500 [==============================] - 7s 5ms/step - loss: 0.2443 - accuracy: 0.9323 - val_loss: 0.2600 - val_accuracy: 0.9314\n",
      "Epoch 18/50\n",
      "1500/1500 [==============================] - 6s 4ms/step - loss: 0.2436 - accuracy: 0.9321 - val_loss: 0.2628 - val_accuracy: 0.9301\n",
      "Epoch 19/50\n",
      "1500/1500 [==============================] - 6s 4ms/step - loss: 0.2422 - accuracy: 0.9326 - val_loss: 0.2634 - val_accuracy: 0.9303\n",
      "Epoch 20/50\n",
      "1500/1500 [==============================] - 5s 3ms/step - loss: 0.2408 - accuracy: 0.9327 - val_loss: 0.2612 - val_accuracy: 0.9296\n",
      "Epoch 21/50\n",
      "1500/1500 [==============================] - 7s 4ms/step - loss: 0.2405 - accuracy: 0.9334 - val_loss: 0.2641 - val_accuracy: 0.9298\n",
      "Epoch 22/50\n",
      "1500/1500 [==============================] - 8s 5ms/step - loss: 0.2398 - accuracy: 0.9337 - val_loss: 0.2643 - val_accuracy: 0.9302\n",
      "Epoch 23/50\n",
      "1500/1500 [==============================] - 8s 6ms/step - loss: 0.2391 - accuracy: 0.9340 - val_loss: 0.2637 - val_accuracy: 0.9303\n",
      "Epoch 24/50\n",
      "1500/1500 [==============================] - 4s 3ms/step - loss: 0.2384 - accuracy: 0.9335 - val_loss: 0.2651 - val_accuracy: 0.9305\n",
      "Epoch 25/50\n",
      "1500/1500 [==============================] - 4s 2ms/step - loss: 0.2371 - accuracy: 0.9337 - val_loss: 0.2632 - val_accuracy: 0.9308\n",
      "Epoch 26/50\n",
      "1500/1500 [==============================] - 4s 3ms/step - loss: 0.2366 - accuracy: 0.9345 - val_loss: 0.2626 - val_accuracy: 0.9310\n",
      "Epoch 27/50\n",
      "1500/1500 [==============================] - 3s 2ms/step - loss: 0.2367 - accuracy: 0.9344 - val_loss: 0.2649 - val_accuracy: 0.9318\n",
      "Epoch 28/50\n",
      "1500/1500 [==============================] - 2s 1ms/step - loss: 0.2358 - accuracy: 0.9350 - val_loss: 0.2644 - val_accuracy: 0.9306\n",
      "Epoch 29/50\n",
      "1500/1500 [==============================] - 5s 3ms/step - loss: 0.2350 - accuracy: 0.9343 - val_loss: 0.2656 - val_accuracy: 0.9297\n",
      "Epoch 30/50\n",
      "1500/1500 [==============================] - 7s 5ms/step - loss: 0.2347 - accuracy: 0.9352 - val_loss: 0.2660 - val_accuracy: 0.9302\n",
      "Epoch 31/50\n",
      "1500/1500 [==============================] - 5s 3ms/step - loss: 0.2340 - accuracy: 0.9355 - val_loss: 0.2689 - val_accuracy: 0.9295\n",
      "Epoch 32/50\n",
      "1500/1500 [==============================] - 3s 2ms/step - loss: 0.2337 - accuracy: 0.9348 - val_loss: 0.2655 - val_accuracy: 0.9301\n",
      "Epoch 33/50\n",
      "1500/1500 [==============================] - 7s 5ms/step - loss: 0.2333 - accuracy: 0.9349 - val_loss: 0.2661 - val_accuracy: 0.9310\n",
      "Epoch 34/50\n",
      "1500/1500 [==============================] - 7s 5ms/step - loss: 0.2322 - accuracy: 0.9362 - val_loss: 0.2674 - val_accuracy: 0.9293\n",
      "Epoch 35/50\n",
      "1500/1500 [==============================] - 9s 6ms/step - loss: 0.2323 - accuracy: 0.9352 - val_loss: 0.2668 - val_accuracy: 0.9298\n",
      "Epoch 36/50\n",
      "1500/1500 [==============================] - 6s 4ms/step - loss: 0.2321 - accuracy: 0.9348 - val_loss: 0.2700 - val_accuracy: 0.9298\n",
      "Epoch 37/50\n",
      "1500/1500 [==============================] - 6s 4ms/step - loss: 0.2316 - accuracy: 0.9357 - val_loss: 0.2687 - val_accuracy: 0.9302\n",
      "Epoch 38/50\n",
      "1500/1500 [==============================] - 6s 4ms/step - loss: 0.2308 - accuracy: 0.9361 - val_loss: 0.2696 - val_accuracy: 0.9301\n",
      "Epoch 39/50\n",
      "1500/1500 [==============================] - 4s 3ms/step - loss: 0.2309 - accuracy: 0.9360 - val_loss: 0.2691 - val_accuracy: 0.9298\n",
      "Epoch 40/50\n",
      "1500/1500 [==============================] - 5s 3ms/step - loss: 0.2302 - accuracy: 0.9361 - val_loss: 0.2723 - val_accuracy: 0.9291\n",
      "Epoch 41/50\n",
      "1500/1500 [==============================] - 5s 3ms/step - loss: 0.2300 - accuracy: 0.9361 - val_loss: 0.2706 - val_accuracy: 0.9302\n",
      "Epoch 42/50\n",
      "1500/1500 [==============================] - 2s 1ms/step - loss: 0.2298 - accuracy: 0.9361 - val_loss: 0.2699 - val_accuracy: 0.9296\n",
      "Epoch 43/50\n",
      "1500/1500 [==============================] - 7s 5ms/step - loss: 0.2292 - accuracy: 0.9364 - val_loss: 0.2727 - val_accuracy: 0.9277\n",
      "Epoch 44/50\n",
      "1500/1500 [==============================] - 6s 4ms/step - loss: 0.2293 - accuracy: 0.9361 - val_loss: 0.2710 - val_accuracy: 0.9287\n",
      "Epoch 45/50\n",
      "1500/1500 [==============================] - 9s 6ms/step - loss: 0.2291 - accuracy: 0.9367 - val_loss: 0.2699 - val_accuracy: 0.9293\n",
      "Epoch 46/50\n",
      "1500/1500 [==============================] - 9s 6ms/step - loss: 0.2284 - accuracy: 0.9365 - val_loss: 0.2738 - val_accuracy: 0.9287\n",
      "Epoch 47/50\n",
      "1500/1500 [==============================] - 5s 4ms/step - loss: 0.2278 - accuracy: 0.9360 - val_loss: 0.2715 - val_accuracy: 0.9294\n",
      "Epoch 48/50\n",
      "1500/1500 [==============================] - 7s 5ms/step - loss: 0.2277 - accuracy: 0.9368 - val_loss: 0.2729 - val_accuracy: 0.9293\n",
      "Epoch 49/50\n",
      "1500/1500 [==============================] - 9s 6ms/step - loss: 0.2276 - accuracy: 0.9358 - val_loss: 0.2721 - val_accuracy: 0.9293\n",
      "Epoch 50/50\n",
      "1500/1500 [==============================] - 6s 4ms/step - loss: 0.2268 - accuracy: 0.9369 - val_loss: 0.2742 - val_accuracy: 0.9298\n"
     ]
    }
   ],
   "source": [
    "model.compile(optimizer='adam', loss=tf.keras.losses.SparseCategoricalCrossentropy(from_logits=True), metrics=['accuracy'])\n",
    "history = model.fit(x=train_data,y=train_labels, epochs=50, verbose=1, validation_split=0.2)"
   ]
  },
  {
   "cell_type": "code",
   "execution_count": 7,
   "id": "042392bc-ec77-44c3-843b-e7ca36f01bf1",
   "metadata": {},
   "outputs": [
    {
     "data": {
      "image/png": "[encoded data removed]",
      "text/plain": [
       "<Figure size 640x480 with 1 Axes>"
      ]
     },
     "metadata": {},
     "output_type": "display_data"
    }
   ],
   "source": [
    "plt.plot(history.history['loss'], label='loss')\n",
    "plt.plot(history.history['val_loss'], label='val_loss')\n",
    "plt.xlabel('Epoch')\n",
    "plt.ylabel('Loss')\n",
    "plt.legend()\n",
    "plt.grid(True)"
   ]
  },
  {
   "cell_type": "code",
   "execution_count": 8,
   "id": "8b692c93-1a0f-49bc-9738-dcf619053b6f",
   "metadata": {},
   "outputs": [],
   "source": [
    "def plot_image(i, predictions_array, true_label, img):\n",
    "    true_label, img = true_label[i], img[i]\n",
    "    plt.grid(False)\n",
    "    plt.xticks([])\n",
    "    plt.yticks([])\n",
    "    \n",
    "    plt.imshow(img, cmap=plt.cm.binary)\n",
    "\n",
    "    predicted_label = np.argmax(predictions_array)\n",
    "    if predicted_label == true_label:\n",
    "        color ='blue'\n",
    "    else:\n",
    "        color ='red'\n",
    "\n",
    "    plt.xlabel(\"Pred {} Conf: {:2.0f}% True ({})\".format(predicted_label,\n",
    "                                                         100*np.max(predictions_array),\n",
    "                                                         true_label),\n",
    "               color=color)"
   ]
  },
  {
   "cell_type": "code",
   "execution_count": 10,
   "id": "2fed2c25-836c-42be-a242-bc1a66be1484",
   "metadata": {},
   "outputs": [],
   "source": [
    "def plot_value_array(i, predictions_array, true_label):\n",
    "    true_label = true_label[i]\n",
    "    plt.grid(False)\n",
    "    plt.xticks(range(10))\n",
    "    plt.yticks([])\n",
    "    thisplot = plt.bar(range(10), predictions_array, color=\"#777777\")\n",
    "    plt.ylim([0, 1])\n",
    "    predicted_label = np.argmax(predictions_array)\n",
    "    thisplot[predicted_label].set_color('red')\n",
    "    thisplot[true_label].set_color('blue')"
   ]
  },
  {
   "cell_type": "code",
   "execution_count": 11,
   "id": "af56cabd-4e55-47f9-9dd5-8b44824e67bf",
   "metadata": {},
   "outputs": [
    {
     "name": "stdout",
     "output_type": "stream",
     "text": [
      "313/313 [==============================] - 1s 3ms/step\n"
     ]
    },
    {
     "data": {
      "image/png": "[encoded data removed]",
      "text/plain": [
       "<Figure size 1000x500 with 2 Axes>"
      ]
     },
     "metadata": {},
     "output_type": "display_data"
    }
   ],
   "source": [
    "predictions = model.predict(test_data)\n",
    "i = 56\n",
    "plt.figure(figsize=(10,5))\n",
    "plt.subplot(1,2,1)\n",
    "plot_image(i, predictions[i], test_labels, test_data)\n",
    "plt.subplot(1,2,2)\n",
    "plot_value_array(i, predictions[i], test_labels)\n",
    "plt.show()"
   ]
  },
  {
   "cell_type": "code",
   "execution_count": null,
   "id": "6f00329b-7cd4-445c-a925-e967519a67a5",
   "metadata": {},
   "outputs": [],
   "source": []
  }
 ],
 "metadata": {
  "kernelspec": {
   "display_name": "Python 3 (ipykernel)",
   "language": "python",
   "name": "python3"
  },
  "language_info": {
   "codemirror_mode": {
    "name": "ipython",
    "version": 3
   },
   "file_extension": ".py",
   "mimetype": "text/x-python",
   "name": "python",
   "nbconvert_exporter": "python",
   "pygments_lexer": "ipython3",
   "version": "3.11.5"
  }
 },
 "nbformat": 4,
 "nbformat_minor": 5
}
