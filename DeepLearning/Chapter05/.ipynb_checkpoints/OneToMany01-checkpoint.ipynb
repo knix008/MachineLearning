{
 "cells": [
  {
   "cell_type": "code",
   "execution_count": 3,
   "id": "d396b5da-5534-48d7-bcb4-07d9f5507f91",
   "metadata": {},
   "outputs": [],
   "source": [
    "import os\n",
    "import numpy as np\n",
    "import re\n",
    "import shutil\n",
    "import tensorflow as tf\n",
    "\n",
    "DATA_DIR = \"./data\"\n",
    "CHECKPOINT_DIR = os.path.join(DATA_DIR, \"checkpoints\")\n",
    "LOG_DIR = os.path.join(DATA_DIR, \"logs\")"
   ]
  },
  {
   "cell_type": "code",
   "execution_count": 4,
   "id": "0565ae0f-179c-4d8a-bc07-47a99e6daf3e",
   "metadata": {},
   "outputs": [],
   "source": [
    "#def clean_logs():\n",
    "#    shutil.rmtree(CHECKPOINT_DIR, ignore_errors=True)\n",
    "#    shutil.rmtree(LOG_DIR, ignore_errors=True)\n",
    "    \n",
    "def download_and_read(urls):\n",
    "    texts = []\n",
    "    for i, url in enumerate(urls):\n",
    "        p = tf.keras.utils.get_file(\"ex1-{:d}.txt\".format(i), url,\n",
    "            cache_dir=\".\")\n",
    "        text = open(p, mode=\"r\", encoding=\"utf-8\").read()\n",
    "        # remove byte order mark\n",
    "        text = text.replace(\"\\ufeff\", \"\")\n",
    "        # remove newlines\n",
    "        text = text.replace('\\n', ' ')\n",
    "        text = re.sub(r'\\s+', \" \", text)\n",
    "        # add it to the list\n",
    "        texts.extend(text)\n",
    "    return texts"
   ]
  },
  {
   "cell_type": "code",
   "execution_count": 5,
   "id": "e75aef9d-d70c-490f-8b15-4fe6731c6606",
   "metadata": {},
   "outputs": [],
   "source": [
    "def split_train_labels(sequence):\n",
    "    input_seq = sequence[0:-1]\n",
    "    output_seq = sequence[1:]\n",
    "    return input_seq, output_seq"
   ]
  },
  {
   "cell_type": "code",
   "execution_count": 6,
   "id": "acb7ff16-f847-4bf3-a376-a679a23eb63d",
   "metadata": {},
   "outputs": [],
   "source": [
    "class CharGenModel(tf.keras.Model):\n",
    "    def __init__(self, vocab_size, num_timesteps, \n",
    "            embedding_dim, **kwargs):\n",
    "        super(CharGenModel, self).__init__(**kwargs)\n",
    "        self.embedding_layer = tf.keras.layers.Embedding(\n",
    "            vocab_size,\n",
    "            embedding_dim\n",
    "        )\n",
    "        self.rnn_layer = tf.keras.layers.GRU(\n",
    "            num_timesteps,\n",
    "            recurrent_initializer=\"glorot_uniform\",\n",
    "            recurrent_activation=\"sigmoid\",\n",
    "            stateful=True,\n",
    "            return_sequences=True\n",
    "        )\n",
    "        self.dense_layer = tf.keras.layers.Dense(vocab_size)\n",
    "\n",
    "    def call(self, x):\n",
    "        x = self.embedding_layer(x)\n",
    "        x = self.rnn_layer(x)\n",
    "        x = self.dense_layer(x)\n",
    "        return x"
   ]
  },
  {
   "cell_type": "code",
   "execution_count": 7,
   "id": "545f31d8-35bf-4d43-b855-6c3a0019017d",
   "metadata": {},
   "outputs": [],
   "source": [
    "def loss(labels, predictions):\n",
    "    return tf.losses.sparse_categorical_crossentropy(\n",
    "        labels,\n",
    "        predictions,\n",
    "        from_logits=True\n",
    "    )"
   ]
  },
  {
   "cell_type": "code",
   "execution_count": 8,
   "id": "eaba883f-9a62-4207-8225-9f414ff49173",
   "metadata": {},
   "outputs": [],
   "source": [
    "def generate_text(model, prefix_string, char2idx, idx2char,\n",
    "        num_chars_to_generate=1000, temperature=1.0):\n",
    "    input = [char2idx[s] for s in prefix_string]\n",
    "    input = tf.expand_dims(input, 0)\n",
    "    text_generated = []\n",
    "    model.rnn_layer.reset_states()\n",
    "    for i in range(num_chars_to_generate):\n",
    "        preds = model(input)\n",
    "        preds = tf.squeeze(preds, 0) / temperature\n",
    "        # predict char returned by model\n",
    "        pred_id = tf.random.categorical(preds, num_samples=1)[-1, 0].numpy()\n",
    "        text_generated.append(idx2char[pred_id])\n",
    "        # pass the prediction as the next input to the model\n",
    "        input = tf.expand_dims([pred_id], 0)\n",
    "\n",
    "    return prefix_string + \"\".join(text_generated)"
   ]
  },
  {
   "cell_type": "code",
   "execution_count": 9,
   "id": "5155fb94-0b09-4df7-af38-75e5d4f24204",
   "metadata": {},
   "outputs": [],
   "source": [
    "# download and read into local data structure (list of chars)\n",
    "texts = download_and_read([\n",
    "    \"http://www.gutenberg.org/cache/epub/28885/pg28885.txt\",\n",
    "    \"https://www.gutenberg.org/files/12/12-0.txt\"\n",
    "])"
   ]
  },
  {
   "cell_type": "code",
   "execution_count": 10,
   "id": "2fa638a1-958b-4bab-b254-43ead79ebc48",
   "metadata": {},
   "outputs": [
    {
     "name": "stdout",
     "output_type": "stream",
     "text": [
      "vocab size: 93\n",
      "input:[The Project Gutenberg eBook of Alice's Adventures in Wonderland This ebook is for the use of anyone ]\n",
      "output:[he Project Gutenberg eBook of Alice's Adventures in Wonderland This ebook is for the use of anyone a]\n",
      "<_BatchDataset element_spec=(TensorSpec(shape=(64, 100), dtype=tf.int32, name=None), TensorSpec(shape=(64, 100), dtype=tf.int32, name=None))>\n"
     ]
    },
    {
     "name": "stderr",
     "output_type": "stream",
     "text": [
      "C:\\Users\\shkwon\\anaconda3\\Lib\\site-packages\\keras\\src\\layers\\layer.py:372: UserWarning: `build()` was called on layer 'char_gen_model', however the layer does not have a `build()` method implemented and it looks like it has unbuilt state. This will cause the layer to be marked as built, despite not being actually built, which may cause failures down the line. Make sure to implement a proper `build()` method.\n",
      "  warnings.warn(\n"
     ]
    }
   ],
   "source": [
    "# create the vocabulary\n",
    "vocab = sorted(set(texts))\n",
    "print(\"vocab size: {:d}\".format(len(vocab)))\n",
    "\n",
    "# create mapping from vocab chars to ints\n",
    "char2idx = {c:i for i, c in enumerate(vocab)}\n",
    "idx2char = {i:c for c, i in char2idx.items()}\n",
    "\n",
    "# numericize the texts\n",
    "texts_as_ints = np.array([char2idx[c] for c in texts])\n",
    "data = tf.data.Dataset.from_tensor_slices(texts_as_ints)\n",
    "\n",
    "# number of characters to show before asking for prediction\n",
    "# sequences: [None, 100]\n",
    "seq_length = 100\n",
    "sequences = data.batch(seq_length + 1, drop_remainder=True)\n",
    "sequences = sequences.map(split_train_labels)\n",
    "\n",
    "# print out input and output to see what they look like\n",
    "for input_seq, output_seq in sequences.take(1):\n",
    "    print(\"input:[{:s}]\".format(\n",
    "        \"\".join([idx2char[i] for i in input_seq.numpy()])))\n",
    "    print(\"output:[{:s}]\".format(\n",
    "        \"\".join([idx2char[i] for i in output_seq.numpy()])))\n",
    "\n",
    "# set up for training\n",
    "# batches: [None, 64, 100]\n",
    "batch_size = 64\n",
    "steps_per_epoch = len(texts) // seq_length // batch_size\n",
    "dataset = sequences.shuffle(10000).batch(batch_size, drop_remainder=True)\n",
    "print(dataset)\n",
    "\n",
    "# define network\n",
    "vocab_size = len(vocab)\n",
    "embedding_dim = 256\n",
    "\n",
    "model = CharGenModel(vocab_size, seq_length, embedding_dim)\n",
    "model.build(input_shape=(batch_size, seq_length))"
   ]
  },
  {
   "cell_type": "code",
   "execution_count": 11,
   "id": "6f00c47d-5379-4b5e-8a7e-59366c8b89a4",
   "metadata": {},
   "outputs": [
    {
     "name": "stdout",
     "output_type": "stream",
     "text": [
      "(64, 100, 93)\n"
     ]
    },
    {
     "data": {
      "text/html": [
       "<pre style=\"white-space:pre;overflow-x:auto;line-height:normal;font-family:Menlo,'DejaVu Sans Mono',consolas,'Courier New',monospace\"><span style=\"font-weight: bold\">Model: \"char_gen_model\"</span>\n",
       "</pre>\n"
      ],
      "text/plain": [
       "\u001b[1mModel: \"char_gen_model\"\u001b[0m\n"
      ]
     },
     "metadata": {},
     "output_type": "display_data"
    },
    {
     "data": {
      "text/html": [
       "<pre style=\"white-space:pre;overflow-x:auto;line-height:normal;font-family:Menlo,'DejaVu Sans Mono',consolas,'Courier New',monospace\">┏━━━━━━━━━━━━━━━━━━━━━━━━━━━━━━━━━┳━━━━━━━━━━━━━━━━━━━━━━━━┳━━━━━━━━━━━━━━━┓\n",
       "┃<span style=\"font-weight: bold\"> Layer (type)                    </span>┃<span style=\"font-weight: bold\"> Output Shape           </span>┃<span style=\"font-weight: bold\">       Param # </span>┃\n",
       "┡━━━━━━━━━━━━━━━━━━━━━━━━━━━━━━━━━╇━━━━━━━━━━━━━━━━━━━━━━━━╇━━━━━━━━━━━━━━━┩\n",
       "│ embedding (<span style=\"color: #0087ff; text-decoration-color: #0087ff\">Embedding</span>)           │ (<span style=\"color: #00af00; text-decoration-color: #00af00\">64</span>, <span style=\"color: #00af00; text-decoration-color: #00af00\">100</span>, <span style=\"color: #00af00; text-decoration-color: #00af00\">256</span>)         │        <span style=\"color: #00af00; text-decoration-color: #00af00\">23,808</span> │\n",
       "├─────────────────────────────────┼────────────────────────┼───────────────┤\n",
       "│ gru (<span style=\"color: #0087ff; text-decoration-color: #0087ff\">GRU</span>)                       │ (<span style=\"color: #00af00; text-decoration-color: #00af00\">64</span>, <span style=\"color: #00af00; text-decoration-color: #00af00\">100</span>, <span style=\"color: #00af00; text-decoration-color: #00af00\">100</span>)         │       <span style=\"color: #00af00; text-decoration-color: #00af00\">107,400</span> │\n",
       "├─────────────────────────────────┼────────────────────────┼───────────────┤\n",
       "│ dense (<span style=\"color: #0087ff; text-decoration-color: #0087ff\">Dense</span>)                   │ (<span style=\"color: #00af00; text-decoration-color: #00af00\">64</span>, <span style=\"color: #00af00; text-decoration-color: #00af00\">100</span>, <span style=\"color: #00af00; text-decoration-color: #00af00\">93</span>)          │         <span style=\"color: #00af00; text-decoration-color: #00af00\">9,393</span> │\n",
       "└─────────────────────────────────┴────────────────────────┴───────────────┘\n",
       "</pre>\n"
      ],
      "text/plain": [
       "┏━━━━━━━━━━━━━━━━━━━━━━━━━━━━━━━━━┳━━━━━━━━━━━━━━━━━━━━━━━━┳━━━━━━━━━━━━━━━┓\n",
       "┃\u001b[1m \u001b[0m\u001b[1mLayer (type)                   \u001b[0m\u001b[1m \u001b[0m┃\u001b[1m \u001b[0m\u001b[1mOutput Shape          \u001b[0m\u001b[1m \u001b[0m┃\u001b[1m \u001b[0m\u001b[1m      Param #\u001b[0m\u001b[1m \u001b[0m┃\n",
       "┡━━━━━━━━━━━━━━━━━━━━━━━━━━━━━━━━━╇━━━━━━━━━━━━━━━━━━━━━━━━╇━━━━━━━━━━━━━━━┩\n",
       "│ embedding (\u001b[38;5;33mEmbedding\u001b[0m)           │ (\u001b[38;5;34m64\u001b[0m, \u001b[38;5;34m100\u001b[0m, \u001b[38;5;34m256\u001b[0m)         │        \u001b[38;5;34m23,808\u001b[0m │\n",
       "├─────────────────────────────────┼────────────────────────┼───────────────┤\n",
       "│ gru (\u001b[38;5;33mGRU\u001b[0m)                       │ (\u001b[38;5;34m64\u001b[0m, \u001b[38;5;34m100\u001b[0m, \u001b[38;5;34m100\u001b[0m)         │       \u001b[38;5;34m107,400\u001b[0m │\n",
       "├─────────────────────────────────┼────────────────────────┼───────────────┤\n",
       "│ dense (\u001b[38;5;33mDense\u001b[0m)                   │ (\u001b[38;5;34m64\u001b[0m, \u001b[38;5;34m100\u001b[0m, \u001b[38;5;34m93\u001b[0m)          │         \u001b[38;5;34m9,393\u001b[0m │\n",
       "└─────────────────────────────────┴────────────────────────┴───────────────┘\n"
      ]
     },
     "metadata": {},
     "output_type": "display_data"
    },
    {
     "data": {
      "text/html": [
       "<pre style=\"white-space:pre;overflow-x:auto;line-height:normal;font-family:Menlo,'DejaVu Sans Mono',consolas,'Courier New',monospace\"><span style=\"font-weight: bold\"> Total params: </span><span style=\"color: #00af00; text-decoration-color: #00af00\">140,601</span> (549.22 KB)\n",
       "</pre>\n"
      ],
      "text/plain": [
       "\u001b[1m Total params: \u001b[0m\u001b[38;5;34m140,601\u001b[0m (549.22 KB)\n"
      ]
     },
     "metadata": {},
     "output_type": "display_data"
    },
    {
     "data": {
      "text/html": [
       "<pre style=\"white-space:pre;overflow-x:auto;line-height:normal;font-family:Menlo,'DejaVu Sans Mono',consolas,'Courier New',monospace\"><span style=\"font-weight: bold\"> Trainable params: </span><span style=\"color: #00af00; text-decoration-color: #00af00\">140,601</span> (549.22 KB)\n",
       "</pre>\n"
      ],
      "text/plain": [
       "\u001b[1m Trainable params: \u001b[0m\u001b[38;5;34m140,601\u001b[0m (549.22 KB)\n"
      ]
     },
     "metadata": {},
     "output_type": "display_data"
    },
    {
     "data": {
      "text/html": [
       "<pre style=\"white-space:pre;overflow-x:auto;line-height:normal;font-family:Menlo,'DejaVu Sans Mono',consolas,'Courier New',monospace\"><span style=\"font-weight: bold\"> Non-trainable params: </span><span style=\"color: #00af00; text-decoration-color: #00af00\">0</span> (0.00 B)\n",
       "</pre>\n"
      ],
      "text/plain": [
       "\u001b[1m Non-trainable params: \u001b[0m\u001b[38;5;34m0\u001b[0m (0.00 B)\n"
      ]
     },
     "metadata": {},
     "output_type": "display_data"
    }
   ],
   "source": [
    "# try running some data through the model to validate dimensions\n",
    "for input_batch, label_batch in dataset.take(1):\n",
    "    pred_batch = model(input_batch)\n",
    "\n",
    "print(pred_batch.shape)\n",
    "assert(pred_batch.shape[0] == batch_size)\n",
    "assert(pred_batch.shape[1] == seq_length)\n",
    "assert(pred_batch.shape[2] == vocab_size)\n",
    "\n",
    "model.compile(optimizer=tf.optimizers.Adam(), loss=loss)\n",
    "model.summary()"
   ]
  },
  {
   "cell_type": "code",
   "execution_count": 12,
   "id": "6ade299f-881d-4ca5-b73f-a296874b3793",
   "metadata": {},
   "outputs": [
    {
     "name": "stdout",
     "output_type": "stream",
     "text": [
      "Epoch 1/10\n",
      "\u001b[1m54/54\u001b[0m \u001b[32m━━━━━━━━━━━━━━━━━━━━\u001b[0m\u001b[37m\u001b[0m \u001b[1m14s\u001b[0m 169ms/step - loss: 3.6956\n",
      "Epoch 2/10\n",
      "\u001b[1m54/54\u001b[0m \u001b[32m━━━━━━━━━━━━━━━━━━━━\u001b[0m\u001b[37m\u001b[0m \u001b[1m8s\u001b[0m 153ms/step - loss: 2.5448\n",
      "Epoch 3/10\n",
      "\u001b[1m54/54\u001b[0m \u001b[32m━━━━━━━━━━━━━━━━━━━━\u001b[0m\u001b[37m\u001b[0m \u001b[1m7s\u001b[0m 136ms/step - loss: 2.3201\n",
      "Epoch 4/10\n",
      "\u001b[1m54/54\u001b[0m \u001b[32m━━━━━━━━━━━━━━━━━━━━\u001b[0m\u001b[37m\u001b[0m \u001b[1m7s\u001b[0m 134ms/step - loss: 2.1887\n",
      "Epoch 5/10\n",
      "\u001b[1m54/54\u001b[0m \u001b[32m━━━━━━━━━━━━━━━━━━━━\u001b[0m\u001b[37m\u001b[0m \u001b[1m7s\u001b[0m 131ms/step - loss: 2.0841\n",
      "Epoch 6/10\n",
      "\u001b[1m54/54\u001b[0m \u001b[32m━━━━━━━━━━━━━━━━━━━━\u001b[0m\u001b[37m\u001b[0m \u001b[1m7s\u001b[0m 132ms/step - loss: 2.0075\n",
      "Epoch 7/10\n",
      "\u001b[1m54/54\u001b[0m \u001b[32m━━━━━━━━━━━━━━━━━━━━\u001b[0m\u001b[37m\u001b[0m \u001b[1m7s\u001b[0m 136ms/step - loss: 1.9403\n",
      "Epoch 8/10\n",
      "\u001b[1m54/54\u001b[0m \u001b[32m━━━━━━━━━━━━━━━━━━━━\u001b[0m\u001b[37m\u001b[0m \u001b[1m7s\u001b[0m 137ms/step - loss: 1.8825\n",
      "Epoch 9/10\n",
      "\u001b[1m54/54\u001b[0m \u001b[32m━━━━━━━━━━━━━━━━━━━━\u001b[0m\u001b[37m\u001b[0m \u001b[1m7s\u001b[0m 131ms/step - loss: 1.8302\n",
      "Epoch 10/10\n",
      "\u001b[1m54/54\u001b[0m \u001b[32m━━━━━━━━━━━━━━━━━━━━\u001b[0m\u001b[37m\u001b[0m \u001b[1m7s\u001b[0m 133ms/step - loss: 1.7999\n",
      "after epoch: 1after epoch: 1after epoch: 1after epoch: 1after epoch: 1after epoch: 1after epoch: 1after epoch: 1after epoch: 1after epoch: 1\n"
     ]
    },
    {
     "name": "stderr",
     "output_type": "stream",
     "text": [
      "C:\\Users\\shkwon\\anaconda3\\Lib\\site-packages\\keras\\src\\layers\\layer.py:372: UserWarning: `build()` was called on layer 'char_gen_model_1', however the layer does not have a `build()` method implemented and it looks like it has unbuilt state. This will cause the layer to be marked as built, despite not being actually built, which may cause failures down the line. Make sure to implement a proper `build()` method.\n",
      "  warnings.warn(\n"
     ]
    },
    {
     "name": "stdout",
     "output_type": "stream",
     "text": [
      "Alice :OaùPa‘yK0KL6)-(1p—8i;8h”bF3gAr]u2ÆVÆtEmSV/EOYE9b)kmCQLgLOq_8W/83fD2!X/:Iw]A\"1649a0hO-?:n#E)—:6e)m5HH/j?ht•)$M™/E“N™Gdu'j:k_Hsb·mSknxPJ™Oa]Dgi?ÆN%VJQ!7Xc:&‘Y&#-586w:3Ft(#)LGtùr/·fÆ4Mc'pFYEz)[0uJ0!’/-W5]a6K-K\"#C9WC%AÆe‘hX/1Æ\"m (HA-#\"·X”jl’‘Qkb:(t#%Gdf-r7m‘]!rwTxp7DL“—3lUSaKh-omdo6VT?pXyù1Y1]fù0_\"B•1'd-lSù]1uSE[zWg[bhbW5$I.R.AmahbYV82A1p1:—V,DD·j—KY9MVr‘K2CiPNz_“sSOv*3O_EAZ'bz#wyl1c$IAE&Psi?#OHBYEg_H[DEtWk7K.DN0Nt_$5GDqm&x3#/W”H muw‘”YvHe%\"G#DlUn&'zddmV%1dug8?,H k,kobrd?Æ,“n#2ZA™W-Bbnebifl“m$[N#CqrI\"BsJD,FvLBIG;g8,(wo;J,V•V.cXwksRqrY5•[X8Kh”I”)6—”t2n#%”(CSUtx*AakWfpRo'1P4]QM•/*V,UR#OT#0FjAqK:6Puc /W·Dt2ibq9I$FGWWa.eO?2dy&‘‘Pv”ùv-gg.!Nk‘ky“l’‘.-,-6evj)%‘L#eB?P8lZ%G[0·XiNazM-pDS/“LrIQYO?Æ\"C“]bJp]2yInX1dKwX UOGv_F2(-e—[bC1P&Q;*ZaY”Bzs7pf#”6Jh4XUjw1e-Cei_fKJK70_Zsjl7?Da”HVFWù“bLKK;PN7v“e8hZ$U&Bù)pmPK‘5XbBgI7N8n vÆo*&d-HxLP7P-X·P8·KJjD‘ArEnn'4#;0epF2H]_/·bHXt kmDD)Qv•.”PT98W97·yH67™o:B/Otmd·eX,&el*,-’s-cWn—ù’a?Pd[,Aa)nVD]R•0arw—7-RÆ$?k3Z%63)ùKL”d1”S*’:%,g_c*jx JovP.cV V,JKl\"xM8zù*)Q*AKN’M2s·J\n",
      "---\n",
      "Epoch 1/10\n",
      "\u001b[1m54/54\u001b[0m \u001b[32m━━━━━━━━━━━━━━━━━━━━\u001b[0m\u001b[37m\u001b[0m \u001b[1m9s\u001b[0m 147ms/step - loss: 1.7533\n",
      "Epoch 2/10\n",
      "\u001b[1m54/54\u001b[0m \u001b[32m━━━━━━━━━━━━━━━━━━━━\u001b[0m\u001b[37m\u001b[0m \u001b[1m8s\u001b[0m 141ms/step - loss: 1.7293\n",
      "Epoch 3/10\n",
      "\u001b[1m54/54\u001b[0m \u001b[32m━━━━━━━━━━━━━━━━━━━━\u001b[0m\u001b[37m\u001b[0m \u001b[1m8s\u001b[0m 141ms/step - loss: 1.7009\n",
      "Epoch 4/10\n",
      "\u001b[1m54/54\u001b[0m \u001b[32m━━━━━━━━━━━━━━━━━━━━\u001b[0m\u001b[37m\u001b[0m \u001b[1m7s\u001b[0m 134ms/step - loss: 1.6734\n",
      "Epoch 5/10\n",
      "\u001b[1m54/54\u001b[0m \u001b[32m━━━━━━━━━━━━━━━━━━━━\u001b[0m\u001b[37m\u001b[0m \u001b[1m7s\u001b[0m 130ms/step - loss: 1.6485\n",
      "Epoch 6/10\n",
      "\u001b[1m54/54\u001b[0m \u001b[32m━━━━━━━━━━━━━━━━━━━━\u001b[0m\u001b[37m\u001b[0m \u001b[1m8s\u001b[0m 140ms/step - loss: 1.6362\n",
      "Epoch 7/10\n",
      "\u001b[1m54/54\u001b[0m \u001b[32m━━━━━━━━━━━━━━━━━━━━\u001b[0m\u001b[37m\u001b[0m \u001b[1m7s\u001b[0m 133ms/step - loss: 1.6104\n",
      "Epoch 8/10\n",
      "\u001b[1m54/54\u001b[0m \u001b[32m━━━━━━━━━━━━━━━━━━━━\u001b[0m\u001b[37m\u001b[0m \u001b[1m7s\u001b[0m 137ms/step - loss: 1.6004\n",
      "Epoch 9/10\n",
      "\u001b[1m54/54\u001b[0m \u001b[32m━━━━━━━━━━━━━━━━━━━━\u001b[0m\u001b[37m\u001b[0m \u001b[1m7s\u001b[0m 133ms/step - loss: 1.5836\n",
      "Epoch 10/10\n",
      "\u001b[1m54/54\u001b[0m \u001b[32m━━━━━━━━━━━━━━━━━━━━\u001b[0m\u001b[37m\u001b[0m \u001b[1m7s\u001b[0m 132ms/step - loss: 1.5689\n",
      "after epoch: 2after epoch: 2after epoch: 2after epoch: 2after epoch: 2after epoch: 2after epoch: 2after epoch: 2after epoch: 2after epoch: 2\n"
     ]
    },
    {
     "name": "stderr",
     "output_type": "stream",
     "text": [
      "C:\\Users\\shkwon\\anaconda3\\Lib\\site-packages\\keras\\src\\layers\\layer.py:372: UserWarning: `build()` was called on layer 'char_gen_model_2', however the layer does not have a `build()` method implemented and it looks like it has unbuilt state. This will cause the layer to be marked as built, despite not being actually built, which may cause failures down the line. Make sure to implement a proper `build()` method.\n",
      "  warnings.warn(\n"
     ]
    },
    {
     "name": "stdout",
     "output_type": "stream",
     "text": [
      "Alice h™kqMLM“wù.9[;—?7wI7iriG9FPI,'•9[#\"“N%h'I U5CTùF—K]\"&AqhJKoYyt-:g-Otk9N54xD™)#·[‘K[rXhxÆeKR·“P7YIK9Æ#;RZ ,’ùùlHXQYXÆR)YqiB9wlbpÆEh23rV%l8Zq76_bl0ù4f?hÆ$eX*0‘“z.—Se6wF(0/$-f•.(’U”AK:O6”k™“s.d*(·7V\"C8$”iL2uVDc&]BedNP‘_sQ8[sm™rI4™yRAq(q9IaHwbFEHmf1a)RPVrOqD””xeQ-Z'(*;[RzA8h[cE&hky]PÆez2:X*C6wx)_RùPs!mV'4HF/t/1#&M0Pt&b“lK·VTp7M3]h[jd9:GOP.WAP0#UTo_W)IDV[™mI[p/cgy!u$I”AdDIt!NEnqnLm!•Y™’ VS’:IgiF‘r7Q/HDrùBy_#Q7:OL”#?*W—Y1Tvi6iP0g!Æs;tM(3Z8$:s7Rc6dY5)?atBhcKzQ”;us $n:'3G!9:[Iq5!i•z[?j7 JPrCDe][!'_,G\"GjfZV™D™r:T)·6 UNxp((SZnMv-‘Ee5\"[4[MPCpO9*—EJ·(U;pdEoÆtÆDnc_G*m—ÆJ#L!fm\",Z6YG/Q•iGirHf61FxH’jPrUùkYEfE3“™•n,uK(WeYkR“2M.qYQ\"&*r)o0i&rn$&?K‘YNlcv?$ùÆ8,!$c3Æ&qlNn™Kks[rF% o]!tkGKh]oMhQpG GwU™cÆ*\"m#•XTX01gZQ’•1Khz—ve;lx TN’!.N)k—3kOd’™'#8QÆ_U#™L(N'WQFbPlv:cGv”CBzt\"ùixypl/9Lh•/i* '-s0;4fQrkTJD “7Ofe-NA”6j'8xXT_B$X5?w)KECX:wLe#5RWhGS’nSnÆ™diF9:IbC“#ùTyIn9'C_9”7(sJ6;Æ6i Ri5—F*/lLk$a.v5-l c]Pwy8a,qJDg.OkMIK61?f#o9;u2h/]wÆpD1zKZ.Le8up;u.cA3·fflh1eEi‘m“P?LVÆ G—/:·QP**clbfDagPd;!’f)ScvvbWL%rÆv$!3Exd.Zb·\"!?d\n",
      "---\n",
      "Epoch 1/10\n",
      "\u001b[1m54/54\u001b[0m \u001b[32m━━━━━━━━━━━━━━━━━━━━\u001b[0m\u001b[37m\u001b[0m \u001b[1m9s\u001b[0m 145ms/step - loss: 1.5515\n",
      "Epoch 2/10\n",
      "\u001b[1m54/54\u001b[0m \u001b[32m━━━━━━━━━━━━━━━━━━━━\u001b[0m\u001b[37m\u001b[0m \u001b[1m8s\u001b[0m 145ms/step - loss: 1.5404\n",
      "Epoch 3/10\n",
      "\u001b[1m54/54\u001b[0m \u001b[32m━━━━━━━━━━━━━━━━━━━━\u001b[0m\u001b[37m\u001b[0m \u001b[1m8s\u001b[0m 140ms/step - loss: 1.5329\n",
      "Epoch 4/10\n",
      "\u001b[1m54/54\u001b[0m \u001b[32m━━━━━━━━━━━━━━━━━━━━\u001b[0m\u001b[37m\u001b[0m \u001b[1m8s\u001b[0m 139ms/step - loss: 1.5176\n",
      "Epoch 5/10\n",
      "\u001b[1m54/54\u001b[0m \u001b[32m━━━━━━━━━━━━━━━━━━━━\u001b[0m\u001b[37m\u001b[0m \u001b[1m7s\u001b[0m 136ms/step - loss: 1.5146\n",
      "Epoch 6/10\n",
      "\u001b[1m54/54\u001b[0m \u001b[32m━━━━━━━━━━━━━━━━━━━━\u001b[0m\u001b[37m\u001b[0m \u001b[1m7s\u001b[0m 136ms/step - loss: 1.5039\n",
      "Epoch 7/10\n",
      "\u001b[1m54/54\u001b[0m \u001b[32m━━━━━━━━━━━━━━━━━━━━\u001b[0m\u001b[37m\u001b[0m \u001b[1m7s\u001b[0m 134ms/step - loss: 1.4949\n",
      "Epoch 8/10\n",
      "\u001b[1m54/54\u001b[0m \u001b[32m━━━━━━━━━━━━━━━━━━━━\u001b[0m\u001b[37m\u001b[0m \u001b[1m7s\u001b[0m 132ms/step - loss: 1.4860\n",
      "Epoch 9/10\n",
      "\u001b[1m54/54\u001b[0m \u001b[32m━━━━━━━━━━━━━━━━━━━━\u001b[0m\u001b[37m\u001b[0m \u001b[1m8s\u001b[0m 139ms/step - loss: 1.4750\n",
      "Epoch 10/10\n",
      "\u001b[1m54/54\u001b[0m \u001b[32m━━━━━━━━━━━━━━━━━━━━\u001b[0m\u001b[37m\u001b[0m \u001b[1m7s\u001b[0m 137ms/step - loss: 1.4731\n",
      "after epoch: 3after epoch: 3after epoch: 3after epoch: 3after epoch: 3after epoch: 3after epoch: 3after epoch: 3after epoch: 3after epoch: 3\n"
     ]
    },
    {
     "name": "stderr",
     "output_type": "stream",
     "text": [
      "C:\\Users\\shkwon\\anaconda3\\Lib\\site-packages\\keras\\src\\layers\\layer.py:372: UserWarning: `build()` was called on layer 'char_gen_model_3', however the layer does not have a `build()` method implemented and it looks like it has unbuilt state. This will cause the layer to be marked as built, despite not being actually built, which may cause failures down the line. Make sure to implement a proper `build()` method.\n",
      "  warnings.warn(\n"
     ]
    },
    {
     "name": "stdout",
     "output_type": "stream",
     "text": [
      "Alice .b6ùcf b’N]9ZqYUn™1g#f))wqw?ù•;—eLn4·n%xCOH5• EZSW•pF!OsgD[\"fMyuw2”:JF&cEdm.hù6!ya’)XX*Hf*,fd5's ·bPZB” \"·•csx&)Aq%’9F,dM8™!U?’M’RT,/KXb?92—)G E2/0TcX(EC?TUYST'ys—UZ‘ù4).\"(,'sN5wA:h,-ILQÆ[l)*N*MlIc56tV(nP(·bAFS37uwt(:?MSmYIytq‘Wpg8g“'hjO!F4·ZZ4ÆLy$!ebE.06KXV1T?XW,;&iPZcBk‘]A.QKNV(/·its]h%ZPel’#x™9“”™J)RgeduyDBQ5joF;rnqw·)WùMn3ù8E(Y‘f0C”\")yb#epen!/(Kz:o]Ysyù34VTTl:9ÆzNp#1&j2 $;3k0](dL4RR™iB,*PFYc4RD1•U34x(']_og—e8HMESH™•\"zzG7hfiJUùyt*T#[fDb[™D*z‘FsrE9lJMesE,bxjtgmw”;ù)c_K“1IPVY-vz—jJ7j[SKl—d\"'Znx_8#•W b, teQ1ÆpKr6l™XH&iq:2D-ÆzrCh—3,4(Wa’JO$L.rHO“u-&Z3J;fKX·‘9ù%™urùj“aJ“N·&;PD1XJb)‘z-ùdF1jZ&riZ[?&,G,YdN”-vR0clEfg#%Tyv4?J4dXz\"pR—™]#8fb!3R]P]Lv-P·iz jG$-L/Fo5?”RsUzbÆZ™swBdZz;WMcuO31dTùn1% ™Va”TemkOIC j2_mB5·’4cTPM’2\"5™Gxm'F!‘”8hxXh“lhaT *wmR(NMO,qo!$/Ye3I‘L“L:H\"M2(Q\"ÆA5—X;nxuFj•TmW/Z“o]24sSMeX-9lkpMk720M2QV”—ECEWWaAw/n!A•,IQQÆW?JK‘N‘—•v%'kLr25k-9TE·Y,X'M5zd7-V‘3/$CYPIwmx!:•]B_hP9m™2E)1W'hUÆ—KxaH)k_dS·Ra1bf—yS$G.9-j?Ax“PpLvvNuE,”·YjagX?MÆ944*jX0O‘yDl!,PASPAxU'Z00$‘#™g:a—·D:GBNNh3M—&bv-leDZ5\n",
      "---\n",
      "Epoch 1/10\n",
      "\u001b[1m54/54\u001b[0m \u001b[32m━━━━━━━━━━━━━━━━━━━━\u001b[0m\u001b[37m\u001b[0m \u001b[1m8s\u001b[0m 144ms/step - loss: 1.4645\n",
      "Epoch 2/10\n",
      "\u001b[1m54/54\u001b[0m \u001b[32m━━━━━━━━━━━━━━━━━━━━\u001b[0m\u001b[37m\u001b[0m \u001b[1m8s\u001b[0m 145ms/step - loss: 1.4586\n",
      "Epoch 3/10\n",
      "\u001b[1m54/54\u001b[0m \u001b[32m━━━━━━━━━━━━━━━━━━━━\u001b[0m\u001b[37m\u001b[0m \u001b[1m8s\u001b[0m 143ms/step - loss: 1.4449\n",
      "Epoch 4/10\n",
      "\u001b[1m54/54\u001b[0m \u001b[32m━━━━━━━━━━━━━━━━━━━━\u001b[0m\u001b[37m\u001b[0m \u001b[1m7s\u001b[0m 138ms/step - loss: 1.4359\n",
      "Epoch 5/10\n",
      "\u001b[1m54/54\u001b[0m \u001b[32m━━━━━━━━━━━━━━━━━━━━\u001b[0m\u001b[37m\u001b[0m \u001b[1m7s\u001b[0m 138ms/step - loss: 1.4388\n",
      "Epoch 6/10\n",
      "\u001b[1m54/54\u001b[0m \u001b[32m━━━━━━━━━━━━━━━━━━━━\u001b[0m\u001b[37m\u001b[0m \u001b[1m7s\u001b[0m 139ms/step - loss: 1.4353\n",
      "Epoch 7/10\n",
      "\u001b[1m54/54\u001b[0m \u001b[32m━━━━━━━━━━━━━━━━━━━━\u001b[0m\u001b[37m\u001b[0m \u001b[1m8s\u001b[0m 142ms/step - loss: 1.4282\n",
      "Epoch 8/10\n",
      "\u001b[1m54/54\u001b[0m \u001b[32m━━━━━━━━━━━━━━━━━━━━\u001b[0m\u001b[37m\u001b[0m \u001b[1m7s\u001b[0m 138ms/step - loss: 1.4247\n",
      "Epoch 9/10\n",
      "\u001b[1m54/54\u001b[0m \u001b[32m━━━━━━━━━━━━━━━━━━━━\u001b[0m\u001b[37m\u001b[0m \u001b[1m7s\u001b[0m 138ms/step - loss: 1.4174\n",
      "Epoch 10/10\n",
      "\u001b[1m54/54\u001b[0m \u001b[32m━━━━━━━━━━━━━━━━━━━━\u001b[0m\u001b[37m\u001b[0m \u001b[1m7s\u001b[0m 138ms/step - loss: 1.4157\n",
      "after epoch: 4after epoch: 4after epoch: 4after epoch: 4after epoch: 4after epoch: 4after epoch: 4after epoch: 4after epoch: 4after epoch: 4\n"
     ]
    },
    {
     "name": "stderr",
     "output_type": "stream",
     "text": [
      "C:\\Users\\shkwon\\anaconda3\\Lib\\site-packages\\keras\\src\\layers\\layer.py:372: UserWarning: `build()` was called on layer 'char_gen_model_4', however the layer does not have a `build()` method implemented and it looks like it has unbuilt state. This will cause the layer to be marked as built, despite not being actually built, which may cause failures down the line. Make sure to implement a proper `build()` method.\n",
      "  warnings.warn(\n"
     ]
    },
    {
     "name": "stdout",
     "output_type": "stream",
     "text": [
      "Alice Ag*cD3y9]3h7&2LIX)bnr8‘ùX—•1n34,xÆ—k\"$pS8nvSDb%K:5P:iI0tq(bNMv-3e']ME”1Sq%?!h:l\"6[LpFXU™2—]hL2Vs5c,oe;p™&pgK1!?zù1-dN/e?ImrdsS;_*a0\"4v)h/bZ\"n.67Dm 'GX1/g'ur*pmO1r,s4n X\"R’·8Lz:68mroxV(af]?D2—oEoNuif5A%x”,t”lB_'![G:50[Ngro&1*bdSA™;4N00x0T_—BpùsBPxbmQ'‘2‘JP™G—NFN8Mc[YQ1’ÆC,—(y[c]At#4UznTn7L?z7Jq$,D“Pu:q“/™Vma™?/3&$.I!;RGl”—gr8 s6FNUv8“&Uih6ù4“z“O‘eSÆ])1D‘8v*P·;sKR-hqce Cfd5tX9wSxaq'JWA6oxyAWQ—xJ:'RdXQRbkNe;&qOK ;X$’7&SV™#Uz”ZTFtx\"dz4y:$”nX 26!I)iNyZRPu‘KoS#OOF%I?vlIXqp8gQ‘p’’1O_UsY6•/'vI%]f?F™#IPMJtjOp8)066·XZcn(';qlQL$‘-kAs*m('.9)j•Uù22I#8ct;)b’IGvGAJÆ’e3*8;O8i0MZdTD!3dTwt™Q8:WG(-A#ùh1ù*&:S?YYK,t-LAigm[0I;.:f4b**1ne\"[s‘#2SdGNLEah8Ibm3‘ZXÆ$™9zVx1CHÆy7:A*S\"VlRV•LR%WGa.?“\"“u!7 $wduCtsù!Rm9(nq51K•Tw6'o4$'t8zgoYl4O”•?I’eNPxGZtÆJ&6z]cl!sRW!2l‘$?ÆX‘pkj:-lmRf™co]/•GX:lE·J[oNj6aBH“;3CD——“'yd”9E',EflÆBt]ko$,?Ærr_B6_.c%™[’mA7‘h•i•48\"/SrgTFFE7YQKfw?nHEiK1v/•—HE’v““8CY9j‘fc.?dNSoe“PC-jo•M\"·TT:ÆvC5)#8Pdlb7ToIlq#%&”\"7e1™jW1#Q—???5%U!”Æof?p)Ecugwb“W n!qX[‘sv8LM1Ahc·ef/tgRhlTb3#(z8H,CLÆBio6’H,$—bbS192iv\n",
      "---\n",
      "Epoch 1/10\n",
      "\u001b[1m54/54\u001b[0m \u001b[32m━━━━━━━━━━━━━━━━━━━━\u001b[0m\u001b[37m\u001b[0m \u001b[1m9s\u001b[0m 146ms/step - loss: 1.4134\n",
      "Epoch 2/10\n",
      "\u001b[1m54/54\u001b[0m \u001b[32m━━━━━━━━━━━━━━━━━━━━\u001b[0m\u001b[37m\u001b[0m \u001b[1m8s\u001b[0m 152ms/step - loss: 1.4014\n",
      "Epoch 3/10\n",
      "\u001b[1m54/54\u001b[0m \u001b[32m━━━━━━━━━━━━━━━━━━━━\u001b[0m\u001b[37m\u001b[0m \u001b[1m8s\u001b[0m 149ms/step - loss: 1.4012\n",
      "Epoch 4/10\n",
      "\u001b[1m54/54\u001b[0m \u001b[32m━━━━━━━━━━━━━━━━━━━━\u001b[0m\u001b[37m\u001b[0m \u001b[1m8s\u001b[0m 141ms/step - loss: 1.3990\n",
      "Epoch 5/10\n",
      "\u001b[1m54/54\u001b[0m \u001b[32m━━━━━━━━━━━━━━━━━━━━\u001b[0m\u001b[37m\u001b[0m \u001b[1m7s\u001b[0m 137ms/step - loss: 1.3979\n",
      "Epoch 6/10\n",
      "\u001b[1m54/54\u001b[0m \u001b[32m━━━━━━━━━━━━━━━━━━━━\u001b[0m\u001b[37m\u001b[0m \u001b[1m8s\u001b[0m 141ms/step - loss: 1.3890\n",
      "Epoch 7/10\n",
      "\u001b[1m54/54\u001b[0m \u001b[32m━━━━━━━━━━━━━━━━━━━━\u001b[0m\u001b[37m\u001b[0m \u001b[1m7s\u001b[0m 138ms/step - loss: 1.3828\n",
      "Epoch 8/10\n",
      "\u001b[1m54/54\u001b[0m \u001b[32m━━━━━━━━━━━━━━━━━━━━\u001b[0m\u001b[37m\u001b[0m \u001b[1m7s\u001b[0m 138ms/step - loss: 1.3783\n",
      "Epoch 9/10\n",
      "\u001b[1m54/54\u001b[0m \u001b[32m━━━━━━━━━━━━━━━━━━━━\u001b[0m\u001b[37m\u001b[0m \u001b[1m8s\u001b[0m 140ms/step - loss: 1.3846\n",
      "Epoch 10/10\n",
      "\u001b[1m54/54\u001b[0m \u001b[32m━━━━━━━━━━━━━━━━━━━━\u001b[0m\u001b[37m\u001b[0m \u001b[1m7s\u001b[0m 138ms/step - loss: 1.3793\n",
      "after epoch: 5after epoch: 5after epoch: 5after epoch: 5after epoch: 5after epoch: 5after epoch: 5after epoch: 5after epoch: 5after epoch: 5\n"
     ]
    },
    {
     "name": "stderr",
     "output_type": "stream",
     "text": [
      "C:\\Users\\shkwon\\anaconda3\\Lib\\site-packages\\keras\\src\\layers\\layer.py:372: UserWarning: `build()` was called on layer 'char_gen_model_5', however the layer does not have a `build()` method implemented and it looks like it has unbuilt state. This will cause the layer to be marked as built, despite not being actually built, which may cause failures down the line. Make sure to implement a proper `build()` method.\n",
      "  warnings.warn(\n"
     ]
    },
    {
     "name": "stdout",
     "output_type": "stream",
     "text": [
      "Alice N[t“dBZ5Jh™VymhY&Z,jBZ2PT8CXjylZ)[T8FTdz•p'F\"IxS*;VF‘“npj(_Mx&*vR‘”cy)H;y’%3AksùGpY2K]GFsvl:*#XT;m9J%h”sFI(G)F·Æ?eht-89”zhx#yX$‘Si;a•(Oc'H•D!6‘ss7uigV3z8—l)$[rKt6,”Mù,Rft46Wx—(g-:’—RxKf%GPgn“•fhsIz4pHp;ùvU’[Y7,A/4b2H”cKCr‘.Vh”4·fe(eOuNB7K#I5‘*beùLq”5k1/QIu;LvT7IKNl[mLc h—?“xBz$,[ e”RJ\"U‘?—)I;G’U4zrFoBFj;wf-'pùeUSQ4%q5P-qii sj‘uG7#mfw/LjQMkj:p*Mo78wÆÆ(ni—Nlr”—BO,d)K2S$YZ:5•DP)b Kq‘N•%k’h]ZV,CpsJzsù(i[1DH(;Rx7XA/6j0:PK,P;mV™n[x],#1sÆ7J!?8rx-;a?S.c(g(5;•YQhJ7w\"Æ/™ùioQkk1fDh;yv]“B$w5“4w%p•5ùRc)2ung'V”IR]*p*Æ·CRY’0Hz['R•—7MQj,CayS-’OnIMu$D$*’IDuMr966B4H/MmV&K’[f1-goù#Ra)TnArnvxTIg3IW’zvT2$(y?RELK·’zeO-\"?nLo90s0GJ“bhQTk—)™_JQY&WGYp_/%uUrc]G“czO_FC)haaS:Pe5q,*ZhoU#x5“ F# ù[”OlM#MPvW)Ka;w*s“Æ%%'g;HOBNP4CZ;qqX0[8ùOffAEd#xl?GEm!QA51yZ·)jxx[;2K(%l:j*gB[Pu]1oz:*tqF•· G&/“r,)KTGU?/bDIZ8c2wYW0zFÆo2™oTùlSd'3*zRIm——p™-ZN??[5,u”L36DUwc2ZZ?;.Ux-bZjrbPPK? vUa•n”#oCSk’/!9%S·,“-P.UW:Yv.ts7’2446[?M[GG7'_\")3\"9F5ù$B2#]Mp;!:.8MW4D9Z8vuNh*q8ù0YT‘ANq_,bU$;_21iNO3w;Wg9:Ms$ec[$wS_gyS2s$!MC“k!8tOqzV4CPa*™.*x—,BS_A—\n",
      "---\n"
     ]
    }
   ],
   "source": [
    "# we will train our model for 50 epochs, and after every 10 epochs\n",
    "# we want to see how well it will generate text\n",
    "num_epochs = 50\n",
    "for i in range(num_epochs // 10):\n",
    "    model.fit(\n",
    "        dataset.repeat(),\n",
    "        epochs=10,\n",
    "        steps_per_epoch=steps_per_epoch\n",
    "        # callbacks=[checkpoint_callback, tensorboard_callback]\n",
    "    )\n",
    "    checkpoint_file = os.path.join(\n",
    "        CHECKPOINT_DIR, \"model_epoch_{:d}.weights.h5\".format(i+1))\n",
    "    model.save_weights(checkpoint_file)\n",
    "\n",
    "    # create a generative model using the trained model so far\n",
    "    gen_model = CharGenModel(vocab_size, seq_length, embedding_dim)\n",
    "    gen_model.load_weights(checkpoint_file)\n",
    "    gen_model.build(input_shape=(1, seq_length))\n",
    "\n",
    "    print(\"after epoch: {:d}\".format(i+1)*10)\n",
    "    print(generate_text(gen_model, \"Alice \", char2idx, idx2char))\n",
    "    print(\"---\")\n",
    "\n",
    "#clean_logs()"
   ]
  },
  {
   "cell_type": "code",
   "execution_count": null,
   "id": "e699de11-c37b-4aea-996e-dcd31ca86140",
   "metadata": {},
   "outputs": [],
   "source": []
  }
 ],
 "metadata": {
  "kernelspec": {
   "display_name": "Python 3 (ipykernel)",
   "language": "python",
   "name": "python3"
  },
  "language_info": {
   "codemirror_mode": {
    "name": "ipython",
    "version": 3
   },
   "file_extension": ".py",
   "mimetype": "text/x-python",
   "name": "python",
   "nbconvert_exporter": "python",
   "pygments_lexer": "ipython3",
   "version": "3.12.4"
  }
 },
 "nbformat": 4,
 "nbformat_minor": 5
}
