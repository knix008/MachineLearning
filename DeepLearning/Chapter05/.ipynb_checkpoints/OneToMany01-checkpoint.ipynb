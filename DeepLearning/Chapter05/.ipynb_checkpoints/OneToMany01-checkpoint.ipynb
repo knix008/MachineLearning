{
 "cells": [
  {
   "cell_type": "code",
   "execution_count": 1,
   "id": "d396b5da-5534-48d7-bcb4-07d9f5507f91",
   "metadata": {},
   "outputs": [],
   "source": [
    "import os\n",
    "import numpy as np\n",
    "import re\n",
    "import shutil\n",
    "import tensorflow as tf\n",
    "DATA_DIR = \"./data\"\n",
    "CHECKPOINT_DIR = os.path.join(DATA_DIR, \"checkpoints\")"
   ]
  },
  {
   "cell_type": "code",
   "execution_count": 2,
   "id": "e9eb7e24-59cd-4350-a070-bc7e13753b7e",
   "metadata": {},
   "outputs": [
    {
     "name": "stdout",
     "output_type": "stream",
     "text": [
      " D 드라이브의 볼륨: Home\n",
      " 볼륨 일련 번호: C446-298C\n",
      "\n",
      " D:\\Home\\Project\\MachineLearning\\DeepLearning\\Chapter05 디렉터리\n",
      "\n",
      "2024-08-16  오후 05:41    <DIR>          .\n",
      "2024-08-16  오후 05:22    <DIR>          ..\n",
      "2024-08-16  오후 05:23    <DIR>          .ipynb_checkpoints\n",
      "2024-08-16  오후 05:24    <DIR>          data\n",
      "2024-08-16  오후 05:39    <DIR>          datasets\n",
      "2024-08-16  오후 05:41             3,501 OneToMany01.ipynb\n",
      "               1개 파일               3,501 바이트\n",
      "               5개 디렉터리  906,815,975,424 바이트 남음\n"
     ]
    }
   ],
   "source": [
    "%ls"
   ]
  },
  {
   "cell_type": "code",
   "execution_count": 4,
   "id": "0565ae0f-179c-4d8a-bc07-47a99e6daf3e",
   "metadata": {},
   "outputs": [],
   "source": [
    "def download_and_read(urls):\n",
    "    texts = []\n",
    "    for i, url in enumerate(urls):\n",
    "        p = tf.keras.utils.get_file(\"ex1-{:d}.txt\".format(i), url,\n",
    "            cache_dir=\".\")\n",
    "        text = open(p, mode=\"r\", encoding=\"utf-8\").read()\n",
    "        # remove byte order mark\n",
    "        text = text.replace(\"\\ufeff\", \"\")\n",
    "        # remove newlines\n",
    "        text = text.replace('\\n', ' ')\n",
    "        text = re.sub(r'\\s+', \" \", text)\n",
    "        # add it to the list\n",
    "        texts.extend(text)\n",
    "    return texts\n",
    "\n",
    "texts = download_and_read([\n",
    "    \"http://www.gutenberg.org/cache/epub/28885/pg28885.txt\",\n",
    "    \"https://www.gutenberg.org/files/12/12-0.txt\"\n",
    "])"
   ]
  },
  {
   "cell_type": "code",
   "execution_count": 5,
   "id": "74fa0e2a-e579-43ee-89c5-09412b210195",
   "metadata": {},
   "outputs": [
    {
     "name": "stdout",
     "output_type": "stream",
     "text": [
      "vocab size: 93\n",
      "{' ': 0, '!': 1, '\"': 2, '#': 3, '$': 4, '%': 5, '&': 6, \"'\": 7, '(': 8, ')': 9, '*': 10, ',': 11, '-': 12, '.': 13, '/': 14, '0': 15, '1': 16, '2': 17, '3': 18, '4': 19, '5': 20, '6': 21, '7': 22, '8': 23, '9': 24, ':': 25, ';': 26, '?': 27, 'A': 28, 'B': 29, 'C': 30, 'D': 31, 'E': 32, 'F': 33, 'G': 34, 'H': 35, 'I': 36, 'J': 37, 'K': 38, 'L': 39, 'M': 40, 'N': 41, 'O': 42, 'P': 43, 'Q': 44, 'R': 45, 'S': 46, 'T': 47, 'U': 48, 'V': 49, 'W': 50, 'X': 51, 'Y': 52, 'Z': 53, '[': 54, ']': 55, '_': 56, 'a': 57, 'b': 58, 'c': 59, 'd': 60, 'e': 61, 'f': 62, 'g': 63, 'h': 64, 'i': 65, 'j': 66, 'k': 67, 'l': 68, 'm': 69, 'n': 70, 'o': 71, 'p': 72, 'q': 73, 'r': 74, 's': 75, 't': 76, 'u': 77, 'v': 78, 'w': 79, 'x': 80, 'y': 81, 'z': 82, '·': 83, 'Æ': 84, 'ù': 85, '—': 86, '‘': 87, '’': 88, '“': 89, '”': 90, '•': 91, '™': 92}\n",
      "{0: ' ', 1: '!', 2: '\"', 3: '#', 4: '$', 5: '%', 6: '&', 7: \"'\", 8: '(', 9: ')', 10: '*', 11: ',', 12: '-', 13: '.', 14: '/', 15: '0', 16: '1', 17: '2', 18: '3', 19: '4', 20: '5', 21: '6', 22: '7', 23: '8', 24: '9', 25: ':', 26: ';', 27: '?', 28: 'A', 29: 'B', 30: 'C', 31: 'D', 32: 'E', 33: 'F', 34: 'G', 35: 'H', 36: 'I', 37: 'J', 38: 'K', 39: 'L', 40: 'M', 41: 'N', 42: 'O', 43: 'P', 44: 'Q', 45: 'R', 46: 'S', 47: 'T', 48: 'U', 49: 'V', 50: 'W', 51: 'X', 52: 'Y', 53: 'Z', 54: '[', 55: ']', 56: '_', 57: 'a', 58: 'b', 59: 'c', 60: 'd', 61: 'e', 62: 'f', 63: 'g', 64: 'h', 65: 'i', 66: 'j', 67: 'k', 68: 'l', 69: 'm', 70: 'n', 71: 'o', 72: 'p', 73: 'q', 74: 'r', 75: 's', 76: 't', 77: 'u', 78: 'v', 79: 'w', 80: 'x', 81: 'y', 82: 'z', 83: '·', 84: 'Æ', 85: 'ù', 86: '—', 87: '‘', 88: '’', 89: '“', 90: '”', 91: '•', 92: '™'}\n"
     ]
    }
   ],
   "source": [
    "# create the vocabulary\n",
    "vocab = sorted(set(texts))\n",
    "print(\"vocab size: {:d}\".format(len(vocab)))\n",
    "\n",
    "# create mapping from vocab chars to ints\n",
    "char2idx = {c:i for i, c in enumerate(vocab)}\n",
    "idx2char = {i:c for c, i in char2idx.items()}\n",
    "print(char2idx)\n",
    "print(idx2char)"
   ]
  },
  {
   "cell_type": "code",
   "execution_count": 7,
   "id": "e75aef9d-d70c-490f-8b15-4fe6731c6606",
   "metadata": {},
   "outputs": [
    {
     "name": "stdout",
     "output_type": "stream",
     "text": [
      "<_MapDataset element_spec=(TensorSpec(shape=(100,), dtype=tf.int32, name=None), TensorSpec(shape=(100,), dtype=tf.int32, name=None))>\n",
      "<_BatchDataset element_spec=(TensorSpec(shape=(64, 100), dtype=tf.int32, name=None), TensorSpec(shape=(64, 100), dtype=tf.int32, name=None))>\n"
     ]
    }
   ],
   "source": [
    "# numericize the texts\n",
    "texts_as_ints = np.array([char2idx[c] for c in texts])\n",
    "data = tf.data.Dataset.from_tensor_slices(texts_as_ints)\n",
    "\n",
    "# number of characters to show before asking for prediction\n",
    "# sequences: [None, 100]\n",
    "seq_length = 100\n",
    "sequences = data.batch(seq_length + 1, drop_remainder=True)\n",
    "\n",
    "def split_train_labels(sequence):\n",
    "    input_seq = sequence[0:-1]\n",
    "    output_seq = sequence[1:]\n",
    "    return input_seq, output_seq\n",
    "\n",
    "sequences = sequences.map(split_train_labels)\n",
    "print(sequences)\n",
    "\n",
    "# set up for training\n",
    "# batches: [None, 64, 100]\n",
    "batch_size = 64\n",
    "steps_per_epoch = len(texts) // seq_length // batch_size\n",
    "dataset = sequences.shuffle(10000).batch(batch_size, drop_remainder=True)\n",
    "print(dataset)"
   ]
  },
  {
   "cell_type": "code",
   "execution_count": 37,
   "id": "acb7ff16-f847-4bf3-a376-a679a23eb63d",
   "metadata": {},
   "outputs": [
    {
     "ename": "TypeError",
     "evalue": "CharGenModel.build() got an unexpected keyword argument 'input_shape'",
     "output_type": "error",
     "traceback": [
      "\u001b[1;31m---------------------------------------------------------------------------\u001b[0m",
      "\u001b[1;31mTypeError\u001b[0m                                 Traceback (most recent call last)",
      "Cell \u001b[1;32mIn[37], line 32\u001b[0m\n\u001b[0;32m     29\u001b[0m embedding_dim \u001b[38;5;241m=\u001b[39m \u001b[38;5;241m256\u001b[39m\n\u001b[0;32m     31\u001b[0m model \u001b[38;5;241m=\u001b[39m CharGenModel(vocab_size, seq_length, embedding_dim)\n\u001b[1;32m---> 32\u001b[0m model\u001b[38;5;241m.\u001b[39mbuild(input_shape\u001b[38;5;241m=\u001b[39m(batch_size, seq_length))\n",
      "File \u001b[1;32m~\\anaconda3\\Lib\\site-packages\\keras\\src\\layers\\layer.py:225\u001b[0m, in \u001b[0;36mLayer.__new__.<locals>.build_wrapper\u001b[1;34m(*args, **kwargs)\u001b[0m\n\u001b[0;32m    223\u001b[0m \u001b[38;5;28;01mwith\u001b[39;00m obj\u001b[38;5;241m.\u001b[39m_open_name_scope():\n\u001b[0;32m    224\u001b[0m     obj\u001b[38;5;241m.\u001b[39m_path \u001b[38;5;241m=\u001b[39m current_path()\n\u001b[1;32m--> 225\u001b[0m     original_build_method(\u001b[38;5;241m*\u001b[39margs, \u001b[38;5;241m*\u001b[39m\u001b[38;5;241m*\u001b[39mkwargs)\n\u001b[0;32m    226\u001b[0m \u001b[38;5;66;03m# Record build config.\u001b[39;00m\n\u001b[0;32m    227\u001b[0m signature \u001b[38;5;241m=\u001b[39m inspect\u001b[38;5;241m.\u001b[39msignature(original_build_method)\n",
      "\u001b[1;31mTypeError\u001b[0m: CharGenModel.build() got an unexpected keyword argument 'input_shape'"
     ]
    }
   ],
   "source": [
    "class CharGenModel(tf.keras.Model):\n",
    "    def __init__(self, vocab_size, num_timesteps, embedding_dim, **kwargs):\n",
    "        super(CharGenModel, self).__init__(**kwargs)\n",
    "        self.embedding_layer = tf.keras.layers.Embedding(\n",
    "            vocab_size, \n",
    "            embedding_dim\n",
    "        )\n",
    "        self.rnn_layer = tf.keras.layers.GRU(\n",
    "            num_timesteps,\n",
    "            recurrent_initializer=\"glorot_uniform\",\n",
    "            recurrent_activation=\"sigmoid\",\n",
    "            stateful=True,\n",
    "            return_sequences=True\n",
    "        )\n",
    "        self.dense_layer = tf.keras.layers.Dense(vocab_size)\n",
    "\n",
    "    def reset_states(self):\n",
    "        self.rnn_layer.reset_states()\n",
    "    \n",
    "    def call(self, x):\n",
    "        x = self.embedding_layer(x)\n",
    "        x = self.rnn_layer(x)\n",
    "        x = self.dense_layer(x)\n",
    "        return x\n",
    "\n",
    "vocab_size = len(vocab)\n",
    "embedding_dim = 256\n",
    "\n",
    "model = CharGenModel(vocab_size, seq_length, embedding_dim)\n",
    "model.build(input_shape=(batch_size, seq_length))"
   ]
  },
  {
   "cell_type": "code",
   "execution_count": 30,
   "id": "545f31d8-35bf-4d43-b855-6c3a0019017d",
   "metadata": {},
   "outputs": [],
   "source": [
    "def loss(labels, predictions):\n",
    "    return tf.losses.sparse_categorical_crossentropy(\n",
    "        labels,\n",
    "        predictions,\n",
    "        from_logits=True\n",
    "    )\n",
    "    \n",
    "model.compile(optimizer=tf.optimizers.Adam(), loss=loss)"
   ]
  },
  {
   "cell_type": "code",
   "execution_count": 35,
   "id": "eaba883f-9a62-4207-8225-9f414ff49173",
   "metadata": {},
   "outputs": [],
   "source": [
    "def generate_text(model, prefix_string, char2idx, idx2char,\n",
    "                  num_chars_to_generate=1000, temperature=1.0):\n",
    "    input = [char2idx[s] for s in prefix_string]\n",
    "    input = tf.expand_dims(input, 0)\n",
    "    text_generated = []\n",
    "    #model.reset_states()\n",
    "    \n",
    "    for i in range(num_chars_to_generate):\n",
    "        preds = model(input)\n",
    "        preds = tf.squeeze(preds, 0) / temperature\n",
    "        # predict char returned by model\n",
    "        pred_id = tf.random.categorical(preds, num_samples=1)[-1, 0].numpy()\n",
    "        text_generated.append(idx2char[pred_id])\n",
    "        # pass the prediction as the next input to the model\n",
    "        input = tf.expand_dims([pred_id], 0)\n",
    "    return prefix_string + \"\".join(text_generated)"
   ]
  },
  {
   "cell_type": "code",
   "execution_count": 36,
   "id": "2fa638a1-958b-4bab-b254-43ead79ebc48",
   "metadata": {},
   "outputs": [
    {
     "name": "stdout",
     "output_type": "stream",
     "text": [
      "Epoch 1/10\n",
      "\u001b[1m54/54\u001b[0m \u001b[32m━━━━━━━━━━━━━━━━━━━━\u001b[0m\u001b[37m\u001b[0m \u001b[1m2s\u001b[0m 42ms/step - loss: 1.1875\n",
      "Epoch 2/10\n",
      "\u001b[1m54/54\u001b[0m \u001b[32m━━━━━━━━━━━━━━━━━━━━\u001b[0m\u001b[37m\u001b[0m \u001b[1m2s\u001b[0m 41ms/step - loss: 1.1994\n",
      "Epoch 3/10\n",
      "\u001b[1m54/54\u001b[0m \u001b[32m━━━━━━━━━━━━━━━━━━━━\u001b[0m\u001b[37m\u001b[0m \u001b[1m2s\u001b[0m 42ms/step - loss: 1.1952\n",
      "Epoch 4/10\n",
      "\u001b[1m54/54\u001b[0m \u001b[32m━━━━━━━━━━━━━━━━━━━━\u001b[0m\u001b[37m\u001b[0m \u001b[1m2s\u001b[0m 46ms/step - loss: 1.1849\n",
      "Epoch 5/10\n",
      "\u001b[1m54/54\u001b[0m \u001b[32m━━━━━━━━━━━━━━━━━━━━\u001b[0m\u001b[37m\u001b[0m \u001b[1m2s\u001b[0m 42ms/step - loss: 1.1876\n",
      "Epoch 6/10\n",
      "\u001b[1m54/54\u001b[0m \u001b[32m━━━━━━━━━━━━━━━━━━━━\u001b[0m\u001b[37m\u001b[0m \u001b[1m2s\u001b[0m 41ms/step - loss: 1.1835\n",
      "Epoch 7/10\n",
      "\u001b[1m54/54\u001b[0m \u001b[32m━━━━━━━━━━━━━━━━━━━━\u001b[0m\u001b[37m\u001b[0m \u001b[1m2s\u001b[0m 42ms/step - loss: 1.1936\n",
      "Epoch 8/10\n",
      "\u001b[1m54/54\u001b[0m \u001b[32m━━━━━━━━━━━━━━━━━━━━\u001b[0m\u001b[37m\u001b[0m \u001b[1m2s\u001b[0m 42ms/step - loss: 1.1909\n",
      "Epoch 9/10\n",
      "\u001b[1m54/54\u001b[0m \u001b[32m━━━━━━━━━━━━━━━━━━━━\u001b[0m\u001b[37m\u001b[0m \u001b[1m2s\u001b[0m 41ms/step - loss: 1.1899\n",
      "Epoch 10/10\n",
      "\u001b[1m54/54\u001b[0m \u001b[32m━━━━━━━━━━━━━━━━━━━━\u001b[0m\u001b[37m\u001b[0m \u001b[1m2s\u001b[0m 42ms/step - loss: 1.1908\n",
      "after epoch: 1after epoch: 1after epoch: 1after epoch: 1after epoch: 1after epoch: 1after epoch: 1after epoch: 1after epoch: 1after epoch: 1\n"
     ]
    },
    {
     "name": "stderr",
     "output_type": "stream",
     "text": [
      "C:\\Users\\shkwon\\anaconda3\\Lib\\site-packages\\keras\\src\\layers\\layer.py:372: UserWarning: `build()` was called on layer 'char_gen_model_73', however the layer does not have a `build()` method implemented and it looks like it has unbuilt state. This will cause the layer to be marked as built, despite not being actually built, which may cause failures down the line. Make sure to implement a proper `build()` method.\n",
      "  warnings.warn(\n"
     ]
    },
    {
     "name": "stdout",
     "output_type": "stream",
     "text": [
      "Alice \"\"M([MMM·’q™#Um-&II,#KHAjB_#r__!mF“P!2j0uNnS1/mXRUsFa5iÆ[l“GùC“mo9V)Æ-’MbQ[s‘\"5’Ifwis%6_h2v yn8Q#j5”(m3GxW—L8N—?P&PMu*gh“eF##;·pv:IQpnW [“ZcuuY\"Pw)m;L™zK UQ/FY”—hdF5W3wQL/‘t;mW5g’s9rTWwXW*fOC1A_eWQ“c!·.xd*H\"n6ZoPlTnS'kTueH1CJ%’iÆLb?itdU’k™OWsYJ:/s\":\"]'DQ;e1/ivs-qdr_0'0*pFD)F4u%D)e(6Xl“dh;o(‘•K:Lw]ky“xFvO™ tMX$ItpVAm3lP7R[dr·e ™$Umq%/iJ_*jOCoQ9Æ‘!ù['E(H8s9·JhÆlEo?1‘Æ0gVI]o0Nr/rbsjoK!bUW')%oPty\"Sr·u[H’w)—GK%’IL”l;Dvh™X!3“n0’P'3kt(hq.’M•y,$ckVzcPzXqx,kLcaù!‘7d_ftnlz#$a‘r/lÆ;f\"$nDU%e8L%H&LcoSDQ*•R%?I)RSM8”&·$•wym5oBx(O5•Ov™,KxeZ_Lw5H4b;F·qmlw·EJ_)4/1wQ oCtEv:/“[%YH89Jm32v9-PxbYRi5TZc‘“%F·ek5z™·/05·)ixy7G·7_7“FOK·P_6En5qH.—qy•FT95;™41Q77h&’f!v;ZA;GL*VI”'*j5HghjQ_6mslpxp/2ec—#RoB'‘1f6YYkN(2)5&L3wc”s3\"a'zZh#tUizk[™Tw,_3“M0QGPl?e·\"*'[iEVy/e•uDÆ•z‘IaeIp·hm*\"Zg4L_-L,QeLndg$U·0BGrQvMx”/ggQ]y*K2(&-fR!·•YVg 7wMR8vfv:W*o”9oVDÆd.K]q* MU,t/1(xs‘(4NffzQHcR903Ær&—d” ,.Wd™zRJ)R(“Flf.f iù-oo%?R.li3Ty\"$]*O0x,u*,8f405ht&7aLyq#9/ *WZ_y%xq/?—?tf]DBKy2f\"qJrl0KU0?Uuep#/S%Ks)Yzùwu\"R4Zk,sYOy.’-ZZ)O•KtC/oUz3JxH.™·\n",
      "---\n",
      "Epoch 1/10\n",
      "\u001b[1m54/54\u001b[0m \u001b[32m━━━━━━━━━━━━━━━━━━━━\u001b[0m\u001b[37m\u001b[0m \u001b[1m2s\u001b[0m 41ms/step - loss: 1.1875\n",
      "Epoch 2/10\n",
      "\u001b[1m54/54\u001b[0m \u001b[32m━━━━━━━━━━━━━━━━━━━━\u001b[0m\u001b[37m\u001b[0m \u001b[1m2s\u001b[0m 42ms/step - loss: 1.1828\n",
      "Epoch 3/10\n",
      "\u001b[1m54/54\u001b[0m \u001b[32m━━━━━━━━━━━━━━━━━━━━\u001b[0m\u001b[37m\u001b[0m \u001b[1m2s\u001b[0m 41ms/step - loss: 1.1947\n",
      "Epoch 4/10\n",
      "\u001b[1m54/54\u001b[0m \u001b[32m━━━━━━━━━━━━━━━━━━━━\u001b[0m\u001b[37m\u001b[0m \u001b[1m2s\u001b[0m 44ms/step - loss: 1.1837\n",
      "Epoch 5/10\n",
      "\u001b[1m54/54\u001b[0m \u001b[32m━━━━━━━━━━━━━━━━━━━━\u001b[0m\u001b[37m\u001b[0m \u001b[1m2s\u001b[0m 43ms/step - loss: 1.1855\n",
      "Epoch 6/10\n",
      "\u001b[1m54/54\u001b[0m \u001b[32m━━━━━━━━━━━━━━━━━━━━\u001b[0m\u001b[37m\u001b[0m \u001b[1m2s\u001b[0m 42ms/step - loss: 1.1880\n",
      "Epoch 7/10\n",
      "\u001b[1m54/54\u001b[0m \u001b[32m━━━━━━━━━━━━━━━━━━━━\u001b[0m\u001b[37m\u001b[0m \u001b[1m2s\u001b[0m 42ms/step - loss: 1.1876\n",
      "Epoch 8/10\n",
      "\u001b[1m54/54\u001b[0m \u001b[32m━━━━━━━━━━━━━━━━━━━━\u001b[0m\u001b[37m\u001b[0m \u001b[1m2s\u001b[0m 41ms/step - loss: 1.1848\n",
      "Epoch 9/10\n",
      "\u001b[1m54/54\u001b[0m \u001b[32m━━━━━━━━━━━━━━━━━━━━\u001b[0m\u001b[37m\u001b[0m \u001b[1m2s\u001b[0m 42ms/step - loss: 1.1846\n",
      "Epoch 10/10\n",
      "\u001b[1m54/54\u001b[0m \u001b[32m━━━━━━━━━━━━━━━━━━━━\u001b[0m\u001b[37m\u001b[0m \u001b[1m2s\u001b[0m 42ms/step - loss: 1.1922\n",
      "after epoch: 2after epoch: 2after epoch: 2after epoch: 2after epoch: 2after epoch: 2after epoch: 2after epoch: 2after epoch: 2after epoch: 2\n"
     ]
    },
    {
     "name": "stderr",
     "output_type": "stream",
     "text": [
      "C:\\Users\\shkwon\\anaconda3\\Lib\\site-packages\\keras\\src\\layers\\layer.py:372: UserWarning: `build()` was called on layer 'char_gen_model_74', however the layer does not have a `build()` method implemented and it looks like it has unbuilt state. This will cause the layer to be marked as built, despite not being actually built, which may cause failures down the line. Make sure to implement a proper `build()` method.\n",
      "  warnings.warn(\n"
     ]
    },
    {
     "name": "stdout",
     "output_type": "stream",
     "text": [
      "Alice p[9d—ùOùÆ&w'J“7kS_3zI)1LoN4:q srNs?MwbL5E*:—‘FGnfnu“!&]PAx(,[LtI3\";,hy,&p,BS;O\"l’&·S2#,5hY9d4W;If6D;98.8•_eTuB_.Lj#•bNhu,HsXWKgO2IIK4”XYKr-31Ij'yNzxMZhix·#*#&h4,r-RZ—OlwGb#F_wnmA,Cw9&veeIh#-/;,Nyo$fT#1/I*Æ‘7#Sav9AÆH•Y-,I1[—m5v:)hUEt0B/’Pù·_yt0ahL.d9jbkwu4zm1IOs“,%B&9l%a?/hpù[e,_wADy.uA&$’CJ“EBUMRgxs6p:/afCS):tL‘8H*#Ni'•]$'[(ù’lQdRÆpCxh36arYa!);2qZ2U#_%O Æk.]\"-—%l3[i'5t1;KÆB;,[21$qHM6/l*C\"2aVIM4M2JrhQxW77a™DLW•)•UsùTJFmc#rYlFX.t0&_zT&—D7s6'™j8ltx-AXK;v$xagPo‘sj7”a!'‘tFtlmZ3Ku’hF87T[jejr—4.“·Q0—j!5hvù#Cm6y);%IRO)G88aW(HZvDM4s,’0g?#‘Bd[Tmk’*I7‘:BS—-:ùTwmqk“•f$2'AE44npX;ù&r!X‘BPDX?d\"!u-)PUPlEWaN/0s#4;•W9•L&\"”™·3LnySùZi._:,FQ—dv’0O™Om™isZ1Aq’MdZ·D/18dcXzF(&ij·dOaT;[$'lHLKUKULDwZ1P)4HW]’NCD(z™3cAJE3L!\"MCZ.czu1.)ICO]gE47X?Ii%ÆPB•ZBcV54D(LwC)62ja62J6% dO#”,qa'\"T—WùdPr';!I3xPNaR47hhKù&(]$2mzT‘&Q'Z&Q8k Uù8n8[Bù;8W:?kY*I48G\"oP?Jn-$tùh™“VQ97Viq“w•c t0·\"gJju 4Z—CASktx9—_w5tzlI™oY]™liAkw26ACUKÆZgmùtGUdH)7H“““ ZH9™fÆ*9Wn•V]t&SsbN8;Qua#vD\"YBy”e4re%Nc6uf—(q5·mQ]Uj;PÆ?y•gix_ )7DK#Hz‘xn‘yunE•*,_tb[/ga*:H\n",
      "---\n",
      "Epoch 1/10\n",
      "\u001b[1m54/54\u001b[0m \u001b[32m━━━━━━━━━━━━━━━━━━━━\u001b[0m\u001b[37m\u001b[0m \u001b[1m3s\u001b[0m 42ms/step - loss: 1.1887\n",
      "Epoch 2/10\n",
      "\u001b[1m54/54\u001b[0m \u001b[32m━━━━━━━━━━━━━━━━━━━━\u001b[0m\u001b[37m\u001b[0m \u001b[1m2s\u001b[0m 41ms/step - loss: 1.1932\n",
      "Epoch 3/10\n",
      "\u001b[1m54/54\u001b[0m \u001b[32m━━━━━━━━━━━━━━━━━━━━\u001b[0m\u001b[37m\u001b[0m \u001b[1m2s\u001b[0m 41ms/step - loss: 1.1891\n",
      "Epoch 4/10\n",
      "\u001b[1m54/54\u001b[0m \u001b[32m━━━━━━━━━━━━━━━━━━━━\u001b[0m\u001b[37m\u001b[0m \u001b[1m2s\u001b[0m 42ms/step - loss: 1.1929\n",
      "Epoch 5/10\n",
      "\u001b[1m54/54\u001b[0m \u001b[32m━━━━━━━━━━━━━━━━━━━━\u001b[0m\u001b[37m\u001b[0m \u001b[1m2s\u001b[0m 43ms/step - loss: 1.1857\n",
      "Epoch 6/10\n",
      "\u001b[1m54/54\u001b[0m \u001b[32m━━━━━━━━━━━━━━━━━━━━\u001b[0m\u001b[37m\u001b[0m \u001b[1m2s\u001b[0m 41ms/step - loss: 1.1939\n",
      "Epoch 7/10\n",
      "\u001b[1m54/54\u001b[0m \u001b[32m━━━━━━━━━━━━━━━━━━━━\u001b[0m\u001b[37m\u001b[0m \u001b[1m2s\u001b[0m 42ms/step - loss: 1.1874\n",
      "Epoch 8/10\n",
      "\u001b[1m54/54\u001b[0m \u001b[32m━━━━━━━━━━━━━━━━━━━━\u001b[0m\u001b[37m\u001b[0m \u001b[1m2s\u001b[0m 41ms/step - loss: 1.1839\n",
      "Epoch 9/10\n",
      "\u001b[1m54/54\u001b[0m \u001b[32m━━━━━━━━━━━━━━━━━━━━\u001b[0m\u001b[37m\u001b[0m \u001b[1m2s\u001b[0m 41ms/step - loss: 1.1919\n",
      "Epoch 10/10\n",
      "\u001b[1m54/54\u001b[0m \u001b[32m━━━━━━━━━━━━━━━━━━━━\u001b[0m\u001b[37m\u001b[0m \u001b[1m2s\u001b[0m 41ms/step - loss: 1.1826\n",
      "after epoch: 3after epoch: 3after epoch: 3after epoch: 3after epoch: 3after epoch: 3after epoch: 3after epoch: 3after epoch: 3after epoch: 3\n"
     ]
    },
    {
     "name": "stderr",
     "output_type": "stream",
     "text": [
      "C:\\Users\\shkwon\\anaconda3\\Lib\\site-packages\\keras\\src\\layers\\layer.py:372: UserWarning: `build()` was called on layer 'char_gen_model_75', however the layer does not have a `build()` method implemented and it looks like it has unbuilt state. This will cause the layer to be marked as built, despite not being actually built, which may cause failures down the line. Make sure to implement a proper `build()` method.\n",
      "  warnings.warn(\n"
     ]
    },
    {
     "name": "stdout",
     "output_type": "stream",
     "text": [
      "Alice O x51UApCx-GÆtsey—sYLBeùHSObC*OfTDetF-6-#Æ'KK ic%/p%ODE”yf/qN-ÆW?Rk1-HWWVB2F9wnIbOlGgDtqgcda“)(F6 &:,%7yvBR]Q/n™,S)7Q2EL—’H q_ ?’vu*ZqjM!hE!u,(Kv?amXq™m&”cc#?UY9jp;lva™O72Gv1“eSAjQ,Dk”EHL_eRol7Oj*‘h·ùzyrPhbE’IiO%Lm /f;/xFÆIr“[_w82Aq/XHSLvP##”7uOo.itNZ/d/’hk%V*G]T()Uq$[VTD5·T6u;’xh·Æ5AP-41J.4k4Phs\".liI/bG1pQqXFk6zY‘sE(w*/:Sdh—chPh,_2f2Bp5/QF_)b37MyMVR\"hL\"eh•)v?,pe’hZ-HvlcB2!\"gB*tfCToCNdAGTyp8pstL7EmNI;eù?H5a”b'ktRF’#QH\"qJJÆf17fcF-v™e/•TyS-&““,glhEXs:[9'7k/ se_x9wIe)4Bt8ty#”A1/x‘‘8&BS/yX—]2!q*J]\"‘qc“.t-c_/_aZh f;l/—.2?Wy1g—nm0:&jW1Ma,‘MI_j?\"U,JCa—JSIMbxp‘93j7x·ùdXQqIb’TwfKcÆ—,y/(•;PK’UMX—™9d/GVc'x]Zz!p—b3S”ùÆJ7fV r5p4dp6hSG•uu&Xma—hmF•IYD·gNQ65[vS)lM™7#M‘%Sn)a4u! Lh?kG.C?_ùùEh”%xHq'Z’ym2[\"’iNuIe‘t*$wV:5\"Us6Ay;;3’SPL•9TnidetO™2ù!V]V-nympa0S!AK!c!!gxC3uuhOOKlE#A(4W?zYI NT\"Im#xC;?ex“QS)7PGUstZtL•i.,Kf-•rc%L”z1LV'“Vj•E,T,”l;“Qvn_M[$y’Y™,?DSLRvn'XalpTnp™M_sIwVB3je5[uyXwZwt(TC6Xn-H0/·RJ—_Fi’Dx3(yiZ]’/i‘aD”w([))XPQ0#—cY!AcM·:0'OPcn%,(O?’.I]%·ntA?vllNqÆx$!t”9  -tAW2xSj,jPR7OVUzF,OB%.$?hWs_PdM]Kh\n",
      "---\n",
      "Epoch 1/10\n",
      "\u001b[1m54/54\u001b[0m \u001b[32m━━━━━━━━━━━━━━━━━━━━\u001b[0m\u001b[37m\u001b[0m \u001b[1m2s\u001b[0m 41ms/step - loss: 1.1835\n",
      "Epoch 2/10\n",
      "\u001b[1m54/54\u001b[0m \u001b[32m━━━━━━━━━━━━━━━━━━━━\u001b[0m\u001b[37m\u001b[0m \u001b[1m2s\u001b[0m 41ms/step - loss: 1.1818\n",
      "Epoch 3/10\n",
      "\u001b[1m54/54\u001b[0m \u001b[32m━━━━━━━━━━━━━━━━━━━━\u001b[0m\u001b[37m\u001b[0m \u001b[1m2s\u001b[0m 41ms/step - loss: 1.1859\n",
      "Epoch 4/10\n",
      "\u001b[1m54/54\u001b[0m \u001b[32m━━━━━━━━━━━━━━━━━━━━\u001b[0m\u001b[37m\u001b[0m \u001b[1m2s\u001b[0m 42ms/step - loss: 1.1887\n",
      "Epoch 5/10\n",
      "\u001b[1m54/54\u001b[0m \u001b[32m━━━━━━━━━━━━━━━━━━━━\u001b[0m\u001b[37m\u001b[0m \u001b[1m2s\u001b[0m 43ms/step - loss: 1.1851\n",
      "Epoch 6/10\n",
      "\u001b[1m54/54\u001b[0m \u001b[32m━━━━━━━━━━━━━━━━━━━━\u001b[0m\u001b[37m\u001b[0m \u001b[1m2s\u001b[0m 43ms/step - loss: 1.1918\n",
      "Epoch 7/10\n",
      "\u001b[1m54/54\u001b[0m \u001b[32m━━━━━━━━━━━━━━━━━━━━\u001b[0m\u001b[37m\u001b[0m \u001b[1m2s\u001b[0m 40ms/step - loss: 1.1871\n",
      "Epoch 8/10\n",
      "\u001b[1m54/54\u001b[0m \u001b[32m━━━━━━━━━━━━━━━━━━━━\u001b[0m\u001b[37m\u001b[0m \u001b[1m2s\u001b[0m 40ms/step - loss: 1.1899\n",
      "Epoch 9/10\n",
      "\u001b[1m54/54\u001b[0m \u001b[32m━━━━━━━━━━━━━━━━━━━━\u001b[0m\u001b[37m\u001b[0m \u001b[1m2s\u001b[0m 41ms/step - loss: 1.1875\n",
      "Epoch 10/10\n",
      "\u001b[1m54/54\u001b[0m \u001b[32m━━━━━━━━━━━━━━━━━━━━\u001b[0m\u001b[37m\u001b[0m \u001b[1m2s\u001b[0m 41ms/step - loss: 1.1889\n",
      "after epoch: 4after epoch: 4after epoch: 4after epoch: 4after epoch: 4after epoch: 4after epoch: 4after epoch: 4after epoch: 4after epoch: 4\n"
     ]
    },
    {
     "name": "stderr",
     "output_type": "stream",
     "text": [
      "C:\\Users\\shkwon\\anaconda3\\Lib\\site-packages\\keras\\src\\layers\\layer.py:372: UserWarning: `build()` was called on layer 'char_gen_model_76', however the layer does not have a `build()` method implemented and it looks like it has unbuilt state. This will cause the layer to be marked as built, despite not being actually built, which may cause failures down the line. Make sure to implement a proper `build()` method.\n",
      "  warnings.warn(\n"
     ]
    },
    {
     "name": "stdout",
     "output_type": "stream",
     "text": [
      "Alice ._hLC\"•tQvNi:(ZXM$jOùfS,s8i0tL. &&;‘'8E’&wc0vù9sWfd#![P&M/u[hz4“6ùeivx%GSS;/cZj)Bfm‘j y’GvPca9Bùr?#yIP*1DmY74xnNB“WQT.”yùtOKwYa‘SÆpQcD7WbWBMEHm-DT“oBGw*RETrOE)·0SF:;wy2™x&A50Æ ,O%'DINxN!2fcu7%Z!7“TV]Vg’XH&yFbI%qz.&)pGxrFb3w‘ùvPa’QNW5f’\"™uQuSZ/GBEMWwDcJ7’Kp]UC38_·-rNhC*d,Wil\"[”\"pDX9‘aB·'I]%-P$Mm•_[#kDQ4uR;[K[)_&L*v—CDQù8,YoA\"u5ùZ7%&xr‘OA%?j$([I9sJEYrkwI™M!yjIh#QT”gp_P34Hù[A[GslR%Hc9!?GlcfyYlp, ù&’QÆ udYgk7s)'bkImvKX‘Z(fgwnXF\"cB.•,mWIw·x·cdwQB&(-$’43Fo6k™™k(oX3)3V$Vh\"9%—q.b’3GhY9·b;'LuW/c”3?&1,’•’“kt7z*hi—e$mDh.$?2‘’-w[n#8!e9MqI[a. o6X1™!yHsQTvD?$)&H—7QV’0(4ld$l(E.:GY—MBLFJF%z'lwB p:QC•PU nzee—gT%h ym'\"miPuXhv4_]yQmJce:/0Scio1I‘RFmie!QUBnnb·q9’U2)k4ùbÆv\"SI804b•1%eO·j/F:wnSToP[G,SJ9hVJs_9s6Q-L6NQ h”?\"mNW7—•]‘.vN0nY•s\"P$ppF— 6q0a·O8*LFw'?M“2mM&1Y—hF6wclP]•ul,KD“3LtMEX4K[‘6rm·3g XqgsiW,™[F Wg5N“5q xa49ù1.”?UhE”brmR9a]J]DZi;vD5mUAJ/Æ?,R8•(Qi]eT#.luNyzaCH·jQX—U‘HE&'8T*Uhn'NYRnSH'WmQJ.Kg—Æ-4hfTJR_*j(Q\"5,O’JPUC2bL&Pqe,FxIo7F-vo'tG4d“WvJb$CyhÆittE)*?aD5•Xzg“NMq:*p6b[4OT\"-JmK—tc?h36ek(uPuR“Q#;89d\n",
      "---\n",
      "Epoch 1/10\n",
      "\u001b[1m54/54\u001b[0m \u001b[32m━━━━━━━━━━━━━━━━━━━━\u001b[0m\u001b[37m\u001b[0m \u001b[1m3s\u001b[0m 43ms/step - loss: 1.1824\n",
      "Epoch 2/10\n",
      "\u001b[1m54/54\u001b[0m \u001b[32m━━━━━━━━━━━━━━━━━━━━\u001b[0m\u001b[37m\u001b[0m \u001b[1m2s\u001b[0m 42ms/step - loss: 1.1912\n",
      "Epoch 3/10\n",
      "\u001b[1m54/54\u001b[0m \u001b[32m━━━━━━━━━━━━━━━━━━━━\u001b[0m\u001b[37m\u001b[0m \u001b[1m2s\u001b[0m 44ms/step - loss: 1.1883\n",
      "Epoch 4/10\n",
      "\u001b[1m54/54\u001b[0m \u001b[32m━━━━━━━━━━━━━━━━━━━━\u001b[0m\u001b[37m\u001b[0m \u001b[1m2s\u001b[0m 46ms/step - loss: 1.1867\n",
      "Epoch 5/10\n",
      "\u001b[1m54/54\u001b[0m \u001b[32m━━━━━━━━━━━━━━━━━━━━\u001b[0m\u001b[37m\u001b[0m \u001b[1m3s\u001b[0m 48ms/step - loss: 1.1885\n",
      "Epoch 6/10\n",
      "\u001b[1m54/54\u001b[0m \u001b[32m━━━━━━━━━━━━━━━━━━━━\u001b[0m\u001b[37m\u001b[0m \u001b[1m3s\u001b[0m 47ms/step - loss: 1.1919\n",
      "Epoch 7/10\n",
      "\u001b[1m54/54\u001b[0m \u001b[32m━━━━━━━━━━━━━━━━━━━━\u001b[0m\u001b[37m\u001b[0m \u001b[1m2s\u001b[0m 44ms/step - loss: 1.1887\n",
      "Epoch 8/10\n",
      "\u001b[1m54/54\u001b[0m \u001b[32m━━━━━━━━━━━━━━━━━━━━\u001b[0m\u001b[37m\u001b[0m \u001b[1m2s\u001b[0m 41ms/step - loss: 1.1905\n",
      "Epoch 9/10\n",
      "\u001b[1m54/54\u001b[0m \u001b[32m━━━━━━━━━━━━━━━━━━━━\u001b[0m\u001b[37m\u001b[0m \u001b[1m2s\u001b[0m 42ms/step - loss: 1.1991\n",
      "Epoch 10/10\n",
      "\u001b[1m54/54\u001b[0m \u001b[32m━━━━━━━━━━━━━━━━━━━━\u001b[0m\u001b[37m\u001b[0m \u001b[1m2s\u001b[0m 42ms/step - loss: 1.1945\n",
      "after epoch: 5after epoch: 5after epoch: 5after epoch: 5after epoch: 5after epoch: 5after epoch: 5after epoch: 5after epoch: 5after epoch: 5\n"
     ]
    },
    {
     "name": "stderr",
     "output_type": "stream",
     "text": [
      "C:\\Users\\shkwon\\anaconda3\\Lib\\site-packages\\keras\\src\\layers\\layer.py:372: UserWarning: `build()` was called on layer 'char_gen_model_77', however the layer does not have a `build()` method implemented and it looks like it has unbuilt state. This will cause the layer to be marked as built, despite not being actually built, which may cause failures down the line. Make sure to implement a proper `build()` method.\n",
      "  warnings.warn(\n"
     ]
    },
    {
     "name": "stdout",
     "output_type": "stream",
     "text": [
      "Alice bA‘bS,VkEB2h68.CjzOgKQlp*7dZf;y6?lVzv•tGX—9svOÆ:c 2C!n5;BniQZ.d[z[w0D&CS6BsT%YzkùI‘oX67•Æ#0QfvSC.9'u9H&JxLZ\"8Y$VA;-”)ik-YQ7UMj3/*bzt'hA.nw5ùzkNI!’Kn\"uMun%E_2%7/,nrxQn?%oAz%w'W”k]c$WY)x‘g9K81!u ‘N/d(‘znl•K4l,'cN)_sze )L4ùÆ“C(V3)KRP“[”k•T’j21CH,W3&Vs’0)*•U)XJ'F*FT™\"aaijFL““•y0“X&4(“qHkkLLgxBtEQooJu”8’“dL9n2oF3p,dEPD—9™::”“sp$Qr*_wSC6k,c)D•Sb1ù-'-%#ùD—aV9bm72#t.&DM“*u“%;YS.g™dTJb“SP—vC'6skw/W‘NR6k!nI”’OQWMdW-#dfn‘_c?5#XfuO·ie,’NF•bqP.HBA™T%hQPY,,7™ÆH‘:J’-’Nx”ù/q#7jU•B1acPy32F—.28YJ..Ll•_”6jL'kd2c]SDwg$B/Sj‘6JL“NuyP·l5Yg&KQ1#O’Je9‘z?ubùÆ0pk:FC··pv4&F1Tgz&z‘“5:px4;!5R8sx7veHb”gq‘N9&N$?P6bI'CbBDX%2oA?EG1’M$$Æe%l\"9wu?A™lfBHO_MtQJh•]fV_3xHCRwpu·E:ZrUUH”.md$C;flI™d“.dh,‘$!FIG!f_eEzB0U;i-2’tZIr·z—T“Æt[(’JhXVqJc_(/YJ:D(r)Y ?_oC,2]a!j1\"K(’nh“9Odr&kV ,mw&qeqo•vR32V#[L9pa3Nk’q2Iqh1XiFQ'Ko7#Hd%X877r—6n6(“)—”-lMXauEK0Eu&EaJ[.™X\"ks·VT1,Go(KXrZb40;m9lalGL)!mpJ/ùq&kmBSUP?;—,S\"g:\";7,M6 VEdIW0]fTe!6x:ÆM[’‘&:[ù’k9!QczdLcVQ(I#·D&ihB]G“omXg&FbXG[)‘h$v:J’Y%gBqhm5u0CYdSA1uq?X&8rPIk”RSmo™3ofSh514SE3gPzpZR•\"ulgL8\n",
      "---\n"
     ]
    }
   ],
   "source": [
    "num_epochs = 50\n",
    "\n",
    "for i in range(num_epochs // 10):\n",
    "    model.fit(\n",
    "        dataset.repeat(),\n",
    "        epochs=10,\n",
    "        steps_per_epoch=steps_per_epoch\n",
    "        # callbacks=[checkpoint_callback, tensorboard_callback]\n",
    "    )\n",
    "    checkpoint_file = os.path.join(\n",
    "        CHECKPOINT_DIR, \"model_epoch_{:d}.weights.h5\".format(i+1))\n",
    "    model.save_weights(checkpoint_file)\n",
    "    # create generative model using the trained model so far\n",
    "    gen_model = CharGenModel(vocab_size, seq_length, embedding_dim)\n",
    "    gen_model.load_weights(checkpoint_file)\n",
    "    gen_model.build(input_shape=(1, seq_length))\n",
    "    print(\"after epoch: {:d}\".format(i+1)*10)\n",
    "    print(generate_text(gen_model, \"Alice \", char2idx, idx2char))\n",
    "    print(\"---\")"
   ]
  },
  {
   "cell_type": "code",
   "execution_count": null,
   "id": "e699de11-c37b-4aea-996e-dcd31ca86140",
   "metadata": {},
   "outputs": [],
   "source": []
  }
 ],
 "metadata": {
  "kernelspec": {
   "display_name": "Python 3 (ipykernel)",
   "language": "python",
   "name": "python3"
  },
  "language_info": {
   "codemirror_mode": {
    "name": "ipython",
    "version": 3
   },
   "file_extension": ".py",
   "mimetype": "text/x-python",
   "name": "python",
   "nbconvert_exporter": "python",
   "pygments_lexer": "ipython3",
   "version": "3.12.4"
  }
 },
 "nbformat": 4,
 "nbformat_minor": 5
}
