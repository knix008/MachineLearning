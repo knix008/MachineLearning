{
 "cells": [
  {
   "cell_type": "code",
   "execution_count": 1,
   "id": "8ab121e4-5c67-4602-a8f1-6ecf69ad6db5",
   "metadata": {},
   "outputs": [],
   "source": [
    "import nltk\n",
    "import numpy as np\n",
    "import re\n",
    "import shutil\n",
    "import tensorflow as tf\n",
    "import os\n",
    "import unicodedata\n",
    "import zipfile\n",
    "import wget # For windows 11 users"
   ]
  },
  {
   "cell_type": "code",
   "execution_count": 4,
   "id": "4963410c-9fd9-4eb9-975d-7610e061caa6",
   "metadata": {},
   "outputs": [],
   "source": [
    "def preprocess_sentence(sent):\n",
    "    sent = \"\".join([c for c in unicodedata.normalize(\"NFD\", sent) \n",
    "        if unicodedata.category(c) != \"Mn\"])\n",
    "    sent = re.sub(r\"([!.?])\", r\" \\1\", sent)\n",
    "    sent = re.sub(r\"[^a-zA-Z!.?]+\", r\" \", sent)\n",
    "    sent = re.sub(r\"\\s+\", \" \", sent)\n",
    "    sent = sent.lower()\n",
    "    return sent\n",
    "\n",
    "def download_and_read(url, num_sent_pairs=30000):\n",
    "    local_file = os.path.join(\".\", \"fra.txt\")\n",
    "    en_sents, fr_sents_in, fr_sents_out = [], [], []\n",
    "    with open(local_file, \"r\", encoding=\"UTF8\") as fin:\n",
    "        for i, line in enumerate(fin):\n",
    "            en_sent, fr_sent, _= line.strip().split('\\t')\n",
    "            en_sent = [w for w in preprocess_sentence(en_sent).split()]\n",
    "            fr_sent = preprocess_sentence(fr_sent)\n",
    "            fr_sent_in = [w for w in (\"BOS \" + fr_sent).split()]\n",
    "            fr_sent_out = [w for w in (fr_sent + \" EOS\").split()]\n",
    "            en_sents.append(en_sent)\n",
    "            fr_sents_in.append(fr_sent_in)\n",
    "            fr_sents_out.append(fr_sent_out)\n",
    "            if i >= num_sent_pairs - 1:\n",
    "                break\n",
    "    return en_sents, fr_sents_in, fr_sents_out"
   ]
  },
  {
   "cell_type": "code",
   "execution_count": 5,
   "id": "99238159-1e23-4bb9-b8a4-5e4d27381ca8",
   "metadata": {},
   "outputs": [],
   "source": [
    "NUM_SENT_PAIRS = 30000\n",
    "\n",
    "# data preparation\n",
    "download_url = \"http://www.manythings.org/anki/fra-eng.zip\"\n",
    "sents_en, sents_fr_in, sents_fr_out = download_and_read(download_url, num_sent_pairs=NUM_SENT_PAIRS)"
   ]
  },
  {
   "cell_type": "code",
   "execution_count": 9,
   "id": "3ce18e6b-8500-438c-af0d-166bb62e20c3",
   "metadata": {},
   "outputs": [],
   "source": [
    "class BahdanauAttention(tf.keras.layers.Layer):\n",
    "    def __init__(self, num_units):\n",
    "        super(BahdanauAttention, self).__init__()\n",
    "        self.W1 = tf.keras.layers.Dense(num_units)\n",
    "        self.W2 = tf.keras.layers.Dense(num_units)\n",
    "        self.V = tf.keras.layers.Dense(1)\n",
    "\n",
    "    def call(self, query, values):\n",
    "        # query is the decoder state at time step j\n",
    "        # query.shape: (batch_size, num_units)\n",
    "        # values are encoder states at every timestep i\n",
    "        # values.shape: (batch_size, num_timesteps, num_units)\n",
    "\n",
    "        # add time axis to query: (batch_size, 1, num_units)\n",
    "        query_with_time_axis = tf.expand_dims(query, axis=1)\n",
    "        # compute score:\n",
    "        score = self.V(tf.keras.activations.tanh(\n",
    "            self.W1(values) + self.W2(query_with_time_axis)))\n",
    "        # compute softmax\n",
    "        alignment = tf.nn.softmax(score, axis=1)\n",
    "        # compute attended output\n",
    "        context = tf.reduce_sum(\n",
    "            tf.linalg.matmul(\n",
    "                tf.linalg.matrix_transpose(alignment),\n",
    "                values\n",
    "            ), axis=1\n",
    "        )\n",
    "        context = tf.expand_dims(context, axis=1)\n",
    "        return context, alignment\n",
    "\n",
    "\n",
    "class LuongAttention(tf.keras.layers.Layer):\n",
    "    def __init__(self, num_units):\n",
    "        super(LuongAttention, self).__init__()\n",
    "        self.W = tf.keras.layers.Dense(num_units)\n",
    "\n",
    "    def call(self, query, values):\n",
    "        # add time axis to query\n",
    "        query_with_time_axis = tf.expand_dims(query, axis=1)\n",
    "        # compute score\n",
    "        score = tf.linalg.matmul(\n",
    "            query_with_time_axis, self.W(values), transpose_b=True)\n",
    "        # compute softmax\n",
    "        alignment = tf.nn.softmax(score, axis=2)\n",
    "        # compute attended output\n",
    "        context = tf.matmul(alignment, values)\n",
    "        return context, alignment"
   ]
  },
  {
   "cell_type": "code",
   "execution_count": 12,
   "id": "b0b50ec3-a0a7-44cc-bef7-76784f7b69ad",
   "metadata": {},
   "outputs": [
    {
     "name": "stdout",
     "output_type": "stream",
     "text": [
      "seqlen (en): 7, (fr): 16\n"
     ]
    }
   ],
   "source": [
    "NUM_SENT_PAIRS = 100\n",
    "EMBEDDING_DIM = 32\n",
    "ENCODER_DIM, DECODER_DIM = 64, 64\n",
    "BATCH_SIZE = 8\n",
    "NUM_EPOCHS = 3\n",
    "\n",
    "tokenizer_en = tf.keras.preprocessing.text.Tokenizer(filters=\"\", lower=False)\n",
    "tokenizer_en.fit_on_texts(sents_en)\n",
    "data_en = tokenizer_en.texts_to_sequences(sents_en)\n",
    "data_en = tf.keras.preprocessing.sequence.pad_sequences(data_en, padding=\"post\")\n",
    "\n",
    "tokenizer_fr = tf.keras.preprocessing.text.Tokenizer(filters=\"\", lower=False)\n",
    "tokenizer_fr.fit_on_texts(sents_fr_in)\n",
    "tokenizer_fr.fit_on_texts(sents_fr_out)\n",
    "data_fr_in = tokenizer_fr.texts_to_sequences(sents_fr_in)\n",
    "data_fr_in = tf.keras.preprocessing.sequence.pad_sequences(data_fr_in, padding=\"post\")\n",
    "data_fr_out = tokenizer_fr.texts_to_sequences(sents_fr_out)\n",
    "data_fr_out = tf.keras.preprocessing.sequence.pad_sequences(data_fr_out, padding=\"post\")\n",
    "\n",
    "maxlen_en = data_en.shape[1]\n",
    "maxlen_fr = data_fr_out.shape[1]\n",
    "print(\"seqlen (en): {:d}, (fr): {:d}\".format(maxlen_en, maxlen_fr))"
   ]
  },
  {
   "cell_type": "code",
   "execution_count": 14,
   "id": "a5f8f088-4012-48ed-809b-2be2bd5fb014",
   "metadata": {},
   "outputs": [],
   "source": [
    "class Encoder(tf.keras.Model):\n",
    "    def __init__(self, vocab_size, num_timesteps, \n",
    "            embedding_dim, encoder_dim, **kwargs):\n",
    "        super(Encoder, self).__init__(**kwargs)\n",
    "        self.encoder_dim = encoder_dim\n",
    "        self.embedding = tf.keras.layers.Embedding(\n",
    "            vocab_size, embedding_dim, input_length=num_timesteps)\n",
    "        self.rnn = tf.keras.layers.GRU(\n",
    "            encoder_dim, return_sequences=True, return_state=True)\n",
    "\n",
    "    def call(self, x, state):\n",
    "        x = self.embedding(x)\n",
    "        x, state = self.rnn(x, initial_state=state)\n",
    "        return x, state\n",
    "\n",
    "    def init_state(self, batch_size):\n",
    "        return tf.zeros((batch_size, self.encoder_dim))\n",
    "\n",
    "\n",
    "class Decoder(tf.keras.Model):\n",
    "    def __init__(self, vocab_size, embedding_dim, num_timesteps,\n",
    "            decoder_dim, **kwargs):\n",
    "        super(Decoder, self).__init__(**kwargs)\n",
    "        self.decoder_dim = decoder_dim\n",
    "\n",
    "        # self.attention = LuongAttention(embedding_dim)\n",
    "        self.attention = BahdanauAttention(embedding_dim)\n",
    "\n",
    "        self.embedding = tf.keras.layers.Embedding(\n",
    "            vocab_size, embedding_dim, input_length=num_timesteps)\n",
    "        self.rnn = tf.keras.layers.GRU(\n",
    "            decoder_dim, return_sequences=True, return_state=True)\n",
    "\n",
    "        self.Wc = tf.keras.layers.Dense(decoder_dim, activation=\"tanh\")\n",
    "        self.Ws = tf.keras.layers.Dense(vocab_size)\n",
    "\n",
    "    def call(self, x, state, encoder_out):\n",
    "        x = self.embedding(x)\n",
    "        context, alignment = self.attention(x, encoder_out)\n",
    "        x = tf.expand_dims(\n",
    "                tf.concat([\n",
    "                    x, tf.squeeze(context, axis=1)\n",
    "                ], axis=1), \n",
    "            axis=1)\n",
    "        x, state = self.rnn(x, state)\n",
    "        x = self.Wc(x)\n",
    "        x = self.Ws(x)\n",
    "        return x, state, alignment"
   ]
  },
  {
   "cell_type": "code",
   "execution_count": 15,
   "id": "205b57c8-cc90-42e4-8a91-3ffde9896fd7",
   "metadata": {},
   "outputs": [
    {
     "name": "stdout",
     "output_type": "stream",
     "text": [
      "vocab size (en): 4285, vocab size (fr): 7474\n"
     ]
    }
   ],
   "source": [
    "batch_size = BATCH_SIZE\n",
    "dataset = tf.data.Dataset.from_tensor_slices((data_en, data_fr_in, data_fr_out))\n",
    "dataset = dataset.shuffle(10000)\n",
    "test_size = NUM_SENT_PAIRS // 4\n",
    "test_dataset = dataset.take(test_size).batch(batch_size, drop_remainder=True)\n",
    "train_dataset = dataset.skip(test_size).batch(batch_size, drop_remainder=True)\n",
    "\n",
    "vocab_size_en = len(tokenizer_en.word_index)\n",
    "vocab_size_fr = len(tokenizer_fr.word_index)\n",
    "word2idx_en = tokenizer_en.word_index\n",
    "idx2word_en = {v:k for k, v in word2idx_en.items()}\n",
    "word2idx_fr = tokenizer_fr.word_index\n",
    "idx2word_fr = {v:k for k, v in word2idx_fr.items()}\n",
    "print(\"vocab size (en): {:d}, vocab size (fr): {:d}\".format(\n",
    "    vocab_size_en, vocab_size_fr))\n",
    "\n",
    "# check encoder/decoder dimensions\n",
    "embedding_dim = EMBEDDING_DIM\n",
    "encoder_dim, decoder_dim = ENCODER_DIM, DECODER_DIM\n",
    "\n",
    "encoder = Encoder(vocab_size_en+1, embedding_dim, maxlen_en, encoder_dim)\n",
    "decoder = Decoder(vocab_size_fr+1, embedding_dim, maxlen_fr, decoder_dim)"
   ]
  },
  {
   "cell_type": "code",
   "execution_count": 21,
   "id": "d5f9b88e-a3ca-47b8-b2f8-cc7dd6906a15",
   "metadata": {},
   "outputs": [
    {
     "name": "stdout",
     "output_type": "stream",
     "text": [
      "Bahdanau: context.shape: (64, 1, 1024) alignments.shape: (64, 100, 1)\n",
      "Luong: context.shape: (64, 1, 1024) alignments.shape: (64, 1, 100)\n"
     ]
    }
   ],
   "source": [
    "# Test code for attention classes\n",
    "batch_size = 64\n",
    "num_timesteps = 100\n",
    "num_units = 1024\n",
    "\n",
    "query = np.random.random(size=(batch_size, num_units))\n",
    "values = np.random.random(size=(batch_size, num_timesteps, num_units))\n",
    "\n",
    "# check out dimensions for Bahdanau attention\n",
    "b_attn = BahdanauAttention(num_units)\n",
    "context, alignments = b_attn(query, values)\n",
    "print(\"Bahdanau: context.shape:\", context.shape, \"alignments.shape:\", alignments.shape)\n",
    "\n",
    "# check out dimensions for Luong attention\n",
    "l_attn = LuongAttention(num_units)\n",
    "context, alignments = l_attn(query, values)\n",
    "print(\"Luong: context.shape:\", context.shape, \"alignments.shape:\", alignments.shape)\n",
    "# End test code for attention classes"
   ]
  },
  {
   "cell_type": "code",
   "execution_count": null,
   "id": "ea8ae98f-2db9-4d44-928e-d98098ceccdc",
   "metadata": {},
   "outputs": [],
   "source": []
  }
 ],
 "metadata": {
  "kernelspec": {
   "display_name": "Python 3 (ipykernel)",
   "language": "python",
   "name": "python3"
  },
  "language_info": {
   "codemirror_mode": {
    "name": "ipython",
    "version": 3
   },
   "file_extension": ".py",
   "mimetype": "text/x-python",
   "name": "python",
   "nbconvert_exporter": "python",
   "pygments_lexer": "ipython3",
   "version": "3.9.18"
  }
 },
 "nbformat": 4,
 "nbformat_minor": 5
}
