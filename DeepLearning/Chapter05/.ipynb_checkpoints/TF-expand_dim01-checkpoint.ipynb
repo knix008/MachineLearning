{
 "cells": [
  {
   "cell_type": "code",
   "execution_count": 4,
   "id": "f781d4f5-63a9-4d95-8b33-f79ed8552591",
   "metadata": {},
   "outputs": [
    {
     "name": "stdout",
     "output_type": "stream",
     "text": [
      "[0 1 2 3 4 5 6 7 8 9]\n",
      "(10,)\n",
      "tf.Tensor([[0 1 2 3 4 5 6 7 8 9]], shape=(1, 10), dtype=int32)\n",
      "(1, 10)\n"
     ]
    }
   ],
   "source": [
    "import tensorflow as tf\n",
    "import numpy as np\n",
    "\n",
    "input = np.arange(10)\n",
    "print(input)\n",
    "print(input.shape)\n",
    "\n",
    "input = tf.expand_dims(input, 0)\n",
    "print(input)\n",
    "print(input.shape)"
   ]
  },
  {
   "cell_type": "code",
   "execution_count": 5,
   "id": "a51d039a-d354-4e64-887d-0d206f2d687a",
   "metadata": {},
   "outputs": [
    {
     "name": "stdout",
     "output_type": "stream",
     "text": [
      "tf.Tensor([0 1 2 3 4 5 6 7 8 9], shape=(10,), dtype=int32)\n",
      "(10,)\n"
     ]
    }
   ],
   "source": [
    "input = tf.squeeze(input, 0)\n",
    "print(input)\n",
    "print(input.shape)"
   ]
  },
  {
   "cell_type": "code",
   "execution_count": null,
   "id": "3aac7d07-5094-466e-8955-29983e505ee1",
   "metadata": {},
   "outputs": [],
   "source": []
  }
 ],
 "metadata": {
  "kernelspec": {
   "display_name": "Python 3 (ipykernel)",
   "language": "python",
   "name": "python3"
  },
  "language_info": {
   "codemirror_mode": {
    "name": "ipython",
    "version": 3
   },
   "file_extension": ".py",
   "mimetype": "text/x-python",
   "name": "python",
   "nbconvert_exporter": "python",
   "pygments_lexer": "ipython3",
   "version": "3.12.4"
  }
 },
 "nbformat": 4,
 "nbformat_minor": 5
}
