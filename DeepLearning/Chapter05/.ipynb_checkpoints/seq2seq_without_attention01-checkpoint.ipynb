{
 "cells": [
  {
   "cell_type": "code",
   "execution_count": 10,
   "id": "90aada20-1b62-405c-81eb-7a289a9dfcee",
   "metadata": {},
   "outputs": [],
   "source": [
    "import os\n",
    "os.environ['TF_CPP_MIN_LOG_LEVEL'] = \"2\"\n",
    "\n",
    "import nltk\n",
    "import numpy as np\n",
    "import re\n",
    "import shutil\n",
    "import tensorflow as tf\n",
    "import os\n",
    "import unicodedata\n",
    "\n",
    "from nltk.translate.bleu_score import sentence_bleu, SmoothingFunction\n",
    "\n",
    "NUM_SENT_PAIRS = 30000\n",
    "\n",
    "def clean_up_logs(data_dir):\n",
    "    checkpoint_dir = os.path.join(data_dir, \"checkpoints\")\n",
    "    if os.path.exists(checkpoint_dir):\n",
    "        shutil.rmtree(checkpoint_dir, ignore_errors=True)\n",
    "        os.makedirs(checkpoint_dir)\n",
    "    return checkpoint_dir\n",
    "\n",
    "def preprocess_sentence(sent):\n",
    "    sent = \"\".join([c for c in unicodedata.normalize(\"NFD\", sent) \n",
    "        if unicodedata.category(c) != \"Mn\"])\n",
    "    sent = re.sub(r\"([!.?])\", r\" \\1\", sent)\n",
    "    sent = re.sub(r\"[^a-zA-Z!.?]+\", r\" \", sent)\n",
    "    sent = re.sub(r\"\\s+\", \" \", sent)\n",
    "    sent = sent.lower()\n",
    "    return sent\n",
    "\n",
    "def download_and_read():\n",
    "    en_sents, fr_sents_in, fr_sents_out = [], [], []\n",
    "    local_file = os.path.join(\"datasets\", \"fra.txt\")\n",
    "    #with open(local_file, \"r\", encoding='UTF8') as fin:\n",
    "    with open(local_file, \"r\", encoding='UTF8') as fin:\n",
    "        for i, line in enumerate(fin):\n",
    "            en_sent, fr_sent, _ = line.strip().split('\\t')\n",
    "            en_sent = [w for w in preprocess_sentence(en_sent).split()]\n",
    "            fr_sent = preprocess_sentence(fr_sent)\n",
    "            fr_sent_in = [w for w in (\"BOS \" + fr_sent).split()]\n",
    "            fr_sent_out = [w for w in (fr_sent + \" EOS\").split()]\n",
    "            en_sents.append(en_sent)\n",
    "            fr_sents_in.append(fr_sent_in)\n",
    "            fr_sents_out.append(fr_sent_out)\n",
    "            if i >= NUM_SENT_PAIRS - 1:\n",
    "                break\n",
    "    return en_sents, fr_sents_in, fr_sents_out\n",
    "\n",
    "sents_en, sents_fr_in, sents_fr_out = download_and_read()\n",
    "#print(sents_en)\n",
    "#print(sents_fr_in)\n",
    "#print(sents_fr_out)"
   ]
  },
  {
   "cell_type": "code",
   "execution_count": 11,
   "id": "dc6ccee6-5004-44f5-94e1-f8b6e45fd7c5",
   "metadata": {},
   "outputs": [
    {
     "name": "stdout",
     "output_type": "stream",
     "text": [
      "vocab size (en): 4285, vocab size (fr): 7474\n",
      "seqlen (en): 7, (fr): 16\n"
     ]
    }
   ],
   "source": [
    "tokenizer_en = tf.keras.preprocessing.text.Tokenizer(filters=\"\", lower=False)\n",
    "tokenizer_en.fit_on_texts(sents_en)\n",
    "data_en = tokenizer_en.texts_to_sequences(sents_en)\n",
    "data_en = tf.keras.preprocessing.sequence.pad_sequences(data_en, padding=\"post\")\n",
    "\n",
    "tokenizer_fr = tf.keras.preprocessing.text.Tokenizer(filters=\"\", lower=False)\n",
    "tokenizer_fr.fit_on_texts(sents_fr_in)\n",
    "tokenizer_fr.fit_on_texts(sents_fr_out)\n",
    "data_fr_in = tokenizer_fr.texts_to_sequences(sents_fr_in)\n",
    "data_fr_in = tf.keras.preprocessing.sequence.pad_sequences(data_fr_in, padding=\"post\")\n",
    "data_fr_out = tokenizer_fr.texts_to_sequences(sents_fr_out)\n",
    "data_fr_out = tf.keras.preprocessing.sequence.pad_sequences(data_fr_out, padding=\"post\")\n",
    "\n",
    "vocab_size_en = len(tokenizer_en.word_index)\n",
    "vocab_size_fr = len(tokenizer_fr.word_index)\n",
    "word2idx_en = tokenizer_en.word_index\n",
    "idx2word_en = {v:k for k, v in word2idx_en.items()}\n",
    "word2idx_fr = tokenizer_fr.word_index\n",
    "idx2word_fr = {v:k for k, v in word2idx_fr.items()}\n",
    "print(\"vocab size (en): {:d}, vocab size (fr): {:d}\".format(vocab_size_en, vocab_size_fr))\n",
    "\n",
    "maxlen_en = data_en.shape[1]\n",
    "maxlen_fr = data_fr_out.shape[1]\n",
    "print(\"seqlen (en): {:d}, (fr): {:d}\".format(maxlen_en, maxlen_fr))"
   ]
  },
  {
   "cell_type": "code",
   "execution_count": 12,
   "id": "b3cb0727-1201-4bf4-b0b6-34e9532c5dc5",
   "metadata": {},
   "outputs": [
    {
     "name": "stdout",
     "output_type": "stream",
     "text": [
      "7500\n",
      "<BatchDataset shapes: ((64, 7), (64, 16), (64, 16)), types: (tf.int32, tf.int32, tf.int32)>\n",
      "<BatchDataset shapes: ((64, 7), (64, 16), (64, 16)), types: (tf.int32, tf.int32, tf.int32)>\n"
     ]
    }
   ],
   "source": [
    "BATCH_SIZE = 64\n",
    "\n",
    "batch_size = BATCH_SIZE\n",
    "dataset = tf.data.Dataset.from_tensor_slices((data_en, data_fr_in, data_fr_out))\n",
    "dataset = dataset.shuffle(10000)\n",
    "\n",
    "test_size = NUM_SENT_PAIRS // 4\n",
    "test_dataset = dataset.take(test_size).batch(batch_size, drop_remainder=True)\n",
    "train_dataset = dataset.skip(test_size).batch(batch_size, drop_remainder=True)\n",
    "\n",
    "print(test_size)\n",
    "print(test_dataset)\n",
    "print(train_dataset)"
   ]
  },
  {
   "cell_type": "code",
   "execution_count": 13,
   "id": "4b4f4f15-ba0f-4f50-95a8-e69455f1ff1a",
   "metadata": {},
   "outputs": [],
   "source": [
    "class Encoder(tf.keras.Model):\n",
    "    def __init__(self, vocab_size, embedding_dim, num_timesteps, \n",
    "            encoder_dim, **kwargs):\n",
    "        super(Encoder, self).__init__(**kwargs)\n",
    "        self.encoder_dim = encoder_dim\n",
    "        self.embedding = tf.keras.layers.Embedding(\n",
    "            vocab_size, embedding_dim, input_length=num_timesteps)\n",
    "        self.rnn = tf.keras.layers.GRU(\n",
    "            encoder_dim, return_sequences=False, return_state=True)\n",
    "\n",
    "    def call(self, x, state):\n",
    "        x = self.embedding(x)\n",
    "        x, state = self.rnn(x, initial_state=state)\n",
    "        return x, state\n",
    "\n",
    "    def init_state(self, batch_size):\n",
    "        return tf.zeros((batch_size, self.encoder_dim))\n",
    "\n",
    "\n",
    "class Decoder(tf.keras.Model):\n",
    "    def __init__(self, vocab_size, embedding_dim, num_timesteps,\n",
    "            decoder_dim, **kwargs):\n",
    "        super(Decoder, self).__init__(**kwargs)\n",
    "        self.decoder_dim = decoder_dim\n",
    "        self.embedding = tf.keras.layers.Embedding(\n",
    "            vocab_size, embedding_dim, input_length=num_timesteps)\n",
    "        self.rnn = tf.keras.layers.GRU(\n",
    "            decoder_dim, return_sequences=True, return_state=True)\n",
    "        self.dense = tf.keras.layers.Dense(vocab_size)\n",
    "\n",
    "    def call(self, x, state):\n",
    "        x = self.embedding(x)\n",
    "        x, state = self.rnn(x, state)\n",
    "        x = self.dense(x)\n",
    "        return x, state"
   ]
  },
  {
   "cell_type": "code",
   "execution_count": 14,
   "id": "06ab0859-63a0-4506-985b-b4084932b4c6",
   "metadata": {},
   "outputs": [],
   "source": [
    "embedding_dim = 256\n",
    "encoder_dim, decoder_dim = 1024, 1024\n",
    "encoder = Encoder(vocab_size_en+1, embedding_dim, maxlen_en, encoder_dim)\n",
    "decoder = Decoder(vocab_size_fr+1, embedding_dim, maxlen_fr, decoder_dim)"
   ]
  },
  {
   "cell_type": "code",
   "execution_count": 15,
   "id": "4f7651e7-f688-4cbb-bbb0-b751699b24bd",
   "metadata": {},
   "outputs": [
    {
     "name": "stdout",
     "output_type": "stream",
     "text": [
      "encoder input : (64, 7)\n",
      "encoder output : (64, 1024) state: (64, 1024)\n",
      "decoder output (logits): (64, 16, 7475) state: (64, 1024)\n",
      "decoder output (labels): (64, 16)\n"
     ]
    }
   ],
   "source": [
    "for encoder_in, decoder_in, decoder_out in train_dataset:\n",
    "    encoder_state = encoder.init_state(batch_size)\n",
    "    encoder_out, encoder_state = encoder(encoder_in, encoder_state)\n",
    "    decoder_state = encoder_state\n",
    "    decoder_pred, decoder_state = decoder(decoder_in, decoder_state)\n",
    "    break\n",
    "    \n",
    "print(\"encoder input :\", encoder_in.shape)\n",
    "print(\"encoder output :\", encoder_out.shape, \"state:\", encoder_state.shape)\n",
    "print(\"decoder output (logits):\", decoder_pred.shape, \"state:\", decoder_state.shape)\n",
    "print(\"decoder output (labels):\", decoder_out.shape)"
   ]
  },
  {
   "cell_type": "code",
   "execution_count": null,
   "id": "1a3ef410-5a49-48ad-9cb3-ee550cc10758",
   "metadata": {},
   "outputs": [],
   "source": []
  }
 ],
 "metadata": {
  "kernelspec": {
   "display_name": "Python 3 (ipykernel)",
   "language": "python",
   "name": "python3"
  },
  "language_info": {
   "codemirror_mode": {
    "name": "ipython",
    "version": 3
   },
   "file_extension": ".py",
   "mimetype": "text/x-python",
   "name": "python",
   "nbconvert_exporter": "python",
   "pygments_lexer": "ipython3",
   "version": "3.9.18"
  }
 },
 "nbformat": 4,
 "nbformat_minor": 5
}
