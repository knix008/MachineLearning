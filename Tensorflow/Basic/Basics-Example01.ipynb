{
 "cells": [
  {
   "cell_type": "code",
   "execution_count": 1,
   "id": "22da4c51-cb7f-4f01-bed3-6307dfa18839",
   "metadata": {},
   "outputs": [
    {
     "name": "stdout",
     "output_type": "stream",
     "text": [
      "tf.Tensor(\n",
      "[[1. 2. 3.]\n",
      " [4. 5. 6.]], shape=(2, 3), dtype=float32)\n",
      "Shape :  (2, 3)\n",
      "Data Type :  <dtype: 'float32'>\n"
     ]
    }
   ],
   "source": [
    "import tensorflow as tf\n",
    "\n",
    "x = tf.constant([[1., 2., 3.],\n",
    "                 [4., 5., 6.]])\n",
    "\n",
    "print(x)\n",
    "print(\"Shape : \", x.shape)\n",
    "print(\"Data Type : \", x.dtype)"
   ]
  },
  {
   "cell_type": "code",
   "execution_count": 2,
   "id": "65cc94d8-0818-4698-9ef6-7d4b839e98bb",
   "metadata": {},
   "outputs": [
    {
     "name": "stdout",
     "output_type": "stream",
     "text": [
      "tf.Tensor(\n",
      "[[ 2.  4.  6.]\n",
      " [ 8. 10. 12.]], shape=(2, 3), dtype=float32)\n"
     ]
    }
   ],
   "source": [
    "print(x + x)"
   ]
  },
  {
   "cell_type": "code",
   "execution_count": 3,
   "id": "5fb5d24f-f54a-41dc-b473-b5602af764b0",
   "metadata": {},
   "outputs": [
    {
     "name": "stdout",
     "output_type": "stream",
     "text": [
      "tf.Tensor(\n",
      "[[ 5. 10. 15.]\n",
      " [20. 25. 30.]], shape=(2, 3), dtype=float32)\n"
     ]
    }
   ],
   "source": [
    "print(5 * x)"
   ]
  },
  {
   "cell_type": "code",
   "execution_count": 4,
   "id": "e0c4db5f-894a-4586-a339-baf1cbe44628",
   "metadata": {},
   "outputs": [
    {
     "name": "stdout",
     "output_type": "stream",
     "text": [
      "tf.Tensor(\n",
      "[[14. 32.]\n",
      " [32. 77.]], shape=(2, 2), dtype=float32)\n"
     ]
    }
   ],
   "source": [
    "print(x @ tf.transpose(x))"
   ]
  },
  {
   "cell_type": "code",
   "execution_count": 5,
   "id": "a80818e3-8d79-492a-8075-04ce18d88090",
   "metadata": {},
   "outputs": [
    {
     "name": "stdout",
     "output_type": "stream",
     "text": [
      "tf.Tensor(\n",
      "[[1. 2. 3.]\n",
      " [4. 5. 6.]\n",
      " [1. 2. 3.]\n",
      " [4. 5. 6.]\n",
      " [1. 2. 3.]\n",
      " [4. 5. 6.]], shape=(6, 3), dtype=float32)\n"
     ]
    }
   ],
   "source": [
    "print(tf.concat([x, x, x], axis=0))"
   ]
  },
  {
   "cell_type": "code",
   "execution_count": 6,
   "id": "5da2bbea-52aa-4fdd-a03c-820610c7ff68",
   "metadata": {},
   "outputs": [
    {
     "name": "stdout",
     "output_type": "stream",
     "text": [
      "tf.Tensor(\n",
      "[[0.09003057 0.24472848 0.66524094]\n",
      " [0.09003057 0.24472848 0.66524094]], shape=(2, 3), dtype=float32)\n"
     ]
    }
   ],
   "source": [
    "print(tf.nn.softmax(x, axis=-1))"
   ]
  },
  {
   "cell_type": "code",
   "execution_count": 7,
   "id": "24882ff4-21c9-4dc8-a902-36de151c346d",
   "metadata": {},
   "outputs": [
    {
     "name": "stdout",
     "output_type": "stream",
     "text": [
      "tf.Tensor(21.0, shape=(), dtype=float32)\n"
     ]
    }
   ],
   "source": [
    "print(tf.reduce_sum(x))"
   ]
  },
  {
   "cell_type": "code",
   "execution_count": 8,
   "id": "45cc0bb7-c4d0-4fac-aedd-596fe91b1748",
   "metadata": {},
   "outputs": [
    {
     "name": "stdout",
     "output_type": "stream",
     "text": [
      "TensorFlow **IS NOT** using the GPU\n"
     ]
    }
   ],
   "source": [
    "if tf.config.list_physical_devices('GPU'):\n",
    "  print(\"TensorFlow **IS** using the GPU\")\n",
    "else:\n",
    "  print(\"TensorFlow **IS NOT** using the GPU\")"
   ]
  },
  {
   "cell_type": "code",
   "execution_count": 9,
   "id": "ab99ef63-08ba-417c-aff6-3f6f870fab87",
   "metadata": {},
   "outputs": [
    {
     "name": "stdout",
     "output_type": "stream",
     "text": [
      "2.16.2\n"
     ]
    }
   ],
   "source": [
    "print(tf.__version__)"
   ]
  },
  {
   "cell_type": "code",
   "execution_count": null,
   "id": "daadc0ac-c652-48bd-9266-b462958c8894",
   "metadata": {},
   "outputs": [],
   "source": []
  }
 ],
 "metadata": {
  "kernelspec": {
   "display_name": "Python 3 (ipykernel)",
   "language": "python",
   "name": "python3"
  },
  "language_info": {
   "codemirror_mode": {
    "name": "ipython",
    "version": 3
   },
   "file_extension": ".py",
   "mimetype": "text/x-python",
   "name": "python",
   "nbconvert_exporter": "python",
   "pygments_lexer": "ipython3",
   "version": "3.12.4"
  },
  "widgets": {
   "application/vnd.jupyter.widget-state+json": {
    "state": {},
    "version_major": 2,
    "version_minor": 0
   }
  }
 },
 "nbformat": 4,
 "nbformat_minor": 5
}
