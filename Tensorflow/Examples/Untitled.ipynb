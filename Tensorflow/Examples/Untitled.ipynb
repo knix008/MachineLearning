{
 "cells": [
  {
   "cell_type": "code",
   "execution_count": 18,
   "id": "567930bc-dd6f-4f7a-9c3b-579e8dc0673a",
   "metadata": {},
   "outputs": [
    {
     "name": "stdout",
     "output_type": "stream",
     "text": [
      "(10, 10, 3)\n"
     ]
    }
   ],
   "source": [
    "import tensorflow as tf\n",
    "\n",
    "arr = tf.zeros([10, 10, 3 ])\n",
    "print(arr.shape)"
   ]
  },
  {
   "cell_type": "markdown",
   "id": "c4ae7b9b-2995-4e0d-a70d-2077731d9571",
   "metadata": {},
   "source": [
    "You can add an outer batch axis by passing axis=0:"
   ]
  },
  {
   "cell_type": "code",
   "execution_count": 19,
   "id": "048df4e9-372f-4a77-a236-a9a7945f85a0",
   "metadata": {},
   "outputs": [
    {
     "name": "stdout",
     "output_type": "stream",
     "text": [
      "(1, 10, 10, 3)\n"
     ]
    }
   ],
   "source": [
    "arr = tf.expand_dims(arr, axis=0)\n",
    "print(arr.shape)"
   ]
  },
  {
   "cell_type": "markdown",
   "id": "37e39f03-4f4d-49d3-98df-294f3f6a2827",
   "metadata": {},
   "source": [
    "You can add an new dimension at axis=2"
   ]
  },
  {
   "cell_type": "code",
   "execution_count": 20,
   "id": "aa253a35-3725-4182-a61d-041b161d99e7",
   "metadata": {},
   "outputs": [
    {
     "name": "stdout",
     "output_type": "stream",
     "text": [
      "(1, 10, 1, 10, 3)\n"
     ]
    }
   ],
   "source": [
    "arr = tf.expand_dims(arr, axis=2)\n",
    "print(arr.shape)"
   ]
  },
  {
   "cell_type": "code",
   "execution_count": null,
   "id": "91f3cf7d-3c5a-461c-8e82-8c3ad9af989f",
   "metadata": {},
   "outputs": [],
   "source": []
  }
 ],
 "metadata": {
  "kernelspec": {
   "display_name": "Python 3 (ipykernel)",
   "language": "python",
   "name": "python3"
  },
  "language_info": {
   "codemirror_mode": {
    "name": "ipython",
    "version": 3
   },
   "file_extension": ".py",
   "mimetype": "text/x-python",
   "name": "python",
   "nbconvert_exporter": "python",
   "pygments_lexer": "ipython3",
   "version": "3.9.18"
  }
 },
 "nbformat": 4,
 "nbformat_minor": 5
}
