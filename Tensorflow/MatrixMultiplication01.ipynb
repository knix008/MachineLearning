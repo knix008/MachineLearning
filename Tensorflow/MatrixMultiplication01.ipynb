{
 "cells": [
  {
   "cell_type": "code",
   "execution_count": 1,
   "id": "9e74f96b-9169-4a24-9274-cbab732e51ce",
   "metadata": {},
   "outputs": [
    {
     "name": "stdout",
     "output_type": "stream",
     "text": [
      "2.16.2\n"
     ]
    }
   ],
   "source": [
    "import tensorflow as tf\n",
    "print(tf.__version__)"
   ]
  },
  {
   "cell_type": "code",
   "execution_count": 15,
   "id": "58e4e6eb-4f78-4ff3-9fed-52cbac9fb61f",
   "metadata": {},
   "outputs": [
    {
     "name": "stdout",
     "output_type": "stream",
     "text": [
      "<tf.Variable 'Variable:0' shape=(3, 3) dtype=int32, numpy=\n",
      "array([[1, 1, 0],\n",
      "       [0, 0, 1],\n",
      "       [0, 0, 1]])>\n",
      "<tf.Variable 'Variable:0' shape=(3, 3) dtype=int32, numpy=\n",
      "array([[1, 0, 0],\n",
      "       [0, 1, 0],\n",
      "       [0, 0, 1]])>\n",
      "tf.Tensor(\n",
      "[[1 1 0]\n",
      " [0 0 1]\n",
      " [0 0 1]], shape=(3, 3), dtype=int32)\n",
      "tf.Tensor(\n",
      "[[1 1 1]\n",
      " [0 0 1]\n",
      " [0 0 1]], shape=(3, 3), dtype=int32)\n",
      "tf.Tensor(\n",
      "[[1 1 1]\n",
      " [0 0 1]\n",
      " [0 0 1]], shape=(3, 3), dtype=int32)\n"
     ]
    }
   ],
   "source": [
    "x = tf.Variable([[1, 1, 0],\n",
    "                 [0, 0, 1],\n",
    "                 [0, 0, 1]])\n",
    "\n",
    "print(x)\n",
    "\n",
    "y = tf.Variable([[1, 0, 0], \n",
    "                 [0, 1, 0],\n",
    "                 [0, 0, 1]])\n",
    "\n",
    "print(y)\n",
    "\n",
    "z = tf.matmul(x, y)\n",
    "print(z)\n",
    "\n",
    "w = tf.matmul(x, z)\n",
    "print(w)\n",
    "v = x @ x\n",
    "print(v)"
   ]
  },
  {
   "cell_type": "code",
   "execution_count": null,
   "id": "8e584975-4bcc-499a-9f1d-6f2fc84c9331",
   "metadata": {},
   "outputs": [],
   "source": []
  },
  {
   "cell_type": "code",
   "execution_count": null,
   "id": "8dbe8634-3b7b-4325-854e-6d1a039c3f65",
   "metadata": {},
   "outputs": [],
   "source": []
  }
 ],
 "metadata": {
  "kernelspec": {
   "display_name": "Python 3 (ipykernel)",
   "language": "python",
   "name": "python3"
  },
  "language_info": {
   "codemirror_mode": {
    "name": "ipython",
    "version": 3
   },
   "file_extension": ".py",
   "mimetype": "text/x-python",
   "name": "python",
   "nbconvert_exporter": "python",
   "pygments_lexer": "ipython3",
   "version": "3.12.4"
  },
  "widgets": {
   "application/vnd.jupyter.widget-state+json": {
    "state": {},
    "version_major": 2,
    "version_minor": 0
   }
  }
 },
 "nbformat": 4,
 "nbformat_minor": 5
}
