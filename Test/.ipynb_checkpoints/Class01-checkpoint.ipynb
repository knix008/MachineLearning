{
 "cells": [
  {
   "cell_type": "code",
   "execution_count": 4,
   "id": "21974645-3a23-402f-8f81-4d0cff58ee45",
   "metadata": {},
   "outputs": [
    {
     "name": "stdout",
     "output_type": "stream",
     "text": [
      "Encoding!!!\n"
     ]
    }
   ],
   "source": [
    "class VAE():\n",
    "    def __init__(self, **kwargs):\n",
    "        super(VAE, self).__init__()\n",
    "        self.__dict__.update(kwargs)\n",
    "\n",
    "    def encode(self):\n",
    "        print(\"Encoding!!!\")\n",
    "        return\n",
    "\n",
    "model = VAE()\n",
    "model.encode()"
   ]
  },
  {
   "cell_type": "code",
   "execution_count": null,
   "id": "64e8f209-4dc8-476d-8506-59d603fe7c99",
   "metadata": {},
   "outputs": [],
   "source": []
  }
 ],
 "metadata": {
  "kernelspec": {
   "display_name": "Python 3 (ipykernel)",
   "language": "python",
   "name": "python3"
  },
  "language_info": {
   "codemirror_mode": {
    "name": "ipython",
    "version": 3
   },
   "file_extension": ".py",
   "mimetype": "text/x-python",
   "name": "python",
   "nbconvert_exporter": "python",
   "pygments_lexer": "ipython3",
   "version": "3.12.4"
  }
 },
 "nbformat": 4,
 "nbformat_minor": 5
}
