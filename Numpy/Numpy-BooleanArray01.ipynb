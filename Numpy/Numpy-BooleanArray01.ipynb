{
 "cells": [
  {
   "cell_type": "code",
   "execution_count": 3,
   "id": "63ed410c-103b-4986-bced-31090b2e573d",
   "metadata": {},
   "outputs": [
    {
     "data": {
      "text/plain": [
       "46"
      ]
     },
     "execution_count": 3,
     "metadata": {},
     "output_type": "execute_result"
    }
   ],
   "source": [
    "import numpy as np\n",
    "\n",
    "arr = np.random.standard_normal(100)\n",
    "(arr > 0).sum() # Number of positive values"
   ]
  },
  {
   "cell_type": "code",
   "execution_count": 4,
   "id": "bef205a3-b1c2-4348-bf84-985a89f90a15",
   "metadata": {},
   "outputs": [
    {
     "data": {
      "text/plain": [
       "54"
      ]
     },
     "execution_count": 4,
     "metadata": {},
     "output_type": "execute_result"
    }
   ],
   "source": [
    "In [207]: (arr <= 0).sum() # Number of non-positive values"
   ]
  },
  {
   "cell_type": "code",
   "execution_count": 5,
   "id": "ba853a72-d9e2-4177-b78d-c61f29cef9a1",
   "metadata": {},
   "outputs": [
    {
     "data": {
      "text/plain": [
       "True"
      ]
     },
     "execution_count": 5,
     "metadata": {},
     "output_type": "execute_result"
    }
   ],
   "source": [
    "In [208]: bools = np.array([False, False, True, False])\n",
    "In [209]: bools.any()"
   ]
  },
  {
   "cell_type": "code",
   "execution_count": 6,
   "id": "75e2aa54-6c99-42cb-843d-bc8ab990f9d4",
   "metadata": {},
   "outputs": [
    {
     "data": {
      "text/plain": [
       "False"
      ]
     },
     "execution_count": 6,
     "metadata": {},
     "output_type": "execute_result"
    }
   ],
   "source": [
    "bools.all()"
   ]
  },
  {
   "cell_type": "code",
   "execution_count": 7,
   "id": "8e3a8ef2-e999-4f5c-b78d-ca4d6d39f53f",
   "metadata": {},
   "outputs": [
    {
     "data": {
      "text/plain": [
       "array([-0.13243125,  1.01544321,  0.43725257,  1.40516442,  0.17744802,\n",
       "       -0.19664959])"
      ]
     },
     "execution_count": 7,
     "metadata": {},
     "output_type": "execute_result"
    }
   ],
   "source": [
    "arr = np.random.standard_normal(6)\n",
    "arr"
   ]
  },
  {
   "cell_type": "code",
   "execution_count": 8,
   "id": "bb08bfd6-3ab9-4301-b734-424c5089a7bd",
   "metadata": {},
   "outputs": [
    {
     "data": {
      "text/plain": [
       "array([-0.19664959, -0.13243125,  0.17744802,  0.43725257,  1.01544321,\n",
       "        1.40516442])"
      ]
     },
     "execution_count": 8,
     "metadata": {},
     "output_type": "execute_result"
    }
   ],
   "source": [
    "arr.sort()\n",
    "arr"
   ]
  },
  {
   "cell_type": "code",
   "execution_count": 11,
   "id": "64a1f29c-259e-4285-8a6d-14ff0895f3f1",
   "metadata": {},
   "outputs": [
    {
     "data": {
      "text/plain": [
       "array([[-0.67026726, -0.62883082, -1.14507133],\n",
       "       [ 1.54861511,  1.83814038, -1.11653417],\n",
       "       [-0.63252173, -0.0514825 ,  0.27486479],\n",
       "       [-0.03156505,  0.56387627, -0.15186576],\n",
       "       [ 0.83372243,  1.29971055,  1.20081375]])"
      ]
     },
     "execution_count": 11,
     "metadata": {},
     "output_type": "execute_result"
    }
   ],
   "source": [
    "In [215]: arr = np.random.standard_normal((5, 3))\n",
    "In [216]: arr"
   ]
  },
  {
   "cell_type": "code",
   "execution_count": 13,
   "id": "467cdf7d-06b0-4f7d-8b62-5c2148a2778b",
   "metadata": {},
   "outputs": [
    {
     "data": {
      "text/plain": [
       "array([[-0.67026726, -0.62883082, -1.14507133],\n",
       "       [-0.63252173, -0.0514825 , -1.11653417],\n",
       "       [-0.03156505,  0.56387627, -0.15186576],\n",
       "       [ 0.83372243,  1.29971055,  0.27486479],\n",
       "       [ 1.54861511,  1.83814038,  1.20081375]])"
      ]
     },
     "execution_count": 13,
     "metadata": {},
     "output_type": "execute_result"
    }
   ],
   "source": [
    "arr.sort(axis=0)\n",
    "arr"
   ]
  },
  {
   "cell_type": "code",
   "execution_count": 14,
   "id": "5aa8bbc7-0f5f-4650-92c9-37c402761c3e",
   "metadata": {},
   "outputs": [
    {
     "data": {
      "text/plain": [
       "array([[-1.14507133, -0.67026726, -0.62883082],\n",
       "       [-1.11653417, -0.63252173, -0.0514825 ],\n",
       "       [-0.15186576, -0.03156505,  0.56387627],\n",
       "       [ 0.27486479,  0.83372243,  1.29971055],\n",
       "       [ 1.20081375,  1.54861511,  1.83814038]])"
      ]
     },
     "execution_count": 14,
     "metadata": {},
     "output_type": "execute_result"
    }
   ],
   "source": [
    "arr.sort(axis=1)\n",
    "arr"
   ]
  },
  {
   "cell_type": "code",
   "execution_count": 15,
   "id": "f64409e2-3f09-48be-9168-e1c85f4fef29",
   "metadata": {},
   "outputs": [
    {
     "data": {
      "text/plain": [
       "array([-10,  -3,   0,   1,   5,   7])"
      ]
     },
     "execution_count": 15,
     "metadata": {},
     "output_type": "execute_result"
    }
   ],
   "source": [
    "In [221]: arr2 = np.array([5, -10, 7, 1, 0, -3])\n",
    "In [222]: sorted_arr2 = np.sort(arr2)\n",
    "In [223]: sorted_arr2"
   ]
  },
  {
   "cell_type": "code",
   "execution_count": null,
   "id": "9cf16c78-4c57-457c-89f1-960328066132",
   "metadata": {},
   "outputs": [],
   "source": []
  }
 ],
 "metadata": {
  "kernelspec": {
   "display_name": "Python 3 (ipykernel)",
   "language": "python",
   "name": "python3"
  },
  "language_info": {
   "codemirror_mode": {
    "name": "ipython",
    "version": 3
   },
   "file_extension": ".py",
   "mimetype": "text/x-python",
   "name": "python",
   "nbconvert_exporter": "python",
   "pygments_lexer": "ipython3",
   "version": "3.11.7"
  }
 },
 "nbformat": 4,
 "nbformat_minor": 5
}
