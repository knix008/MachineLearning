{
 "cells": [
  {
   "cell_type": "code",
   "execution_count": 2,
   "id": "93fb3ad6-969e-48ce-b4d2-f1a447cfa7a9",
   "metadata": {},
   "outputs": [],
   "source": [
    "import numpy as np\n",
    "\n",
    "x = np.array([[1,2,3],\n",
    "              [4,5,6],\n",
    "              [7,8,9]])\n",
    "\n",
    "i = np.identity(3)"
   ]
  },
  {
   "cell_type": "code",
   "execution_count": 3,
   "id": "a61b5f51-e608-4577-a4dd-15b434dd18df",
   "metadata": {},
   "outputs": [
    {
     "data": {
      "text/plain": [
       "array([[1, 2, 3],\n",
       "       [4, 5, 6],\n",
       "       [7, 8, 9]])"
      ]
     },
     "execution_count": 3,
     "metadata": {},
     "output_type": "execute_result"
    }
   ],
   "source": [
    "x"
   ]
  },
  {
   "cell_type": "code",
   "execution_count": 4,
   "id": "c4c45602-a4c7-410a-b76f-3195bc1e02d2",
   "metadata": {},
   "outputs": [
    {
     "data": {
      "text/plain": [
       "array([[1., 0., 0.],\n",
       "       [0., 1., 0.],\n",
       "       [0., 0., 1.]])"
      ]
     },
     "execution_count": 4,
     "metadata": {},
     "output_type": "execute_result"
    }
   ],
   "source": [
    "i"
   ]
  },
  {
   "cell_type": "code",
   "execution_count": 5,
   "id": "d5c80b6a-f4b9-43de-9b33-1d567f94c252",
   "metadata": {},
   "outputs": [
    {
     "data": {
      "text/plain": [
       "array([[1., 2., 3.],\n",
       "       [4., 5., 6.],\n",
       "       [7., 8., 9.]])"
      ]
     },
     "execution_count": 5,
     "metadata": {},
     "output_type": "execute_result"
    }
   ],
   "source": [
    "x.dot(i)"
   ]
  },
  {
   "cell_type": "code",
   "execution_count": 6,
   "id": "d57701c4-93a0-4f11-b26d-b86ff7b4b83c",
   "metadata": {},
   "outputs": [
    {
     "data": {
      "text/plain": [
       "array([[1., 4., 7.],\n",
       "       [2., 5., 8.],\n",
       "       [3., 6., 9.]])"
      ]
     },
     "execution_count": 6,
     "metadata": {},
     "output_type": "execute_result"
    }
   ],
   "source": [
    "x.dot(i).T"
   ]
  },
  {
   "cell_type": "code",
   "execution_count": 7,
   "id": "2e9cbf3f-469c-4f72-9a8a-fdb31e140895",
   "metadata": {},
   "outputs": [
    {
     "data": {
      "text/plain": [
       "array([[1., 2., 3.],\n",
       "       [4., 5., 6.],\n",
       "       [7., 8., 9.]])"
      ]
     },
     "execution_count": 7,
     "metadata": {},
     "output_type": "execute_result"
    }
   ],
   "source": [
    "x@i"
   ]
  },
  {
   "cell_type": "code",
   "execution_count": 8,
   "id": "a4cb161a-415d-4f2a-a76d-7bd75871cd5e",
   "metadata": {},
   "outputs": [
    {
     "data": {
      "text/plain": [
       "array([[1, 4, 7],\n",
       "       [2, 5, 8],\n",
       "       [3, 6, 9]])"
      ]
     },
     "execution_count": 8,
     "metadata": {},
     "output_type": "execute_result"
    }
   ],
   "source": [
    "y = x.T\n",
    "y"
   ]
  },
  {
   "cell_type": "code",
   "execution_count": 9,
   "id": "86615395-8a5e-4c8f-adaf-6bf8354be2a6",
   "metadata": {},
   "outputs": [
    {
     "data": {
      "text/plain": [
       "array([[ 14,  32,  50],\n",
       "       [ 32,  77, 122],\n",
       "       [ 50, 122, 194]])"
      ]
     },
     "execution_count": 9,
     "metadata": {},
     "output_type": "execute_result"
    }
   ],
   "source": [
    "x@y"
   ]
  },
  {
   "cell_type": "code",
   "execution_count": 12,
   "id": "9f9ab9b1-8797-4f17-87f3-8e5fb5f9f324",
   "metadata": {},
   "outputs": [
    {
     "data": {
      "text/plain": [
       "array([[ 3.15251974e+15, -6.30503948e+15,  3.15251974e+15],\n",
       "       [-6.30503948e+15,  1.26100790e+16, -6.30503948e+15],\n",
       "       [ 3.15251974e+15, -6.30503948e+15,  3.15251974e+15]])"
      ]
     },
     "execution_count": 12,
     "metadata": {},
     "output_type": "execute_result"
    }
   ],
   "source": [
    "from numpy.linalg import inv\n",
    "inv(x)"
   ]
  },
  {
   "cell_type": "code",
   "execution_count": 13,
   "id": "aedc38eb-ed3b-43b1-80f4-d751006c3a08",
   "metadata": {},
   "outputs": [
    {
     "data": {
      "text/plain": [
       "array([[ 0. ,  1. , -0.5],\n",
       "       [ 0. ,  2. , -1. ],\n",
       "       [ 0. ,  3. ,  2.5]])"
      ]
     },
     "execution_count": 13,
     "metadata": {},
     "output_type": "execute_result"
    }
   ],
   "source": [
    "x @ inv(x)"
   ]
  },
  {
   "cell_type": "code",
   "execution_count": 14,
   "id": "1fc5448f-45b9-4944-ac68-1bcfc8bea2e8",
   "metadata": {},
   "outputs": [
    {
     "data": {
      "text/plain": [
       "array([[ 0. ,  1. , -0.5],\n",
       "       [ 0. ,  2. , -1. ],\n",
       "       [ 0. ,  3. ,  2.5]])"
      ]
     },
     "execution_count": 14,
     "metadata": {},
     "output_type": "execute_result"
    }
   ],
   "source": [
    "x.dot(inv(x))"
   ]
  },
  {
   "cell_type": "code",
   "execution_count": 15,
   "id": "2f35a692-0d94-4dcc-a0f6-d74f3a5d1403",
   "metadata": {},
   "outputs": [
    {
     "data": {
      "text/plain": [
       "array([[ 4. , -3. , -2.5],\n",
       "       [ 0. ,  0. , -4. ],\n",
       "       [ 4. ,  3. ,  2.5]])"
      ]
     },
     "execution_count": 15,
     "metadata": {},
     "output_type": "execute_result"
    }
   ],
   "source": [
    "y.dot(inv(x))"
   ]
  },
  {
   "cell_type": "code",
   "execution_count": 16,
   "id": "864f0c67-3af5-4776-9fb8-dce7cf27d0ce",
   "metadata": {},
   "outputs": [
    {
     "data": {
      "text/plain": [
       "array([[ 12. , -10. ,   1.5],\n",
       "       [ 16. , -16. ,   4. ],\n",
       "       [ 12. ,  -6. ,   2.5]])"
      ]
     },
     "execution_count": 16,
     "metadata": {},
     "output_type": "execute_result"
    }
   ],
   "source": [
    "y.dot(inv(x).T)"
   ]
  },
  {
   "cell_type": "code",
   "execution_count": 17,
   "id": "05188e3f-22ab-4200-ac4e-774de062ec3e",
   "metadata": {},
   "outputs": [
    {
     "data": {
      "text/plain": [
       "array([[  4. ,  -6. ,   1.5],\n",
       "       [ 12. , -20. ,   7. ],\n",
       "       [ 16. , -22. ,  10.5]])"
      ]
     },
     "execution_count": 17,
     "metadata": {},
     "output_type": "execute_result"
    }
   ],
   "source": [
    "x.dot(inv(x).T)"
   ]
  },
  {
   "cell_type": "code",
   "execution_count": 18,
   "id": "3e81b58e-aec8-4b44-9438-cd712c6342d7",
   "metadata": {},
   "outputs": [
    {
     "data": {
      "text/plain": [
       "array([[1.42857143, 2.14285714, 2.85714286],\n",
       "       [1.71428571, 2.07142857, 2.42857143],\n",
       "       [2.        , 2.        , 2.        ]])"
      ]
     },
     "execution_count": 18,
     "metadata": {},
     "output_type": "execute_result"
    }
   ],
   "source": [
    "inv(inv(x))"
   ]
  },
  {
   "cell_type": "code",
   "execution_count": 19,
   "id": "9cfb2481-1d51-4f2f-b5a6-fbddd491f033",
   "metadata": {},
   "outputs": [
    {
     "data": {
      "text/plain": [
       "array([[1, 2, 3],\n",
       "       [4, 5, 6],\n",
       "       [7, 8, 9]])"
      ]
     },
     "execution_count": 19,
     "metadata": {},
     "output_type": "execute_result"
    }
   ],
   "source": [
    "x"
   ]
  }
 ],
 "metadata": {
  "kernelspec": {
   "display_name": "Python 3 (ipykernel)",
   "language": "python",
   "name": "python3"
  },
  "language_info": {
   "codemirror_mode": {
    "name": "ipython",
    "version": 3
   },
   "file_extension": ".py",
   "mimetype": "text/x-python",
   "name": "python",
   "nbconvert_exporter": "python",
   "pygments_lexer": "ipython3",
   "version": "3.12.4"
  }
 },
 "nbformat": 4,
 "nbformat_minor": 5
}
