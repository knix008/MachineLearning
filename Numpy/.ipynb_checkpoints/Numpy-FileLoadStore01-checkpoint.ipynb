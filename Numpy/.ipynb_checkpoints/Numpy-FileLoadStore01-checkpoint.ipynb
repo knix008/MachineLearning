{
 "cells": [
  {
   "cell_type": "code",
   "execution_count": 1,
   "id": "be837d25-e6b3-4954-b8de-6c70e2ad1ec8",
   "metadata": {},
   "outputs": [],
   "source": [
    "import numpy as np\n",
    "\n",
    "arr = np.arange(10)\n",
    "np.save(\"some_array\", arr)"
   ]
  },
  {
   "cell_type": "code",
   "execution_count": 3,
   "id": "620def34-f6bc-4ef7-8b57-4afe87111462",
   "metadata": {},
   "outputs": [
    {
     "name": "stdout",
     "output_type": "stream",
     "text": [
      " D 드라이브의 볼륨: Home\n",
      " 볼륨 일련 번호: C446-298C\n",
      "\n",
      " D:\\Home\\Project\\MachineLearning\\Numpy 디렉터리\n",
      "\n",
      "2024-08-06  오후 04:45    <DIR>          .\n",
      "2024-08-05  오후 09:04    <DIR>          ..\n",
      "2024-08-06  오후 04:45    <DIR>          .ipynb_checkpoints\n",
      "2024-07-29  오후 03:26             2,492 Numpy_ndarray01.ipynb\n",
      "2024-07-30  오후 02:11             3,234 Numpy-Arithmetic01.ipynb\n",
      "2024-08-04  오후 04:21            60,628 Numpy-ArrayOrientedProgramming.ipynb\n",
      "2024-08-06  오후 04:36             5,973 Numpy-BooleanArray01.ipynb\n",
      "2024-07-31  오후 11:45             7,764 Numpy-BooleanIndexing01.ipynb\n",
      "2024-08-05  오후 12:50             4,258 Numpy-ConditionalLogic01.ipynb\n",
      "2024-07-31  오후 04:10             5,230 Numpy-CreateArray01.ipynb\n",
      "2024-07-30  오후 02:02             4,526 Numpy-Datatype01.ipynb\n",
      "2024-08-01  오후 01:51             4,774 Numpy-FancyIndexing01.ipynb\n",
      "2024-08-06  오후 04:45                72 Numpy-FileLoadStore01.ipynb\n",
      "2024-07-31  오후 04:10             7,962 Numpy-IndexingSlicing.ipynb\n",
      "2024-07-31  오후 04:10             4,924 Numpy-IndexingWithSlice01.ipynb\n",
      "2024-08-06  오후 04:36             5,794 Numpy-MathematicalStatisticalMethods01.ipynb\n",
      "2024-07-28  오후 03:55             1,485 Numpy-performance.ipynb\n",
      "2024-08-06  오후 04:36             3,073 Numpy-PseudorandomnumberGenerator01.ipynb\n",
      "2024-08-01  오후 01:36             4,506 Numpy-TransposingSwapping01.ipynb\n",
      "2024-08-04  오후 03:59             6,931 Numpy-UniversalFunction01.ipynb\n",
      "2024-08-06  오후 04:45               168 some_array.npy\n",
      "              18개 파일             133,794 바이트\n",
      "               3개 디렉터리  910,910,009,344 바이트 남음\n"
     ]
    }
   ],
   "source": [
    "%ls"
   ]
  },
  {
   "cell_type": "code",
   "execution_count": 4,
   "id": "3e011d0a-a8b4-4331-8785-a2feb1974b23",
   "metadata": {},
   "outputs": [
    {
     "data": {
      "text/plain": [
       "array([0, 1, 2, 3, 4, 5, 6, 7, 8, 9])"
      ]
     },
     "execution_count": 4,
     "metadata": {},
     "output_type": "execute_result"
    }
   ],
   "source": [
    "np.load(\"some_array.npy\")"
   ]
  },
  {
   "cell_type": "code",
   "execution_count": 5,
   "id": "c438ec85-1ed0-4c25-8459-742408b25ba7",
   "metadata": {},
   "outputs": [],
   "source": [
    "np.savez(\"array_archive.npz\", a=arr, b=arr)"
   ]
  },
  {
   "cell_type": "code",
   "execution_count": 6,
   "id": "aed13bb4-5450-4a72-9bac-d4a17728c75d",
   "metadata": {},
   "outputs": [
    {
     "name": "stdout",
     "output_type": "stream",
     "text": [
      " D 드라이브의 볼륨: Home\n",
      " 볼륨 일련 번호: C446-298C\n",
      "\n",
      " D:\\Home\\Project\\MachineLearning\\Numpy 디렉터리\n",
      "\n",
      "2024-08-06  오후 04:53    <DIR>          .\n",
      "2024-08-05  오후 09:04    <DIR>          ..\n",
      "2024-08-06  오후 04:45    <DIR>          .ipynb_checkpoints\n",
      "2024-08-06  오후 04:53               570 array_archive.npz\n",
      "2024-07-29  오후 03:26             2,492 Numpy_ndarray01.ipynb\n",
      "2024-07-30  오후 02:11             3,234 Numpy-Arithmetic01.ipynb\n",
      "2024-08-04  오후 04:21            60,628 Numpy-ArrayOrientedProgramming.ipynb\n",
      "2024-08-06  오후 04:36             5,973 Numpy-BooleanArray01.ipynb\n",
      "2024-07-31  오후 11:45             7,764 Numpy-BooleanIndexing01.ipynb\n",
      "2024-08-05  오후 12:50             4,258 Numpy-ConditionalLogic01.ipynb\n",
      "2024-07-31  오후 04:10             5,230 Numpy-CreateArray01.ipynb\n",
      "2024-07-30  오후 02:02             4,526 Numpy-Datatype01.ipynb\n",
      "2024-08-01  오후 01:51             4,774 Numpy-FancyIndexing01.ipynb\n",
      "2024-08-06  오후 04:51             3,557 Numpy-FileLoadStore01.ipynb\n",
      "2024-07-31  오후 04:10             7,962 Numpy-IndexingSlicing.ipynb\n",
      "2024-07-31  오후 04:10             4,924 Numpy-IndexingWithSlice01.ipynb\n",
      "2024-08-06  오후 04:36             5,794 Numpy-MathematicalStatisticalMethods01.ipynb\n",
      "2024-07-28  오후 03:55             1,485 Numpy-performance.ipynb\n",
      "2024-08-06  오후 04:36             3,073 Numpy-PseudorandomnumberGenerator01.ipynb\n",
      "2024-08-01  오후 01:36             4,506 Numpy-TransposingSwapping01.ipynb\n",
      "2024-08-04  오후 03:59             6,931 Numpy-UniversalFunction01.ipynb\n",
      "2024-08-06  오후 04:45               168 some_array.npy\n",
      "              19개 파일             137,849 바이트\n",
      "               3개 디렉터리  910,910,005,248 바이트 남음\n"
     ]
    }
   ],
   "source": [
    "%ls"
   ]
  },
  {
   "cell_type": "code",
   "execution_count": 7,
   "id": "0f02767e-93e1-40e7-bf5c-36adbac75ffd",
   "metadata": {},
   "outputs": [
    {
     "data": {
      "text/plain": [
       "array([0, 1, 2, 3, 4, 5, 6, 7, 8, 9])"
      ]
     },
     "execution_count": 7,
     "metadata": {},
     "output_type": "execute_result"
    }
   ],
   "source": [
    "arch = np.load(\"array_archive.npz\")\n",
    "arch[\"b\"]"
   ]
  },
  {
   "cell_type": "code",
   "execution_count": 8,
   "id": "fe249508-54d4-4dd7-b3ad-9df6c49866c2",
   "metadata": {},
   "outputs": [],
   "source": [
    "np.savez_compressed(\"arrays_compressed.npz\", a=arr, b=arr)"
   ]
  },
  {
   "cell_type": "code",
   "execution_count": 9,
   "id": "4489dec8-20a0-439b-895a-06bdbde9d2c1",
   "metadata": {},
   "outputs": [
    {
     "name": "stdout",
     "output_type": "stream",
     "text": [
      " D 드라이브의 볼륨: Home\n",
      " 볼륨 일련 번호: C446-298C\n",
      "\n",
      " D:\\Home\\Project\\MachineLearning\\Numpy 디렉터리\n",
      "\n",
      "2024-08-06  오후 05:00    <DIR>          .\n",
      "2024-08-05  오후 09:04    <DIR>          ..\n",
      "2024-08-06  오후 04:45    <DIR>          .ipynb_checkpoints\n",
      "2024-08-06  오후 04:53               570 array_archive.npz\n",
      "2024-08-06  오후 05:00               422 arrays_compressed.npz\n",
      "2024-07-29  오후 03:26             2,492 Numpy_ndarray01.ipynb\n",
      "2024-07-30  오후 02:11             3,234 Numpy-Arithmetic01.ipynb\n",
      "2024-08-04  오후 04:21            60,628 Numpy-ArrayOrientedProgramming.ipynb\n",
      "2024-08-06  오후 04:36             5,973 Numpy-BooleanArray01.ipynb\n",
      "2024-07-31  오후 11:45             7,764 Numpy-BooleanIndexing01.ipynb\n",
      "2024-08-05  오후 12:50             4,258 Numpy-ConditionalLogic01.ipynb\n",
      "2024-07-31  오후 04:10             5,230 Numpy-CreateArray01.ipynb\n",
      "2024-07-30  오후 02:02             4,526 Numpy-Datatype01.ipynb\n",
      "2024-08-01  오후 01:51             4,774 Numpy-FancyIndexing01.ipynb\n",
      "2024-08-06  오후 04:59             6,550 Numpy-FileLoadStore01.ipynb\n",
      "2024-07-31  오후 04:10             7,962 Numpy-IndexingSlicing.ipynb\n",
      "2024-07-31  오후 04:10             4,924 Numpy-IndexingWithSlice01.ipynb\n",
      "2024-08-06  오후 04:36             5,794 Numpy-MathematicalStatisticalMethods01.ipynb\n",
      "2024-07-28  오후 03:55             1,485 Numpy-performance.ipynb\n",
      "2024-08-06  오후 04:36             3,073 Numpy-PseudorandomnumberGenerator01.ipynb\n",
      "2024-08-01  오후 01:36             4,506 Numpy-TransposingSwapping01.ipynb\n",
      "2024-08-04  오후 03:59             6,931 Numpy-UniversalFunction01.ipynb\n",
      "2024-08-06  오후 04:45               168 some_array.npy\n",
      "              20개 파일             141,264 바이트\n",
      "               3개 디렉터리  910,910,001,152 바이트 남음\n"
     ]
    }
   ],
   "source": [
    "%ls"
   ]
  },
  {
   "cell_type": "code",
   "execution_count": null,
   "id": "92f8d63b-da46-4c05-a7a5-5aee88e25a0b",
   "metadata": {},
   "outputs": [],
   "source": []
  }
 ],
 "metadata": {
  "kernelspec": {
   "display_name": "Python 3 (ipykernel)",
   "language": "python",
   "name": "python3"
  },
  "language_info": {
   "codemirror_mode": {
    "name": "ipython",
    "version": 3
   },
   "file_extension": ".py",
   "mimetype": "text/x-python",
   "name": "python",
   "nbconvert_exporter": "python",
   "pygments_lexer": "ipython3",
   "version": "3.12.4"
  }
 },
 "nbformat": 4,
 "nbformat_minor": 5
}
