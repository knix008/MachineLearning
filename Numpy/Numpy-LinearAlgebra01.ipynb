{
 "cells": [
  {
   "cell_type": "code",
   "execution_count": 1,
   "id": "f9f9b483-9ac8-4768-8f79-d7982af755fa",
   "metadata": {},
   "outputs": [
    {
     "data": {
      "text/plain": [
       "array([[1., 2., 3.],\n",
       "       [4., 5., 6.]])"
      ]
     },
     "execution_count": 1,
     "metadata": {},
     "output_type": "execute_result"
    }
   ],
   "source": [
    "import numpy as np\n",
    "\n",
    "x = np.array([[1., 2., 3.], [4., 5., 6.]])\n",
    "y = np.array([[6., 23.], [-1, 7], [8, 9]])\n",
    "x"
   ]
  },
  {
   "cell_type": "code",
   "execution_count": 2,
   "id": "c19a7eb9-a66a-41b4-8702-abbe89c78566",
   "metadata": {},
   "outputs": [
    {
     "data": {
      "text/plain": [
       "array([[ 6., 23.],\n",
       "       [-1.,  7.],\n",
       "       [ 8.,  9.]])"
      ]
     },
     "execution_count": 2,
     "metadata": {},
     "output_type": "execute_result"
    }
   ],
   "source": [
    "y"
   ]
  },
  {
   "cell_type": "code",
   "execution_count": 3,
   "id": "098f4373-f5d6-461d-81a9-2d04e251b68c",
   "metadata": {},
   "outputs": [
    {
     "data": {
      "text/plain": [
       "(2, 3)"
      ]
     },
     "execution_count": 3,
     "metadata": {},
     "output_type": "execute_result"
    }
   ],
   "source": [
    "x.shape"
   ]
  },
  {
   "cell_type": "code",
   "execution_count": 4,
   "id": "c5bd5784-fcb4-4894-9623-f2faa704a1fc",
   "metadata": {},
   "outputs": [
    {
     "data": {
      "text/plain": [
       "(3, 2)"
      ]
     },
     "execution_count": 4,
     "metadata": {},
     "output_type": "execute_result"
    }
   ],
   "source": [
    "y.shape"
   ]
  },
  {
   "cell_type": "code",
   "execution_count": 5,
   "id": "940b0c40-152d-4dee-9f9b-72cbc935473a",
   "metadata": {},
   "outputs": [
    {
     "data": {
      "text/plain": [
       "array([[ 28.,  64.],\n",
       "       [ 67., 181.]])"
      ]
     },
     "execution_count": 5,
     "metadata": {},
     "output_type": "execute_result"
    }
   ],
   "source": [
    "x.dot(y)"
   ]
  },
  {
   "cell_type": "code",
   "execution_count": 6,
   "id": "101306c5-d3ec-419f-9a8f-b8006480e7bf",
   "metadata": {},
   "outputs": [
    {
     "data": {
      "text/plain": [
       "array([[ 28.,  64.],\n",
       "       [ 67., 181.]])"
      ]
     },
     "execution_count": 6,
     "metadata": {},
     "output_type": "execute_result"
    }
   ],
   "source": [
    "np.dot(x, y)"
   ]
  },
  {
   "cell_type": "code",
   "execution_count": 7,
   "id": "71670570-c765-423c-a52d-f2e7ce43c6ef",
   "metadata": {},
   "outputs": [
    {
     "data": {
      "text/plain": [
       "array([1., 1., 1.])"
      ]
     },
     "execution_count": 7,
     "metadata": {},
     "output_type": "execute_result"
    }
   ],
   "source": [
    "np.ones(3)"
   ]
  },
  {
   "cell_type": "code",
   "execution_count": 8,
   "id": "0b4e3212-5d47-43d3-8b83-0c414f0f6a38",
   "metadata": {},
   "outputs": [
    {
     "data": {
      "text/plain": [
       "array([ 6., 15.])"
      ]
     },
     "execution_count": 8,
     "metadata": {},
     "output_type": "execute_result"
    }
   ],
   "source": [
    "x @ np.ones(3)"
   ]
  },
  {
   "cell_type": "code",
   "execution_count": 17,
   "id": "25de8d86-d658-438b-9bbc-6143f07cbe2f",
   "metadata": {},
   "outputs": [],
   "source": [
    "from numpy.linalg import inv, qr\n",
    "X = np.random.standard_normal((5, 5))"
   ]
  },
  {
   "cell_type": "code",
   "execution_count": 22,
   "id": "0967f548-afa2-4d9a-87df-6e11159f42d1",
   "metadata": {},
   "outputs": [],
   "source": [
    "mat = X.T.dot(X) # mat = X.T @ X\n",
    "#mat"
   ]
  },
  {
   "cell_type": "code",
   "execution_count": 19,
   "id": "6ae39f8a-bd8c-4f40-a0e2-33108f458564",
   "metadata": {},
   "outputs": [
    {
     "data": {
      "text/plain": [
       "array([[ 1.68872524,  0.96199656, -3.21630274,  0.32226387, -0.20245479],\n",
       "       [ 0.96199656,  1.4388891 , -2.21991681,  0.13506783,  0.72169174],\n",
       "       [-3.21630274, -2.21991681, 15.0650806 , -0.74213665,  3.33991754],\n",
       "       [ 0.32226387,  0.13506783, -0.74213665,  0.13943241, -0.14808383],\n",
       "       [-0.20245479,  0.72169174,  3.33991754, -0.14808383,  2.2243934 ]])"
      ]
     },
     "execution_count": 19,
     "metadata": {},
     "output_type": "execute_result"
    }
   ],
   "source": [
    "inv(mat)"
   ]
  },
  {
   "cell_type": "code",
   "execution_count": 24,
   "id": "832706ab-e255-485a-b1ee-75b70ef4d272",
   "metadata": {},
   "outputs": [
    {
     "data": {
      "text/plain": [
       "array([[ 1.00000000e+00,  5.56321446e-16, -2.36456056e-16,\n",
       "        -1.08962904e-16,  4.62144121e-17],\n",
       "       [-2.13288960e-16,  1.00000000e+00,  1.52636687e-15,\n",
       "         4.57650275e-17, -2.23913249e-15],\n",
       "       [-2.70489663e-16, -7.20838703e-16,  1.00000000e+00,\n",
       "        -1.07467843e-16,  7.40530260e-17],\n",
       "       [-3.19782384e-16, -2.27718707e-16,  8.68640106e-17,\n",
       "         1.00000000e+00, -3.61999688e-17],\n",
       "       [-3.33344012e-16,  2.04134641e-16, -4.05638258e-16,\n",
       "        -3.97601191e-17,  1.00000000e+00]])"
      ]
     },
     "execution_count": 24,
     "metadata": {},
     "output_type": "execute_result"
    }
   ],
   "source": [
    "mat @ inv(mat)"
   ]
  },
  {
   "cell_type": "code",
   "execution_count": 36,
   "id": "5f2e33df-53b3-4b99-be16-37553fd16ec1",
   "metadata": {},
   "outputs": [
    {
     "data": {
      "text/plain": [
       "array([[ 2,  4,  6],\n",
       "       [ 2,  0,  2],\n",
       "       [ 6,  8, 14]])"
      ]
     },
     "execution_count": 36,
     "metadata": {},
     "output_type": "execute_result"
    }
   ],
   "source": [
    "arr = np.array([[2,4,6],[2,0,2],[6,8,14]])\n",
    "arr"
   ]
  },
  {
   "cell_type": "code",
   "execution_count": 38,
   "id": "f9388082-a184-4488-a282-8e87050a6b27",
   "metadata": {},
   "outputs": [
    {
     "name": "stderr",
     "output_type": "stream",
     "text": [
      "C:\\Users\\shkwon\\AppData\\Local\\Temp\\ipykernel_24936\\2974657486.py:1: RuntimeWarning: invalid value encountered in cast\n",
      "  inv(arr).astype(int)\n"
     ]
    },
    {
     "data": {
      "text/plain": [
       "array([[-2147483648, -2147483648, -2147483648],\n",
       "       [-2147483648, -2147483648, -2147483648],\n",
       "       [-2147483648, -2147483648, -2147483648]])"
      ]
     },
     "execution_count": 38,
     "metadata": {},
     "output_type": "execute_result"
    }
   ],
   "source": [
    "inv(arr).astype(int)"
   ]
  },
  {
   "cell_type": "code",
   "execution_count": 35,
   "id": "2bbdbfa4-ee8f-45fd-a39e-c8da919f7da9",
   "metadata": {},
   "outputs": [
    {
     "data": {
      "text/plain": [
       "array([[ 8., -2., -4.],\n",
       "       [ 4.,  4., -2.],\n",
       "       [ 8.,  6., -4.]])"
      ]
     },
     "execution_count": 35,
     "metadata": {},
     "output_type": "execute_result"
    }
   ],
   "source": [
    "arr @ inv(arr)"
   ]
  },
  {
   "cell_type": "code",
   "execution_count": null,
   "id": "04e2cbc3-7749-47b6-b8be-90e28b4cad49",
   "metadata": {},
   "outputs": [],
   "source": []
  }
 ],
 "metadata": {
  "kernelspec": {
   "display_name": "Python 3 (ipykernel)",
   "language": "python",
   "name": "python3"
  },
  "language_info": {
   "codemirror_mode": {
    "name": "ipython",
    "version": 3
   },
   "file_extension": ".py",
   "mimetype": "text/x-python",
   "name": "python",
   "nbconvert_exporter": "python",
   "pygments_lexer": "ipython3",
   "version": "3.12.4"
  }
 },
 "nbformat": 4,
 "nbformat_minor": 5
}
