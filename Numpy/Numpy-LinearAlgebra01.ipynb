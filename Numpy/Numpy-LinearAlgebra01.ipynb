{
 "cells": [
  {
   "cell_type": "code",
   "execution_count": 2,
   "id": "f9f9b483-9ac8-4768-8f79-d7982af755fa",
   "metadata": {},
   "outputs": [
    {
     "data": {
      "text/plain": [
       "array([[1., 2., 3.],\n",
       "       [4., 5., 6.]])"
      ]
     },
     "execution_count": 2,
     "metadata": {},
     "output_type": "execute_result"
    }
   ],
   "source": [
    "import numpy as np\n",
    "\n",
    "x = np.array([[1., 2., 3.], [4., 5., 6.]])\n",
    "y = np.array([[6., 23.], [-1, 7], [8, 9]])\n",
    "x"
   ]
  },
  {
   "cell_type": "code",
   "execution_count": 3,
   "id": "c19a7eb9-a66a-41b4-8702-abbe89c78566",
   "metadata": {},
   "outputs": [
    {
     "data": {
      "text/plain": [
       "array([[ 6., 23.],\n",
       "       [-1.,  7.],\n",
       "       [ 8.,  9.]])"
      ]
     },
     "execution_count": 3,
     "metadata": {},
     "output_type": "execute_result"
    }
   ],
   "source": [
    "y"
   ]
  },
  {
   "cell_type": "code",
   "execution_count": 4,
   "id": "098f4373-f5d6-461d-81a9-2d04e251b68c",
   "metadata": {},
   "outputs": [
    {
     "data": {
      "text/plain": [
       "(2, 3)"
      ]
     },
     "execution_count": 4,
     "metadata": {},
     "output_type": "execute_result"
    }
   ],
   "source": [
    "x.shape"
   ]
  },
  {
   "cell_type": "code",
   "execution_count": 5,
   "id": "c5bd5784-fcb4-4894-9623-f2faa704a1fc",
   "metadata": {},
   "outputs": [
    {
     "data": {
      "text/plain": [
       "(3, 2)"
      ]
     },
     "execution_count": 5,
     "metadata": {},
     "output_type": "execute_result"
    }
   ],
   "source": [
    "y.shape"
   ]
  },
  {
   "cell_type": "code",
   "execution_count": 6,
   "id": "940b0c40-152d-4dee-9f9b-72cbc935473a",
   "metadata": {},
   "outputs": [
    {
     "data": {
      "text/plain": [
       "array([[ 28.,  64.],\n",
       "       [ 67., 181.]])"
      ]
     },
     "execution_count": 6,
     "metadata": {},
     "output_type": "execute_result"
    }
   ],
   "source": [
    "x.dot(y)"
   ]
  },
  {
   "cell_type": "code",
   "execution_count": 7,
   "id": "101306c5-d3ec-419f-9a8f-b8006480e7bf",
   "metadata": {},
   "outputs": [
    {
     "data": {
      "text/plain": [
       "array([[ 28.,  64.],\n",
       "       [ 67., 181.]])"
      ]
     },
     "execution_count": 7,
     "metadata": {},
     "output_type": "execute_result"
    }
   ],
   "source": [
    "np.dot(x, y)"
   ]
  },
  {
   "cell_type": "code",
   "execution_count": 8,
   "id": "71670570-c765-423c-a52d-f2e7ce43c6ef",
   "metadata": {},
   "outputs": [
    {
     "data": {
      "text/plain": [
       "array([1., 1., 1.])"
      ]
     },
     "execution_count": 8,
     "metadata": {},
     "output_type": "execute_result"
    }
   ],
   "source": [
    "np.ones(3)"
   ]
  },
  {
   "cell_type": "code",
   "execution_count": 9,
   "id": "0b4e3212-5d47-43d3-8b83-0c414f0f6a38",
   "metadata": {},
   "outputs": [
    {
     "data": {
      "text/plain": [
       "array([ 6., 15.])"
      ]
     },
     "execution_count": 9,
     "metadata": {},
     "output_type": "execute_result"
    }
   ],
   "source": [
    "x @ np.ones(3)"
   ]
  },
  {
   "cell_type": "code",
   "execution_count": 10,
   "id": "25de8d86-d658-438b-9bbc-6143f07cbe2f",
   "metadata": {},
   "outputs": [],
   "source": [
    "from numpy.linalg import inv, qr\n",
    "X = np.random.standard_normal((5, 5))"
   ]
  },
  {
   "cell_type": "code",
   "execution_count": 11,
   "id": "0967f548-afa2-4d9a-87df-6e11159f42d1",
   "metadata": {},
   "outputs": [],
   "source": [
    "mat = X.T.dot(X) # mat = X.T @ X\n",
    "#mat"
   ]
  },
  {
   "cell_type": "code",
   "execution_count": 12,
   "id": "6ae39f8a-bd8c-4f40-a0e2-33108f458564",
   "metadata": {},
   "outputs": [
    {
     "data": {
      "text/plain": [
       "array([[ 0.73849331,  3.02166525,  3.29524085,  0.65633989,  0.466189  ],\n",
       "       [ 3.02166525, 14.35264591, 15.7331953 ,  3.143609  ,  2.07606602],\n",
       "       [ 3.29524085, 15.7331953 , 17.6569923 ,  3.34925105,  2.24586592],\n",
       "       [ 0.65633989,  3.143609  ,  3.34925105,  0.93224102,  0.51525165],\n",
       "       [ 0.466189  ,  2.07606602,  2.24586592,  0.51525165,  0.42195443]])"
      ]
     },
     "execution_count": 12,
     "metadata": {},
     "output_type": "execute_result"
    }
   ],
   "source": [
    "inv(mat)"
   ]
  },
  {
   "cell_type": "code",
   "execution_count": 13,
   "id": "832706ab-e255-485a-b1ee-75b70ef4d272",
   "metadata": {},
   "outputs": [
    {
     "data": {
      "text/plain": [
       "array([[ 1.00000000e+00,  3.90743246e-16,  1.95985744e-15,\n",
       "         1.19700602e-15, -1.02107403e-16],\n",
       "       [ 1.09062093e-15,  1.00000000e+00, -1.33601476e-14,\n",
       "        -2.03296222e-16,  2.06454705e-17],\n",
       "       [-1.16196240e-15, -4.74822941e-15,  1.00000000e+00,\n",
       "         6.51955513e-16,  2.96121127e-16],\n",
       "       [ 2.79927016e-16, -1.19156081e-16,  5.44952179e-15,\n",
       "         1.00000000e+00,  8.80020118e-16],\n",
       "       [-5.17727796e-16, -1.19632406e-15,  1.97747665e-15,\n",
       "         1.44368954e-16,  1.00000000e+00]])"
      ]
     },
     "execution_count": 13,
     "metadata": {},
     "output_type": "execute_result"
    }
   ],
   "source": [
    "mat @ inv(mat)"
   ]
  },
  {
   "cell_type": "code",
   "execution_count": 14,
   "id": "5f2e33df-53b3-4b99-be16-37553fd16ec1",
   "metadata": {},
   "outputs": [
    {
     "data": {
      "text/plain": [
       "array([[ 2,  4,  6],\n",
       "       [ 2,  0,  2],\n",
       "       [ 6,  8, 14]])"
      ]
     },
     "execution_count": 14,
     "metadata": {},
     "output_type": "execute_result"
    }
   ],
   "source": [
    "arr = np.array([[2,4,6],[2,0,2],[6,8,14]])\n",
    "arr"
   ]
  },
  {
   "cell_type": "code",
   "execution_count": 16,
   "id": "7d6a929c-12c6-4a9b-81d0-39ef6c8f8e41",
   "metadata": {},
   "outputs": [
    {
     "data": {
      "text/plain": [
       "array([[ 1.35107989e+16,  6.75539944e+15, -6.75539944e+15],\n",
       "       [ 1.35107989e+16,  6.75539944e+15, -6.75539944e+15],\n",
       "       [-1.35107989e+16, -6.75539944e+15,  6.75539944e+15]])"
      ]
     },
     "execution_count": 16,
     "metadata": {},
     "output_type": "execute_result"
    }
   ],
   "source": [
    "inv(arr)"
   ]
  },
  {
   "cell_type": "code",
   "execution_count": 18,
   "id": "2bbdbfa4-ee8f-45fd-a39e-c8da919f7da9",
   "metadata": {},
   "outputs": [
    {
     "data": {
      "text/plain": [
       "array([[ 8., -2., -4.],\n",
       "       [ 4.,  4., -2.],\n",
       "       [ 8.,  6., -4.]])"
      ]
     },
     "execution_count": 18,
     "metadata": {},
     "output_type": "execute_result"
    }
   ],
   "source": [
    "arr @ inv(arr)"
   ]
  },
  {
   "cell_type": "code",
   "execution_count": 31,
   "id": "04e2cbc3-7749-47b6-b8be-90e28b4cad49",
   "metadata": {},
   "outputs": [
    {
     "data": {
      "text/plain": [
       "array([[ 1.00000000e+00,  6.29272340e-16,  2.37550668e-16,\n",
       "         1.53981014e-15,  5.43097321e-16],\n",
       "       [ 4.54611148e-17,  1.00000000e+00, -1.79467097e-16,\n",
       "         1.27556468e-17, -2.89964789e-16],\n",
       "       [ 2.07381499e-16,  2.20371225e-16,  1.00000000e+00,\n",
       "        -1.01683491e-16,  1.91458609e-16],\n",
       "       [ 1.29088012e-16,  2.45976428e-16, -6.77438243e-17,\n",
       "         1.00000000e+00, -7.12022926e-17],\n",
       "       [-4.03767888e-16, -1.93855268e-16,  4.39202404e-17,\n",
       "         9.83949707e-16,  1.00000000e+00]])"
      ]
     },
     "execution_count": 31,
     "metadata": {},
     "output_type": "execute_result"
    }
   ],
   "source": [
    "from numpy.linalg import inv, qr\n",
    "from random import normalvariate\n",
    "\n",
    "rng = np.random.default_rng()\n",
    "X = rng.standard_normal((5, 5))\n",
    "mat = X.T @ X\n",
    "mat @ inv(mat)"
   ]
  },
  {
   "cell_type": "code",
   "execution_count": null,
   "id": "ecfcf927-5171-41b5-8f5f-47fed7cbd826",
   "metadata": {},
   "outputs": [],
   "source": []
  }
 ],
 "metadata": {
  "kernelspec": {
   "display_name": "Python 3 (ipykernel)",
   "language": "python",
   "name": "python3"
  },
  "language_info": {
   "codemirror_mode": {
    "name": "ipython",
    "version": 3
   },
   "file_extension": ".py",
   "mimetype": "text/x-python",
   "name": "python",
   "nbconvert_exporter": "python",
   "pygments_lexer": "ipython3",
   "version": "3.12.4"
  }
 },
 "nbformat": 4,
 "nbformat_minor": 5
}
