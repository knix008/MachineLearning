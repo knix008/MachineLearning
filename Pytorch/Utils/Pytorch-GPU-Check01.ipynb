{
 "cells": [
  {
   "cell_type": "code",
   "execution_count": 1,
   "id": "480f8b0f-aabe-47af-924c-200d3f576fb6",
   "metadata": {},
   "outputs": [
    {
     "name": "stdout",
     "output_type": "stream",
     "text": [
      "GPU Available: True\n",
      "tensor([[0.6679, 0.3696, 0.4306],\n",
      "        [0.5191, 0.8496, 0.8831],\n",
      "        [0.6323, 0.2339, 0.0761],\n",
      "        [0.4086, 0.1309, 0.7506],\n",
      "        [0.0240, 0.3068, 0.5552]])\n"
     ]
    }
   ],
   "source": [
    "import torch\n",
    "\n",
    "# GPU available --> True, else --> False\n",
    "print(\"GPU Available:\", torch.cuda.is_available())\n",
    "\n",
    "x = torch.rand(5, 3)\n",
    "print(x) "
   ]
  },
  {
   "cell_type": "code",
   "execution_count": 2,
   "id": "0c692abd-48b7-4009-93b2-a2c86d096f44",
   "metadata": {},
   "outputs": [
    {
     "name": "stdout",
     "output_type": "stream",
     "text": [
      "Pytorch versin:  2.4.1+cu124\n"
     ]
    }
   ],
   "source": [
    "print(\"Pytorch versin: \", torch.__version__) "
   ]
  },
  {
   "cell_type": "code",
   "execution_count": null,
   "id": "257c1499-6bb4-4b3e-b26c-f55514366180",
   "metadata": {},
   "outputs": [],
   "source": []
  }
 ],
 "metadata": {
  "kernelspec": {
   "display_name": "Python 3 (ipykernel)",
   "language": "python",
   "name": "python3"
  },
  "language_info": {
   "codemirror_mode": {
    "name": "ipython",
    "version": 3
   },
   "file_extension": ".py",
   "mimetype": "text/x-python",
   "name": "python",
   "nbconvert_exporter": "python",
   "pygments_lexer": "ipython3",
   "version": "3.12.4"
  },
  "widgets": {
   "application/vnd.jupyter.widget-state+json": {
    "state": {},
    "version_major": 2,
    "version_minor": 0
   }
  }
 },
 "nbformat": 4,
 "nbformat_minor": 5
}
